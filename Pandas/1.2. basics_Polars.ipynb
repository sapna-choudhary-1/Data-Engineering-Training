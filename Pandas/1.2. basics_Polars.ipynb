{
 "cells": [
  {
   "cell_type": "code",
   "execution_count": 2,
   "id": "56f078b2",
   "metadata": {},
   "outputs": [],
   "source": [
    "import pandas as pd\n",
    "import polars as pl\n",
    "from datetime import datetime"
   ]
  },
  {
   "cell_type": "code",
   "execution_count": 21,
   "id": "6dd4f064",
   "metadata": {},
   "outputs": [
    {
     "data": {
      "text/html": [
       "<div>\n",
       "<style scoped>\n",
       "    .dataframe tbody tr th:only-of-type {\n",
       "        vertical-align: middle;\n",
       "    }\n",
       "\n",
       "    .dataframe tbody tr th {\n",
       "        vertical-align: top;\n",
       "    }\n",
       "\n",
       "    .dataframe thead th {\n",
       "        text-align: right;\n",
       "    }\n",
       "</style>\n",
       "<table border=\"1\" class=\"dataframe\">\n",
       "  <thead>\n",
       "    <tr style=\"text-align: right;\">\n",
       "      <th></th>\n",
       "      <th>id</th>\n",
       "      <th>name</th>\n",
       "      <th>age</th>\n",
       "      <th>salary</th>\n",
       "      <th>dept</th>\n",
       "    </tr>\n",
       "  </thead>\n",
       "  <tbody>\n",
       "    <tr>\n",
       "      <th>0</th>\n",
       "      <td>1</td>\n",
       "      <td>Alice</td>\n",
       "      <td>25</td>\n",
       "      <td>50000</td>\n",
       "      <td>HR</td>\n",
       "    </tr>\n",
       "    <tr>\n",
       "      <th>1</th>\n",
       "      <td>2</td>\n",
       "      <td>Bob</td>\n",
       "      <td>30</td>\n",
       "      <td>60000</td>\n",
       "      <td>IT</td>\n",
       "    </tr>\n",
       "    <tr>\n",
       "      <th>2</th>\n",
       "      <td>3</td>\n",
       "      <td>Charlie</td>\n",
       "      <td>35</td>\n",
       "      <td>55000</td>\n",
       "      <td>IT</td>\n",
       "    </tr>\n",
       "    <tr>\n",
       "      <th>3</th>\n",
       "      <td>4</td>\n",
       "      <td>David</td>\n",
       "      <td>40</td>\n",
       "      <td>70000</td>\n",
       "      <td>Finance</td>\n",
       "    </tr>\n",
       "    <tr>\n",
       "      <th>4</th>\n",
       "      <td>5</td>\n",
       "      <td>Eve</td>\n",
       "      <td>28</td>\n",
       "      <td>65000</td>\n",
       "      <td>HR</td>\n",
       "    </tr>\n",
       "  </tbody>\n",
       "</table>\n",
       "</div>"
      ],
      "text/plain": [
       "   id     name  age  salary     dept\n",
       "0   1    Alice   25   50000       HR\n",
       "1   2      Bob   30   60000       IT\n",
       "2   3  Charlie   35   55000       IT\n",
       "3   4    David   40   70000  Finance\n",
       "4   5      Eve   28   65000       HR"
      ]
     },
     "execution_count": 21,
     "metadata": {},
     "output_type": "execute_result"
    }
   ],
   "source": [
    "data = {\n",
    "    \"id\": [1, 2, 3, 4, 5],\n",
    "    \"name\": [\"Alice\", \"Bob\", \"Charlie\", \"David\", \"Eve\"],\n",
    "    \"age\": [25, 30, 35, 40, 28],\n",
    "    \"salary\": [50000, 60000, 55000, 70000, 65000],\n",
    "    \"dept\": [\"HR\", \"IT\", \"IT\", \"Finance\", \"HR\"]\n",
    "}\n",
    "\n",
    "dpd = pd.DataFrame(data)\n",
    "dpd"
   ]
  },
  {
   "cell_type": "code",
   "execution_count": 22,
   "id": "2c0f494b",
   "metadata": {},
   "outputs": [
    {
     "data": {
      "text/html": [
       "<div><style>\n",
       ".dataframe > thead > tr,\n",
       ".dataframe > tbody > tr {\n",
       "  text-align: right;\n",
       "  white-space: pre-wrap;\n",
       "}\n",
       "</style>\n",
       "<small>shape: (5, 5)</small><table border=\"1\" class=\"dataframe\"><thead><tr><th>id</th><th>name</th><th>age</th><th>salary</th><th>dept</th></tr><tr><td>i64</td><td>str</td><td>i64</td><td>i64</td><td>str</td></tr></thead><tbody><tr><td>1</td><td>&quot;Alice&quot;</td><td>25</td><td>50000</td><td>&quot;HR&quot;</td></tr><tr><td>2</td><td>&quot;Bob&quot;</td><td>30</td><td>60000</td><td>&quot;IT&quot;</td></tr><tr><td>3</td><td>&quot;Charlie&quot;</td><td>35</td><td>55000</td><td>&quot;IT&quot;</td></tr><tr><td>4</td><td>&quot;David&quot;</td><td>40</td><td>70000</td><td>&quot;Finance&quot;</td></tr><tr><td>5</td><td>&quot;Eve&quot;</td><td>28</td><td>65000</td><td>&quot;HR&quot;</td></tr></tbody></table></div>"
      ],
      "text/plain": [
       "shape: (5, 5)\n",
       "┌─────┬─────────┬─────┬────────┬─────────┐\n",
       "│ id  ┆ name    ┆ age ┆ salary ┆ dept    │\n",
       "│ --- ┆ ---     ┆ --- ┆ ---    ┆ ---     │\n",
       "│ i64 ┆ str     ┆ i64 ┆ i64    ┆ str     │\n",
       "╞═════╪═════════╪═════╪════════╪═════════╡\n",
       "│ 1   ┆ Alice   ┆ 25  ┆ 50000  ┆ HR      │\n",
       "│ 2   ┆ Bob     ┆ 30  ┆ 60000  ┆ IT      │\n",
       "│ 3   ┆ Charlie ┆ 35  ┆ 55000  ┆ IT      │\n",
       "│ 4   ┆ David   ┆ 40  ┆ 70000  ┆ Finance │\n",
       "│ 5   ┆ Eve     ┆ 28  ┆ 65000  ┆ HR      │\n",
       "└─────┴─────────┴─────┴────────┴─────────┘"
      ]
     },
     "execution_count": 22,
     "metadata": {},
     "output_type": "execute_result"
    }
   ],
   "source": [
    "dpl = pl.DataFrame(data)\n",
    "dpl"
   ]
  },
  {
   "cell_type": "code",
   "execution_count": 6,
   "id": "29a07d8b",
   "metadata": {},
   "outputs": [
    {
     "data": {
      "text/plain": [
       "0      Alice\n",
       "1        Bob\n",
       "2    Charlie\n",
       "3      David\n",
       "4        Eve\n",
       "Name: name, dtype: object"
      ]
     },
     "execution_count": 6,
     "metadata": {},
     "output_type": "execute_result"
    }
   ],
   "source": [
    "dpd['name']"
   ]
  },
  {
   "cell_type": "code",
   "execution_count": 7,
   "id": "12f3433a",
   "metadata": {},
   "outputs": [
    {
     "data": {
      "text/html": [
       "<div><style>\n",
       ".dataframe > thead > tr,\n",
       ".dataframe > tbody > tr {\n",
       "  text-align: right;\n",
       "  white-space: pre-wrap;\n",
       "}\n",
       "</style>\n",
       "<small>shape: (5,)</small><table border=\"1\" class=\"dataframe\"><thead><tr><th>name</th></tr><tr><td>str</td></tr></thead><tbody><tr><td>&quot;Alice&quot;</td></tr><tr><td>&quot;Bob&quot;</td></tr><tr><td>&quot;Charlie&quot;</td></tr><tr><td>&quot;David&quot;</td></tr><tr><td>&quot;Eve&quot;</td></tr></tbody></table></div>"
      ],
      "text/plain": [
       "shape: (5,)\n",
       "Series: 'name' [str]\n",
       "[\n",
       "\t\"Alice\"\n",
       "\t\"Bob\"\n",
       "\t\"Charlie\"\n",
       "\t\"David\"\n",
       "\t\"Eve\"\n",
       "]"
      ]
     },
     "execution_count": 7,
     "metadata": {},
     "output_type": "execute_result"
    }
   ],
   "source": [
    "dpl['name']"
   ]
  },
  {
   "cell_type": "code",
   "execution_count": 8,
   "id": "4dd83b11",
   "metadata": {},
   "outputs": [
    {
     "data": {
      "text/html": [
       "<div><style>\n",
       ".dataframe > thead > tr,\n",
       ".dataframe > tbody > tr {\n",
       "  text-align: right;\n",
       "  white-space: pre-wrap;\n",
       "}\n",
       "</style>\n",
       "<small>shape: (5, 1)</small><table border=\"1\" class=\"dataframe\"><thead><tr><th>name</th></tr><tr><td>str</td></tr></thead><tbody><tr><td>&quot;Alice&quot;</td></tr><tr><td>&quot;Bob&quot;</td></tr><tr><td>&quot;Charlie&quot;</td></tr><tr><td>&quot;David&quot;</td></tr><tr><td>&quot;Eve&quot;</td></tr></tbody></table></div>"
      ],
      "text/plain": [
       "shape: (5, 1)\n",
       "┌─────────┐\n",
       "│ name    │\n",
       "│ ---     │\n",
       "│ str     │\n",
       "╞═════════╡\n",
       "│ Alice   │\n",
       "│ Bob     │\n",
       "│ Charlie │\n",
       "│ David   │\n",
       "│ Eve     │\n",
       "└─────────┘"
      ]
     },
     "execution_count": 8,
     "metadata": {},
     "output_type": "execute_result"
    }
   ],
   "source": [
    "dpl.select('name')"
   ]
  },
  {
   "cell_type": "code",
   "execution_count": 9,
   "id": "c1ebd569",
   "metadata": {},
   "outputs": [
    {
     "data": {
      "text/html": [
       "col(\"name\")"
      ],
      "text/plain": [
       "<Expr ['col(\"name\")'] at 0x7BC89C9EB220>"
      ]
     },
     "execution_count": 9,
     "metadata": {},
     "output_type": "execute_result"
    }
   ],
   "source": [
    "pl.col(\"name\")"
   ]
  },
  {
   "cell_type": "code",
   "execution_count": 10,
   "id": "af20d6ac",
   "metadata": {},
   "outputs": [
    {
     "data": {
      "text/html": [
       "<div><style>\n",
       ".dataframe > thead > tr,\n",
       ".dataframe > tbody > tr {\n",
       "  text-align: right;\n",
       "  white-space: pre-wrap;\n",
       "}\n",
       "</style>\n",
       "<small>shape: (5, 2)</small><table border=\"1\" class=\"dataframe\"><thead><tr><th>name</th><th>salary</th></tr><tr><td>str</td><td>i64</td></tr></thead><tbody><tr><td>&quot;Alice&quot;</td><td>50000</td></tr><tr><td>&quot;Bob&quot;</td><td>60000</td></tr><tr><td>&quot;Charlie&quot;</td><td>55000</td></tr><tr><td>&quot;David&quot;</td><td>70000</td></tr><tr><td>&quot;Eve&quot;</td><td>65000</td></tr></tbody></table></div>"
      ],
      "text/plain": [
       "shape: (5, 2)\n",
       "┌─────────┬────────┐\n",
       "│ name    ┆ salary │\n",
       "│ ---     ┆ ---    │\n",
       "│ str     ┆ i64    │\n",
       "╞═════════╪════════╡\n",
       "│ Alice   ┆ 50000  │\n",
       "│ Bob     ┆ 60000  │\n",
       "│ Charlie ┆ 55000  │\n",
       "│ David   ┆ 70000  │\n",
       "│ Eve     ┆ 65000  │\n",
       "└─────────┴────────┘"
      ]
     },
     "execution_count": 10,
     "metadata": {},
     "output_type": "execute_result"
    }
   ],
   "source": [
    "dpl.select([pl.col(\"name\"), pl.col(\"salary\")])"
   ]
  },
  {
   "cell_type": "code",
   "execution_count": 11,
   "id": "3e4ef30f",
   "metadata": {},
   "outputs": [
    {
     "data": {
      "text/html": [
       "<div><style>\n",
       ".dataframe > thead > tr,\n",
       ".dataframe > tbody > tr {\n",
       "  text-align: right;\n",
       "  white-space: pre-wrap;\n",
       "}\n",
       "</style>\n",
       "<small>shape: (5, 2)</small><table border=\"1\" class=\"dataframe\"><thead><tr><th>name</th><th>salary</th></tr><tr><td>str</td><td>i64</td></tr></thead><tbody><tr><td>&quot;Alice&quot;</td><td>50000</td></tr><tr><td>&quot;Bob&quot;</td><td>60000</td></tr><tr><td>&quot;Charlie&quot;</td><td>55000</td></tr><tr><td>&quot;David&quot;</td><td>70000</td></tr><tr><td>&quot;Eve&quot;</td><td>65000</td></tr></tbody></table></div>"
      ],
      "text/plain": [
       "shape: (5, 2)\n",
       "┌─────────┬────────┐\n",
       "│ name    ┆ salary │\n",
       "│ ---     ┆ ---    │\n",
       "│ str     ┆ i64    │\n",
       "╞═════════╪════════╡\n",
       "│ Alice   ┆ 50000  │\n",
       "│ Bob     ┆ 60000  │\n",
       "│ Charlie ┆ 55000  │\n",
       "│ David   ┆ 70000  │\n",
       "│ Eve     ┆ 65000  │\n",
       "└─────────┴────────┘"
      ]
     },
     "execution_count": 11,
     "metadata": {},
     "output_type": "execute_result"
    }
   ],
   "source": [
    "dpl.select(['name', 'salary'])"
   ]
  },
  {
   "cell_type": "markdown",
   "id": "d3ff6c03",
   "metadata": {},
   "source": [
    "##### select"
   ]
  },
  {
   "cell_type": "code",
   "execution_count": 12,
   "id": "406177b4",
   "metadata": {},
   "outputs": [],
   "source": [
    "# ❌❌ ERROR:- AttributeError: 'str' object has no attribute 'mean' ❌❌\n",
    "\n",
    "# dpl.select(['salary'.mean().alias('avg_salary'),\n",
    "#             'age'.max().alias('oldest_age')])"
   ]
  },
  {
   "cell_type": "code",
   "execution_count": 13,
   "id": "50f669aa",
   "metadata": {},
   "outputs": [
    {
     "data": {
      "text/html": [
       "<div><style>\n",
       ".dataframe > thead > tr,\n",
       ".dataframe > tbody > tr {\n",
       "  text-align: right;\n",
       "  white-space: pre-wrap;\n",
       "}\n",
       "</style>\n",
       "<small>shape: (1, 2)</small><table border=\"1\" class=\"dataframe\"><thead><tr><th>avg_salary</th><th>oldest_age</th></tr><tr><td>f64</td><td>i64</td></tr></thead><tbody><tr><td>60000.0</td><td>40</td></tr></tbody></table></div>"
      ],
      "text/plain": [
       "shape: (1, 2)\n",
       "┌────────────┬────────────┐\n",
       "│ avg_salary ┆ oldest_age │\n",
       "│ ---        ┆ ---        │\n",
       "│ f64        ┆ i64        │\n",
       "╞════════════╪════════════╡\n",
       "│ 60000.0    ┆ 40         │\n",
       "└────────────┴────────────┘"
      ]
     },
     "execution_count": 13,
     "metadata": {},
     "output_type": "execute_result"
    }
   ],
   "source": [
    "dpl.select([pl.col(\"salary\").mean().alias('avg_salary'),\n",
    "            pl.col(\"age\").max().alias('oldest_age')])"
   ]
  },
  {
   "cell_type": "code",
   "execution_count": 56,
   "id": "20cbaa1f",
   "metadata": {},
   "outputs": [
    {
     "data": {
      "text/html": [
       "<div><style>\n",
       ".dataframe > thead > tr,\n",
       ".dataframe > tbody > tr {\n",
       "  text-align: right;\n",
       "  white-space: pre-wrap;\n",
       "}\n",
       "</style>\n",
       "<small>shape: (5, 6)</small><table border=\"1\" class=\"dataframe\"><thead><tr><th>id</th><th>name</th><th>age</th><th>salary</th><th>dept</th><th>load_timestamp</th></tr><tr><td>str</td><td>str</td><td>str</td><td>str</td><td>str</td><td>datetime[μs]</td></tr></thead><tbody><tr><td>&quot;1&quot;</td><td>&quot;Alice&quot;</td><td>&quot;25&quot;</td><td>&quot;50000&quot;</td><td>&quot;HR&quot;</td><td>2025-08-28 12:39:16.174166</td></tr><tr><td>&quot;2&quot;</td><td>&quot;Bob&quot;</td><td>&quot;30&quot;</td><td>&quot;60000&quot;</td><td>&quot;IT&quot;</td><td>2025-08-28 12:39:16.174166</td></tr><tr><td>&quot;3&quot;</td><td>&quot;Charlie&quot;</td><td>&quot;35&quot;</td><td>&quot;55000&quot;</td><td>&quot;IT&quot;</td><td>2025-08-28 12:39:16.174166</td></tr><tr><td>&quot;4&quot;</td><td>&quot;David&quot;</td><td>&quot;40&quot;</td><td>&quot;70000&quot;</td><td>&quot;Finance&quot;</td><td>2025-08-28 12:39:16.174166</td></tr><tr><td>&quot;5&quot;</td><td>&quot;Eve&quot;</td><td>&quot;28&quot;</td><td>&quot;65000&quot;</td><td>&quot;HR&quot;</td><td>2025-08-28 12:39:16.174166</td></tr></tbody></table></div>"
      ],
      "text/plain": [
       "shape: (5, 6)\n",
       "┌─────┬─────────┬─────┬────────┬─────────┬────────────────────────────┐\n",
       "│ id  ┆ name    ┆ age ┆ salary ┆ dept    ┆ load_timestamp             │\n",
       "│ --- ┆ ---     ┆ --- ┆ ---    ┆ ---     ┆ ---                        │\n",
       "│ str ┆ str     ┆ str ┆ str    ┆ str     ┆ datetime[μs]               │\n",
       "╞═════╪═════════╪═════╪════════╪═════════╪════════════════════════════╡\n",
       "│ 1   ┆ Alice   ┆ 25  ┆ 50000  ┆ HR      ┆ 2025-08-28 12:39:16.174166 │\n",
       "│ 2   ┆ Bob     ┆ 30  ┆ 60000  ┆ IT      ┆ 2025-08-28 12:39:16.174166 │\n",
       "│ 3   ┆ Charlie ┆ 35  ┆ 55000  ┆ IT      ┆ 2025-08-28 12:39:16.174166 │\n",
       "│ 4   ┆ David   ┆ 40  ┆ 70000  ┆ Finance ┆ 2025-08-28 12:39:16.174166 │\n",
       "│ 5   ┆ Eve     ┆ 28  ┆ 65000  ┆ HR      ┆ 2025-08-28 12:39:16.174166 │\n",
       "└─────┴─────────┴─────┴────────┴─────────┴────────────────────────────┘"
      ]
     },
     "execution_count": 56,
     "metadata": {},
     "output_type": "execute_result"
    }
   ],
   "source": [
    "dpl.select([pl.all().cast(pl.Utf8)]).with_columns(pl.lit(datetime.now()).alias(\"load_timestamp\"))"
   ]
  },
  {
   "cell_type": "markdown",
   "id": "fa3a4dd1",
   "metadata": {},
   "source": [
    "### Row_numbers"
   ]
  },
  {
   "cell_type": "code",
   "execution_count": 15,
   "id": "e2b2588c",
   "metadata": {},
   "outputs": [
    {
     "data": {
      "text/plain": [
       "5"
      ]
     },
     "execution_count": 15,
     "metadata": {},
     "output_type": "execute_result"
    }
   ],
   "source": [
    "dpl.height "
   ]
  },
  {
   "cell_type": "code",
   "execution_count": 16,
   "id": "5ce1722d",
   "metadata": {},
   "outputs": [
    {
     "data": {
      "text/plain": [
       "range(0, 5)"
      ]
     },
     "execution_count": 16,
     "metadata": {},
     "output_type": "execute_result"
    }
   ],
   "source": [
    "range(dpl.height)"
   ]
  },
  {
   "cell_type": "code",
   "execution_count": 24,
   "id": "ee83a719",
   "metadata": {},
   "outputs": [
    {
     "data": {
      "text/html": [
       "<div><style>\n",
       ".dataframe > thead > tr,\n",
       ".dataframe > tbody > tr {\n",
       "  text-align: right;\n",
       "  white-space: pre-wrap;\n",
       "}\n",
       "</style>\n",
       "<small>shape: (5, 5)</small><table border=\"1\" class=\"dataframe\"><thead><tr><th>id</th><th>name</th><th>age</th><th>salary</th><th>dept</th></tr><tr><td>i64</td><td>str</td><td>i64</td><td>i64</td><td>str</td></tr></thead><tbody><tr><td>1</td><td>&quot;Alice&quot;</td><td>25</td><td>50000</td><td>&quot;HR&quot;</td></tr><tr><td>2</td><td>&quot;Bob&quot;</td><td>30</td><td>60000</td><td>&quot;IT&quot;</td></tr><tr><td>3</td><td>&quot;Charlie&quot;</td><td>35</td><td>55000</td><td>&quot;IT&quot;</td></tr><tr><td>4</td><td>&quot;David&quot;</td><td>40</td><td>70000</td><td>&quot;Finance&quot;</td></tr><tr><td>5</td><td>&quot;Eve&quot;</td><td>28</td><td>65000</td><td>&quot;HR&quot;</td></tr></tbody></table></div>"
      ],
      "text/plain": [
       "shape: (5, 5)\n",
       "┌─────┬─────────┬─────┬────────┬─────────┐\n",
       "│ id  ┆ name    ┆ age ┆ salary ┆ dept    │\n",
       "│ --- ┆ ---     ┆ --- ┆ ---    ┆ ---     │\n",
       "│ i64 ┆ str     ┆ i64 ┆ i64    ┆ str     │\n",
       "╞═════╪═════════╪═════╪════════╪═════════╡\n",
       "│ 1   ┆ Alice   ┆ 25  ┆ 50000  ┆ HR      │\n",
       "│ 2   ┆ Bob     ┆ 30  ┆ 60000  ┆ IT      │\n",
       "│ 3   ┆ Charlie ┆ 35  ┆ 55000  ┆ IT      │\n",
       "│ 4   ┆ David   ┆ 40  ┆ 70000  ┆ Finance │\n",
       "│ 5   ┆ Eve     ┆ 28  ┆ 65000  ┆ HR      │\n",
       "└─────┴─────────┴─────┴────────┴─────────┘"
      ]
     },
     "execution_count": 24,
     "metadata": {},
     "output_type": "execute_result"
    }
   ],
   "source": [
    "dpl"
   ]
  },
  {
   "cell_type": "code",
   "execution_count": 27,
   "id": "52ca2fb3",
   "metadata": {},
   "outputs": [
    {
     "data": {
      "text/html": [
       "<div><style>\n",
       ".dataframe > thead > tr,\n",
       ".dataframe > tbody > tr {\n",
       "  text-align: right;\n",
       "  white-space: pre-wrap;\n",
       "}\n",
       "</style>\n",
       "<small>shape: (5, 6)</small><table border=\"1\" class=\"dataframe\"><thead><tr><th>index</th><th>id</th><th>name</th><th>age</th><th>salary</th><th>dept</th></tr><tr><td>u32</td><td>i64</td><td>str</td><td>i64</td><td>i64</td><td>str</td></tr></thead><tbody><tr><td>0</td><td>1</td><td>&quot;Alice&quot;</td><td>25</td><td>50000</td><td>&quot;HR&quot;</td></tr><tr><td>1</td><td>2</td><td>&quot;Bob&quot;</td><td>30</td><td>60000</td><td>&quot;IT&quot;</td></tr><tr><td>2</td><td>3</td><td>&quot;Charlie&quot;</td><td>35</td><td>55000</td><td>&quot;IT&quot;</td></tr><tr><td>3</td><td>4</td><td>&quot;David&quot;</td><td>40</td><td>70000</td><td>&quot;Finance&quot;</td></tr><tr><td>4</td><td>5</td><td>&quot;Eve&quot;</td><td>28</td><td>65000</td><td>&quot;HR&quot;</td></tr></tbody></table></div>"
      ],
      "text/plain": [
       "shape: (5, 6)\n",
       "┌───────┬─────┬─────────┬─────┬────────┬─────────┐\n",
       "│ index ┆ id  ┆ name    ┆ age ┆ salary ┆ dept    │\n",
       "│ ---   ┆ --- ┆ ---     ┆ --- ┆ ---    ┆ ---     │\n",
       "│ u32   ┆ i64 ┆ str     ┆ i64 ┆ i64    ┆ str     │\n",
       "╞═══════╪═════╪═════════╪═════╪════════╪═════════╡\n",
       "│ 0     ┆ 1   ┆ Alice   ┆ 25  ┆ 50000  ┆ HR      │\n",
       "│ 1     ┆ 2   ┆ Bob     ┆ 30  ┆ 60000  ┆ IT      │\n",
       "│ 2     ┆ 3   ┆ Charlie ┆ 35  ┆ 55000  ┆ IT      │\n",
       "│ 3     ┆ 4   ┆ David   ┆ 40  ┆ 70000  ┆ Finance │\n",
       "│ 4     ┆ 5   ┆ Eve     ┆ 28  ┆ 65000  ┆ HR      │\n",
       "└───────┴─────┴─────────┴─────┴────────┴─────────┘"
      ]
     },
     "execution_count": 27,
     "metadata": {},
     "output_type": "execute_result"
    }
   ],
   "source": [
    "dpl.with_row_index(\"index\")"
   ]
  },
  {
   "cell_type": "code",
   "execution_count": 33,
   "id": "18937ee5",
   "metadata": {},
   "outputs": [
    {
     "data": {
      "text/html": [
       "<div><style>\n",
       ".dataframe > thead > tr,\n",
       ".dataframe > tbody > tr {\n",
       "  text-align: right;\n",
       "  white-space: pre-wrap;\n",
       "}\n",
       "</style>\n",
       "<small>shape: (5, 6)</small><table border=\"1\" class=\"dataframe\"><thead><tr><th>row_numbers</th><th>id</th><th>name</th><th>age</th><th>salary</th><th>dept</th></tr><tr><td>u32</td><td>i64</td><td>str</td><td>i64</td><td>i64</td><td>str</td></tr></thead><tbody><tr><td>0</td><td>1</td><td>&quot;Alice&quot;</td><td>25</td><td>50000</td><td>&quot;HR&quot;</td></tr><tr><td>1</td><td>2</td><td>&quot;Bob&quot;</td><td>30</td><td>60000</td><td>&quot;IT&quot;</td></tr><tr><td>2</td><td>3</td><td>&quot;Charlie&quot;</td><td>35</td><td>55000</td><td>&quot;IT&quot;</td></tr><tr><td>3</td><td>4</td><td>&quot;David&quot;</td><td>40</td><td>70000</td><td>&quot;Finance&quot;</td></tr><tr><td>4</td><td>5</td><td>&quot;Eve&quot;</td><td>28</td><td>65000</td><td>&quot;HR&quot;</td></tr></tbody></table></div>"
      ],
      "text/plain": [
       "shape: (5, 6)\n",
       "┌─────────────┬─────┬─────────┬─────┬────────┬─────────┐\n",
       "│ row_numbers ┆ id  ┆ name    ┆ age ┆ salary ┆ dept    │\n",
       "│ ---         ┆ --- ┆ ---     ┆ --- ┆ ---    ┆ ---     │\n",
       "│ u32         ┆ i64 ┆ str     ┆ i64 ┆ i64    ┆ str     │\n",
       "╞═════════════╪═════╪═════════╪═════╪════════╪═════════╡\n",
       "│ 0           ┆ 1   ┆ Alice   ┆ 25  ┆ 50000  ┆ HR      │\n",
       "│ 1           ┆ 2   ┆ Bob     ┆ 30  ┆ 60000  ┆ IT      │\n",
       "│ 2           ┆ 3   ┆ Charlie ┆ 35  ┆ 55000  ┆ IT      │\n",
       "│ 3           ┆ 4   ┆ David   ┆ 40  ┆ 70000  ┆ Finance │\n",
       "│ 4           ┆ 5   ┆ Eve     ┆ 28  ┆ 65000  ┆ HR      │\n",
       "└─────────────┴─────┴─────────┴─────┴────────┴─────────┘"
      ]
     },
     "execution_count": 33,
     "metadata": {},
     "output_type": "execute_result"
    }
   ],
   "source": [
    "dpl_new = dpl.with_row_index(\"index\").rename({\"index\": \"row_numbers\"})\n",
    "dpl_new"
   ]
  },
  {
   "cell_type": "code",
   "execution_count": null,
   "id": "4b048ad0",
   "metadata": {},
   "outputs": [
    {
     "data": {
      "text/html": [
       "<div><style>\n",
       ".dataframe > thead > tr,\n",
       ".dataframe > tbody > tr {\n",
       "  text-align: right;\n",
       "  white-space: pre-wrap;\n",
       "}\n",
       "</style>\n",
       "<small>shape: (5, 5)</small><table border=\"1\" class=\"dataframe\"><thead><tr><th>id</th><th>name</th><th>age</th><th>salary</th><th>dept</th></tr><tr><td>i64</td><td>str</td><td>i64</td><td>i64</td><td>str</td></tr></thead><tbody><tr><td>1</td><td>&quot;Alice&quot;</td><td>25</td><td>50000</td><td>&quot;HR&quot;</td></tr><tr><td>2</td><td>&quot;Bob&quot;</td><td>30</td><td>60000</td><td>&quot;IT&quot;</td></tr><tr><td>3</td><td>&quot;Charlie&quot;</td><td>35</td><td>55000</td><td>&quot;IT&quot;</td></tr><tr><td>4</td><td>&quot;David&quot;</td><td>40</td><td>70000</td><td>&quot;Finance&quot;</td></tr><tr><td>5</td><td>&quot;Eve&quot;</td><td>28</td><td>65000</td><td>&quot;HR&quot;</td></tr></tbody></table></div>"
      ],
      "text/plain": [
       "shape: (5, 5)\n",
       "┌─────┬─────────┬─────┬────────┬─────────┐\n",
       "│ id  ┆ name    ┆ age ┆ salary ┆ dept    │\n",
       "│ --- ┆ ---     ┆ --- ┆ ---    ┆ ---     │\n",
       "│ i64 ┆ str     ┆ i64 ┆ i64    ┆ str     │\n",
       "╞═════╪═════════╪═════╪════════╪═════════╡\n",
       "│ 1   ┆ Alice   ┆ 25  ┆ 50000  ┆ HR      │\n",
       "│ 2   ┆ Bob     ┆ 30  ┆ 60000  ┆ IT      │\n",
       "│ 3   ┆ Charlie ┆ 35  ┆ 55000  ┆ IT      │\n",
       "│ 4   ┆ David   ┆ 40  ┆ 70000  ┆ Finance │\n",
       "│ 5   ┆ Eve     ┆ 28  ┆ 65000  ┆ HR      │\n",
       "└─────┴─────────┴─────┴────────┴─────────┘"
      ]
     },
     "execution_count": 35,
     "metadata": {},
     "output_type": "execute_result"
    }
   ],
   "source": [
    "# dpl_new.drop(pl.col(\"row_numbers\"))\n",
    "# OR\n",
    "dpl_new.drop(\"row_numbers\")"
   ]
  },
  {
   "cell_type": "markdown",
   "id": "66c8d652",
   "metadata": {},
   "source": [
    "### pl.col() VS pl.lit()\n",
    "> pl.col(\"...\") → refers to an existing column in your DataFrame.\n",
    "- Used when you want to transform, filter, or compute with existing data.\n",
    "\n",
    "> pl.lit(value) → creates a literal constant value (the same for every row).\n",
    "- Used for constants, default values, or batch audit fields.\n",
    "\n",
    "> Both are expressions you can use inside select, with_columns, filter, group_by, etc."
   ]
  },
  {
   "cell_type": "code",
   "execution_count": 36,
   "id": "4857ae8a",
   "metadata": {},
   "outputs": [
    {
     "data": {
      "text/html": [
       "<div><style>\n",
       ".dataframe > thead > tr,\n",
       ".dataframe > tbody > tr {\n",
       "  text-align: right;\n",
       "  white-space: pre-wrap;\n",
       "}\n",
       "</style>\n",
       "<small>shape: (3, 2)</small><table border=\"1\" class=\"dataframe\"><thead><tr><th>a</th><th>b</th></tr><tr><td>i64</td><td>i64</td></tr></thead><tbody><tr><td>1</td><td>10</td></tr><tr><td>2</td><td>20</td></tr><tr><td>3</td><td>30</td></tr></tbody></table></div>"
      ],
      "text/plain": [
       "shape: (3, 2)\n",
       "┌─────┬─────┐\n",
       "│ a   ┆ b   │\n",
       "│ --- ┆ --- │\n",
       "│ i64 ┆ i64 │\n",
       "╞═════╪═════╡\n",
       "│ 1   ┆ 10  │\n",
       "│ 2   ┆ 20  │\n",
       "│ 3   ┆ 30  │\n",
       "└─────┴─────┘"
      ]
     },
     "execution_count": 36,
     "metadata": {},
     "output_type": "execute_result"
    }
   ],
   "source": [
    "df = pl.DataFrame({\"a\": [1, 2, 3], \"b\": [10, 20, 30]})\n",
    "df"
   ]
  },
  {
   "cell_type": "code",
   "execution_count": 37,
   "id": "742da0bf",
   "metadata": {},
   "outputs": [
    {
     "data": {
      "text/html": [
       "<div><style>\n",
       ".dataframe > thead > tr,\n",
       ".dataframe > tbody > tr {\n",
       "  text-align: right;\n",
       "  white-space: pre-wrap;\n",
       "}\n",
       "</style>\n",
       "<small>shape: (3, 1)</small><table border=\"1\" class=\"dataframe\"><thead><tr><th>sum</th></tr><tr><td>i64</td></tr></thead><tbody><tr><td>11</td></tr><tr><td>22</td></tr><tr><td>33</td></tr></tbody></table></div>"
      ],
      "text/plain": [
       "shape: (3, 1)\n",
       "┌─────┐\n",
       "│ sum │\n",
       "│ --- │\n",
       "│ i64 │\n",
       "╞═════╡\n",
       "│ 11  │\n",
       "│ 22  │\n",
       "│ 33  │\n",
       "└─────┘"
      ]
     },
     "execution_count": 37,
     "metadata": {},
     "output_type": "execute_result"
    }
   ],
   "source": [
    "df.select(\n",
    "    (pl.col(\"a\") + pl.col(\"b\")).alias(\"sum\")\n",
    ")"
   ]
  },
  {
   "cell_type": "code",
   "execution_count": 47,
   "id": "2892a6f4",
   "metadata": {},
   "outputs": [
    {
     "data": {
      "text/html": [
       "[(col(\"a\")) * (dyn float: 0.9)]"
      ],
      "text/plain": [
       "<Expr ['[(col(\"a\")) * (dyn float: 0.9)…'] at 0x7BC83BB92860>"
      ]
     },
     "execution_count": 47,
     "metadata": {},
     "output_type": "execute_result"
    }
   ],
   "source": [
    "pl.col(\"a\") * 0.9"
   ]
  },
  {
   "cell_type": "code",
   "execution_count": 46,
   "id": "59a477c3",
   "metadata": {},
   "outputs": [
    {
     "data": {
      "text/html": [
       "<div><style>\n",
       ".dataframe > thead > tr,\n",
       ".dataframe > tbody > tr {\n",
       "  text-align: right;\n",
       "  white-space: pre-wrap;\n",
       "}\n",
       "</style>\n",
       "<small>shape: (3, 1)</small><table border=\"1\" class=\"dataframe\"><thead><tr><th>a</th></tr><tr><td>f64</td></tr></thead><tbody><tr><td>0.9</td></tr><tr><td>1.8</td></tr><tr><td>2.7</td></tr></tbody></table></div>"
      ],
      "text/plain": [
       "shape: (3, 1)\n",
       "┌─────┐\n",
       "│ a   │\n",
       "│ --- │\n",
       "│ f64 │\n",
       "╞═════╡\n",
       "│ 0.9 │\n",
       "│ 1.8 │\n",
       "│ 2.7 │\n",
       "└─────┘"
      ]
     },
     "execution_count": 46,
     "metadata": {},
     "output_type": "execute_result"
    }
   ],
   "source": [
    "df.select(\n",
    "    pl.col(\"a\") * 0.9\n",
    ")"
   ]
  },
  {
   "cell_type": "code",
   "execution_count": 44,
   "id": "501b89ad",
   "metadata": {},
   "outputs": [
    {
     "data": {
      "text/html": [
       "<div><style>\n",
       ".dataframe > thead > tr,\n",
       ".dataframe > tbody > tr {\n",
       "  text-align: right;\n",
       "  white-space: pre-wrap;\n",
       "}\n",
       "</style>\n",
       "<small>shape: (1, 2)</small><table border=\"1\" class=\"dataframe\"><thead><tr><th>flag</th><th>timestamp</th></tr><tr><td>str</td><td>datetime[μs]</td></tr></thead><tbody><tr><td>&quot;constant&quot;</td><td>2025-08-28 12:00:30.372824</td></tr></tbody></table></div>"
      ],
      "text/plain": [
       "shape: (1, 2)\n",
       "┌──────────┬────────────────────────────┐\n",
       "│ flag     ┆ timestamp                  │\n",
       "│ ---      ┆ ---                        │\n",
       "│ str      ┆ datetime[μs]               │\n",
       "╞══════════╪════════════════════════════╡\n",
       "│ constant ┆ 2025-08-28 12:00:30.372824 │\n",
       "└──────────┴────────────────────────────┘"
      ]
     },
     "execution_count": 44,
     "metadata": {},
     "output_type": "execute_result"
    }
   ],
   "source": [
    "df.select(\n",
    "    pl.lit(\"constant\").alias(\"flag\"),\n",
    "    pl.lit(datetime.now()).alias(\"timestamp\")\n",
    ")"
   ]
  },
  {
   "cell_type": "code",
   "execution_count": null,
   "id": "ef2534ff",
   "metadata": {},
   "outputs": [
    {
     "data": {
      "text/html": [
       "<div><style>\n",
       ".dataframe > thead > tr,\n",
       ".dataframe > tbody > tr {\n",
       "  text-align: right;\n",
       "  white-space: pre-wrap;\n",
       "}\n",
       "</style>\n",
       "<small>shape: (3, 4)</small><table border=\"1\" class=\"dataframe\"><thead><tr><th>a</th><th>b</th><th>flag</th><th>timestamp</th></tr><tr><td>i64</td><td>i64</td><td>str</td><td>datetime[μs]</td></tr></thead><tbody><tr><td>1</td><td>10</td><td>&quot;constant&quot;</td><td>2025-08-28 12:00:11.781613</td></tr><tr><td>2</td><td>20</td><td>&quot;constant&quot;</td><td>2025-08-28 12:00:11.781613</td></tr><tr><td>3</td><td>30</td><td>&quot;constant&quot;</td><td>2025-08-28 12:00:11.781613</td></tr></tbody></table></div>"
      ],
      "text/plain": [
       "shape: (3, 4)\n",
       "┌─────┬─────┬──────────┬────────────────────────────┐\n",
       "│ a   ┆ b   ┆ flag     ┆ timestamp                  │\n",
       "│ --- ┆ --- ┆ ---      ┆ ---                        │\n",
       "│ i64 ┆ i64 ┆ str      ┆ datetime[μs]               │\n",
       "╞═════╪═════╪══════════╪════════════════════════════╡\n",
       "│ 1   ┆ 10  ┆ constant ┆ 2025-08-28 12:00:11.781613 │\n",
       "│ 2   ┆ 20  ┆ constant ┆ 2025-08-28 12:00:11.781613 │\n",
       "│ 3   ┆ 30  ┆ constant ┆ 2025-08-28 12:00:11.781613 │\n",
       "└─────┴─────┴──────────┴────────────────────────────┘"
      ]
     },
     "metadata": {},
     "output_type": "display_data"
    }
   ],
   "source": [
    "df.select(\n",
    "    pl.col('a'),\n",
    "    pl.col('b'),\n",
    "    pl.lit(\"constant\").alias(\"flag\"),\n",
    "    pl.lit(datetime.now()).alias(\"timestamp\")\n",
    ")"
   ]
  },
  {
   "cell_type": "code",
   "execution_count": 52,
   "id": "de880178",
   "metadata": {},
   "outputs": [
    {
     "data": {
      "text/html": [
       "<div><style>\n",
       ".dataframe > thead > tr,\n",
       ".dataframe > tbody > tr {\n",
       "  text-align: right;\n",
       "  white-space: pre-wrap;\n",
       "}\n",
       "</style>\n",
       "<small>shape: (3, 1)</small><table border=\"1\" class=\"dataframe\"><thead><tr><th>a</th></tr><tr><td>bool</td></tr></thead><tbody><tr><td>false</td></tr><tr><td>true</td></tr><tr><td>false</td></tr></tbody></table></div>"
      ],
      "text/plain": [
       "shape: (3, 1)\n",
       "┌───────┐\n",
       "│ a     │\n",
       "│ ---   │\n",
       "│ bool  │\n",
       "╞═══════╡\n",
       "│ false │\n",
       "│ true  │\n",
       "│ false │\n",
       "└───────┘"
      ]
     },
     "execution_count": 52,
     "metadata": {},
     "output_type": "execute_result"
    }
   ],
   "source": [
    "df.select(\n",
    "    pl.col(\"a\") == pl.lit(2)\n",
    ")"
   ]
  },
  {
   "cell_type": "markdown",
   "id": "f81871d8",
   "metadata": {},
   "source": [
    "### pl.all()"
   ]
  },
  {
   "cell_type": "code",
   "execution_count": 3,
   "id": "e1af65a2",
   "metadata": {},
   "outputs": [
    {
     "name": "stdout",
     "output_type": "stream",
     "text": [
      "shape: (3, 4)\n",
      "┌────────────┬──────────────┬───────┬───────┐\n",
      "│ product_id ┆ product_name ┆ brand ┆ price │\n",
      "│ ---        ┆ ---          ┆ ---   ┆ ---   │\n",
      "│ str        ┆ str          ┆ str   ┆ i64   │\n",
      "╞════════════╪══════════════╪═══════╪═══════╡\n",
      "│ P1         ┆ Phone        ┆ Apple ┆ 1000  │\n",
      "│ P1         ┆ PhoneX       ┆ Apple ┆ 1200  │\n",
      "│ P2         ┆ Laptop       ┆ Dell  ┆ 2000  │\n",
      "└────────────┴──────────────┴───────┴───────┘\n"
     ]
    }
   ],
   "source": [
    "df = pl.DataFrame({\n",
    "    \"product_id\": [\"P1\", \"P1\", \"P2\"],\n",
    "    \"product_name\": [\"Phone\", \"PhoneX\", \"Laptop\"],\n",
    "    \"brand\": [\"Apple\", \"Apple\", \"Dell\"],\n",
    "    \"price\": [1000, 1200, 2000]\n",
    "})\n",
    "print(df)"
   ]
  },
  {
   "cell_type": "markdown",
   "id": "bd112d49",
   "metadata": {},
   "source": [
    "#### 1. Why group_by?\n",
    "- to collect all rows that share the same product_id together\n",
    "- i.e. if we want one row per product_id\n",
    "> exactly like your SQL ROW_NUMBER() PARTITION BY product_id … WHERE row_num=1"
   ]
  },
  {
   "cell_type": "code",
   "execution_count": 4,
   "id": "81813c3b",
   "metadata": {},
   "outputs": [
    {
     "name": "stdout",
     "output_type": "stream",
     "text": [
      "('P2',)\n",
      "shape: (1, 4)\n",
      "┌────────────┬──────────────┬───────┬───────┐\n",
      "│ product_id ┆ product_name ┆ brand ┆ price │\n",
      "│ ---        ┆ ---          ┆ ---   ┆ ---   │\n",
      "│ str        ┆ str          ┆ str   ┆ i64   │\n",
      "╞════════════╪══════════════╪═══════╪═══════╡\n",
      "│ P2         ┆ Laptop       ┆ Dell  ┆ 2000  │\n",
      "└────────────┴──────────────┴───────┴───────┘\n",
      "('P1',)\n",
      "shape: (2, 4)\n",
      "┌────────────┬──────────────┬───────┬───────┐\n",
      "│ product_id ┆ product_name ┆ brand ┆ price │\n",
      "│ ---        ┆ ---          ┆ ---   ┆ ---   │\n",
      "│ str        ┆ str          ┆ str   ┆ i64   │\n",
      "╞════════════╪══════════════╪═══════╪═══════╡\n",
      "│ P1         ┆ Phone        ┆ Apple ┆ 1000  │\n",
      "│ P1         ┆ PhoneX       ┆ Apple ┆ 1200  │\n",
      "└────────────┴──────────────┴───────┴───────┘\n"
     ]
    }
   ],
   "source": [
    "for k,v in df.group_by('product_id'):\n",
    "    print(k, v, sep=\"\\n\")"
   ]
  },
  {
   "cell_type": "markdown",
   "id": "95d44d24",
   "metadata": {},
   "source": [
    "#### 2. Why .agg()?\n",
    "\n",
    "- Once you group, Polars asks: “How should I collapse multiple rows in each group into one row?”\n",
    "- That’s what .agg() (aggregate) specifies.\n",
    "\n",
    "> Common aggregates: .count(), .sum(), .mean(), .first(), .last(), etc."
   ]
  },
  {
   "cell_type": "code",
   "execution_count": 6,
   "id": "e5cb5f49",
   "metadata": {},
   "outputs": [
    {
     "name": "stderr",
     "output_type": "stream",
     "text": [
      "/tmp/ipykernel_286992/2845448690.py:1: DeprecationWarning: `pl.count()` is deprecated. Please use `pl.len()` instead.\n",
      "(Deprecated in version 0.20.5)\n",
      "  df.group_by('product_id').agg(pl.count())\n"
     ]
    },
    {
     "data": {
      "text/html": [
       "<div><style>\n",
       ".dataframe > thead > tr,\n",
       ".dataframe > tbody > tr {\n",
       "  text-align: right;\n",
       "  white-space: pre-wrap;\n",
       "}\n",
       "</style>\n",
       "<small>shape: (2, 2)</small><table border=\"1\" class=\"dataframe\"><thead><tr><th>product_id</th><th>count</th></tr><tr><td>str</td><td>u32</td></tr></thead><tbody><tr><td>&quot;P2&quot;</td><td>1</td></tr><tr><td>&quot;P1&quot;</td><td>2</td></tr></tbody></table></div>"
      ],
      "text/plain": [
       "shape: (2, 2)\n",
       "┌────────────┬───────┐\n",
       "│ product_id ┆ count │\n",
       "│ ---        ┆ ---   │\n",
       "│ str        ┆ u32   │\n",
       "╞════════════╪═══════╡\n",
       "│ P2         ┆ 1     │\n",
       "│ P1         ┆ 2     │\n",
       "└────────────┴───────┘"
      ]
     },
     "execution_count": 6,
     "metadata": {},
     "output_type": "execute_result"
    }
   ],
   "source": [
    "df.group_by('product_id').agg(pl.count())"
   ]
  },
  {
   "cell_type": "markdown",
   "id": "e438a0ca",
   "metadata": {},
   "source": [
    "#### 3. Why pl.all().first()?\n",
    "\n",
    "- pl.all() → means: apply the same rule to all columns in the DataFrame.\n",
    "\n",
    "- .first() → says: take the first value of that column within the group.\n",
    "\n",
    "> So pl.all().first() = for every column in the DataFrame, collapse duplicates by keeping the first value within each group."
   ]
  },
  {
   "cell_type": "code",
   "execution_count": 10,
   "id": "615d2b7a",
   "metadata": {},
   "outputs": [
    {
     "data": {
      "text/html": [
       "<div><style>\n",
       ".dataframe > thead > tr,\n",
       ".dataframe > tbody > tr {\n",
       "  text-align: right;\n",
       "  white-space: pre-wrap;\n",
       "}\n",
       "</style>\n",
       "<small>shape: (2, 4)</small><table border=\"1\" class=\"dataframe\"><thead><tr><th>product_id</th><th>product_name</th><th>brand</th><th>price</th></tr><tr><td>str</td><td>str</td><td>str</td><td>i64</td></tr></thead><tbody><tr><td>&quot;P1&quot;</td><td>&quot;Phone&quot;</td><td>&quot;Apple&quot;</td><td>1000</td></tr><tr><td>&quot;P2&quot;</td><td>&quot;Laptop&quot;</td><td>&quot;Dell&quot;</td><td>2000</td></tr></tbody></table></div>"
      ],
      "text/plain": [
       "shape: (2, 4)\n",
       "┌────────────┬──────────────┬───────┬───────┐\n",
       "│ product_id ┆ product_name ┆ brand ┆ price │\n",
       "│ ---        ┆ ---          ┆ ---   ┆ ---   │\n",
       "│ str        ┆ str          ┆ str   ┆ i64   │\n",
       "╞════════════╪══════════════╪═══════╪═══════╡\n",
       "│ P1         ┆ Phone        ┆ Apple ┆ 1000  │\n",
       "│ P2         ┆ Laptop       ┆ Dell  ┆ 2000  │\n",
       "└────────────┴──────────────┴───────┴───────┘"
      ]
     },
     "execution_count": 10,
     "metadata": {},
     "output_type": "execute_result"
    }
   ],
   "source": [
    "df.group_by('product_id').agg(pl.all().first())"
   ]
  },
  {
   "cell_type": "code",
   "execution_count": 11,
   "id": "95ca8c2b",
   "metadata": {},
   "outputs": [
    {
     "data": {
      "text/html": [
       "<div><style>\n",
       ".dataframe > thead > tr,\n",
       ".dataframe > tbody > tr {\n",
       "  text-align: right;\n",
       "  white-space: pre-wrap;\n",
       "}\n",
       "</style>\n",
       "<small>shape: (2, 4)</small><table border=\"1\" class=\"dataframe\"><thead><tr><th>product_id</th><th>product_name</th><th>brand</th><th>price</th></tr><tr><td>str</td><td>str</td><td>str</td><td>i64</td></tr></thead><tbody><tr><td>&quot;P2&quot;</td><td>&quot;Laptop&quot;</td><td>&quot;Dell&quot;</td><td>2000</td></tr><tr><td>&quot;P1&quot;</td><td>&quot;PhoneX&quot;</td><td>&quot;Apple&quot;</td><td>1200</td></tr></tbody></table></div>"
      ],
      "text/plain": [
       "shape: (2, 4)\n",
       "┌────────────┬──────────────┬───────┬───────┐\n",
       "│ product_id ┆ product_name ┆ brand ┆ price │\n",
       "│ ---        ┆ ---          ┆ ---   ┆ ---   │\n",
       "│ str        ┆ str          ┆ str   ┆ i64   │\n",
       "╞════════════╪══════════════╪═══════╪═══════╡\n",
       "│ P2         ┆ Laptop       ┆ Dell  ┆ 2000  │\n",
       "│ P1         ┆ PhoneX       ┆ Apple ┆ 1200  │\n",
       "└────────────┴──────────────┴───────┴───────┘"
      ]
     },
     "execution_count": 11,
     "metadata": {},
     "output_type": "execute_result"
    }
   ],
   "source": [
    "df.group_by('product_id').agg(pl.all().last())"
   ]
  },
  {
   "cell_type": "markdown",
   "id": "04e4a834",
   "metadata": {},
   "source": [
    "#### 5. Why Not Just drop_duplicates?\n",
    "\n",
    "- Drops duplicate product_id rows,\n",
    "- But Keeps the first occurrence (only). ==> Can't be customised for last row or other function\n",
    "\n",
    "> Both are valid — .group_by().agg() is more flexible if you want different rules per column (e.g., take min(price) but first(product_name))."
   ]
  },
  {
   "cell_type": "code",
   "execution_count": 14,
   "id": "8b0f6c8a",
   "metadata": {},
   "outputs": [
    {
     "data": {
      "text/html": [
       "<div><style>\n",
       ".dataframe > thead > tr,\n",
       ".dataframe > tbody > tr {\n",
       "  text-align: right;\n",
       "  white-space: pre-wrap;\n",
       "}\n",
       "</style>\n",
       "<small>shape: (2, 4)</small><table border=\"1\" class=\"dataframe\"><thead><tr><th>product_id</th><th>product_name</th><th>brand</th><th>price</th></tr><tr><td>str</td><td>str</td><td>str</td><td>i64</td></tr></thead><tbody><tr><td>&quot;P2&quot;</td><td>&quot;Laptop&quot;</td><td>&quot;Dell&quot;</td><td>2000</td></tr><tr><td>&quot;P1&quot;</td><td>&quot;Phone&quot;</td><td>&quot;Apple&quot;</td><td>1000</td></tr></tbody></table></div>"
      ],
      "text/plain": [
       "shape: (2, 4)\n",
       "┌────────────┬──────────────┬───────┬───────┐\n",
       "│ product_id ┆ product_name ┆ brand ┆ price │\n",
       "│ ---        ┆ ---          ┆ ---   ┆ ---   │\n",
       "│ str        ┆ str          ┆ str   ┆ i64   │\n",
       "╞════════════╪══════════════╪═══════╪═══════╡\n",
       "│ P2         ┆ Laptop       ┆ Dell  ┆ 2000  │\n",
       "│ P1         ┆ Phone        ┆ Apple ┆ 1000  │\n",
       "└────────────┴──────────────┴───────┴───────┘"
      ]
     },
     "execution_count": 14,
     "metadata": {},
     "output_type": "execute_result"
    }
   ],
   "source": [
    "df = df.unique(subset=[\"product_id\"], keep=\"first\")\n",
    "df"
   ]
  },
  {
   "cell_type": "markdown",
   "id": "8eeb413c",
   "metadata": {},
   "source": [
    "#### implode vs. explode"
   ]
  },
  {
   "cell_type": "code",
   "execution_count": null,
   "id": "9b4d10d3",
   "metadata": {},
   "outputs": [
    {
     "data": {
      "text/html": [
       "<div><style>\n",
       ".dataframe > thead > tr,\n",
       ".dataframe > tbody > tr {\n",
       "  text-align: right;\n",
       "  white-space: pre-wrap;\n",
       "}\n",
       "</style>\n",
       "<small>shape: (3,)</small><table border=\"1\" class=\"dataframe\"><thead><tr><th>gender</th></tr><tr><td>str</td></tr></thead><tbody><tr><td>&quot;Male&quot;</td></tr><tr><td>&quot;Female&quot;</td></tr><tr><td>&quot;Other&quot;</td></tr></tbody></table></div>"
      ],
      "text/plain": [
       "shape: (3,)\n",
       "Series: 'gender' [str]\n",
       "[\n",
       "\t\"Male\"\n",
       "\t\"Female\"\n",
       "\t\"Other\"\n",
       "]"
      ]
     },
     "metadata": {},
     "output_type": "display_data"
    }
   ],
   "source": [
    "s = pl.Series(\"gender\", [\"Male\", \"Female\", \"Other\"])\n",
    "s"
   ]
  },
  {
   "cell_type": "code",
   "execution_count": null,
   "id": "2282039f",
   "metadata": {},
   "outputs": [
    {
     "data": {
      "text/html": [
       "<div><style>\n",
       ".dataframe > thead > tr,\n",
       ".dataframe > tbody > tr {\n",
       "  text-align: right;\n",
       "  white-space: pre-wrap;\n",
       "}\n",
       "</style>\n",
       "<small>shape: (1,)</small><table border=\"1\" class=\"dataframe\"><thead><tr><th>gender</th></tr><tr><td>list[str]</td></tr></thead><tbody><tr><td>[&quot;Male&quot;, &quot;Female&quot;, &quot;Other&quot;]</td></tr></tbody></table></div>"
      ],
      "text/plain": [
       "shape: (1,)\n",
       "Series: 'gender' [list[str]]\n",
       "[\n",
       "\t[\"Male\", \"Female\", \"Other\"]\n",
       "]"
      ]
     },
     "metadata": {},
     "output_type": "display_data"
    }
   ],
   "source": [
    "s.implode()"
   ]
  },
  {
   "cell_type": "code",
   "execution_count": null,
   "id": "08a7938d",
   "metadata": {},
   "outputs": [
    {
     "name": "stdout",
     "output_type": "stream",
     "text": [
      "shape: (1,)\n",
      "Series: 'gender' [list[str]]\n",
      "[\n",
      "\t[\"Male\", \"Female\", \"Other\"]\n",
      "]\n"
     ]
    }
   ],
   "source": [
    "s1 = s.implode()"
   ]
  },
  {
   "cell_type": "code",
   "execution_count": null,
   "id": "7028b08a",
   "metadata": {},
   "outputs": [
    {
     "data": {
      "text/html": [
       "<div><style>\n",
       ".dataframe > thead > tr,\n",
       ".dataframe > tbody > tr {\n",
       "  text-align: right;\n",
       "  white-space: pre-wrap;\n",
       "}\n",
       "</style>\n",
       "<small>shape: (3,)</small><table border=\"1\" class=\"dataframe\"><thead><tr><th>gender</th></tr><tr><td>str</td></tr></thead><tbody><tr><td>&quot;Male&quot;</td></tr><tr><td>&quot;Female&quot;</td></tr><tr><td>&quot;Other&quot;</td></tr></tbody></table></div>"
      ],
      "text/plain": [
       "shape: (3,)\n",
       "Series: 'gender' [str]\n",
       "[\n",
       "\t\"Male\"\n",
       "\t\"Female\"\n",
       "\t\"Other\"\n",
       "]"
      ]
     },
     "metadata": {},
     "output_type": "display_data"
    }
   ],
   "source": [
    "s1.explode()"
   ]
  },
  {
   "cell_type": "markdown",
   "id": "19499483",
   "metadata": {},
   "source": [
    "##### using implode with 'is_not_in'\n",
    "> new_rows = df_src.filter(pl.col(key_col).is_not_in(df_tgt.select(key_col)[key_col].implode()))\n",
    "\n",
    "- df_tgt.select(key_col) → returns a DataFrame with one column.\n",
    "\n",
    "- df_tgt.select(key_col)[key_col] → gives you a Series (a column).\n",
    "\n",
    "- But is_in() / is_not_in() expects a list-like-value (Series of values) to compare against.\n",
    "\n",
    "- .implode() takes that Series of many rows and combines them into a single Series containing a list.\n",
    "\n",
    "> .implode() → turns that Series into a single column vector (instead of multiple rows), so that is_in can compare against it."
   ]
  },
  {
   "cell_type": "code",
   "execution_count": 4,
   "id": "e79bfc22",
   "metadata": {},
   "outputs": [
    {
     "name": "stdout",
     "output_type": "stream",
     "text": [
      "shape: (3,)\n",
      "Series: 'id' [i64]\n",
      "[\n",
      "\t2\n",
      "\t3\n",
      "\t4\n",
      "]\n",
      "shape: (1,)\n",
      "Series: 'id' [list[i64]]\n",
      "[\n",
      "\t[2, 3, 4]\n",
      "]\n"
     ]
    }
   ],
   "source": [
    "df_tgt = pl.DataFrame({\"id\": [2, 3, 4]})\n",
    "print(df_tgt.select(\"id\")[\"id\"])\n",
    "print(df_tgt.select(\"id\")[\"id\"].implode())"
   ]
  },
  {
   "cell_type": "code",
   "execution_count": 6,
   "id": "a67ee1be",
   "metadata": {},
   "outputs": [
    {
     "name": "stdout",
     "output_type": "stream",
     "text": [
      "shape: (3,)\n",
      "Series: 'id' [i64]\n",
      "[\n",
      "\t2\n",
      "\t3\n",
      "\t4\n",
      "]\n",
      "[2, 3, 4]\n"
     ]
    }
   ],
   "source": [
    "# Alternative\n",
    "print(df_tgt[\"id\"])\n",
    "print(df_tgt[\"id\"].to_list())"
   ]
  },
  {
   "cell_type": "markdown",
   "id": "badb9b1a",
   "metadata": {},
   "source": [
    "##### is_in VS anti-join\n",
    "- > Use anti join (Version B) whenever possible because:\n",
    "- It’s clearer (SQL-style semantics).\n",
    "- Handles multi-column keys naturally.\n",
    "- More scalable (doesn’t materialize a giant list in memory).\n",
    "- > Use is_in (Version A) only if:\n",
    "- You’re dealing with a single column key.\n",
    "- The target set (active_rows) is very small.\n",
    "- You want to write a quick one-liner."
   ]
  },
  {
   "cell_type": "code",
   "execution_count": 3,
   "id": "9911f009",
   "metadata": {},
   "outputs": [
    {
     "name": "stdout",
     "output_type": "stream",
     "text": [
      "shape: (4, 1)\n",
      "┌─────┐\n",
      "│ id  │\n",
      "│ --- │\n",
      "│ i64 │\n",
      "╞═════╡\n",
      "│ 1   │\n",
      "│ 2   │\n",
      "│ 3   │\n",
      "│ 4   │\n",
      "└─────┘\n"
     ]
    },
    {
     "data": {
      "text/html": [
       "<div><style>\n",
       ".dataframe > thead > tr,\n",
       ".dataframe > tbody > tr {\n",
       "  text-align: right;\n",
       "  white-space: pre-wrap;\n",
       "}\n",
       "</style>\n",
       "<small>shape: (2, 1)</small><table border=\"1\" class=\"dataframe\"><thead><tr><th>id</th></tr><tr><td>i64</td></tr></thead><tbody><tr><td>2</td></tr><tr><td>4</td></tr></tbody></table></div>"
      ],
      "text/plain": [
       "shape: (2, 1)\n",
       "┌─────┐\n",
       "│ id  │\n",
       "│ --- │\n",
       "│ i64 │\n",
       "╞═════╡\n",
       "│ 2   │\n",
       "│ 4   │\n",
       "└─────┘"
      ]
     },
     "execution_count": 3,
     "metadata": {},
     "output_type": "execute_result"
    }
   ],
   "source": [
    "df_src = pl.DataFrame({\"id\": [1, 2, 3, 4]})\n",
    "active_rows = pl.DataFrame({\"id\": [2, 4]})\n",
    "print(df_src)\n",
    "active_rows"
   ]
  },
  {
   "cell_type": "code",
   "execution_count": 5,
   "id": "fa09bb03",
   "metadata": {},
   "outputs": [
    {
     "data": {
      "text/html": [
       "<div><style>\n",
       ".dataframe > thead > tr,\n",
       ".dataframe > tbody > tr {\n",
       "  text-align: right;\n",
       "  white-space: pre-wrap;\n",
       "}\n",
       "</style>\n",
       "<small>shape: (2, 1)</small><table border=\"1\" class=\"dataframe\"><thead><tr><th>id</th></tr><tr><td>i64</td></tr></thead><tbody><tr><td>1</td></tr><tr><td>3</td></tr></tbody></table></div>"
      ],
      "text/plain": [
       "shape: (2, 1)\n",
       "┌─────┐\n",
       "│ id  │\n",
       "│ --- │\n",
       "│ i64 │\n",
       "╞═════╡\n",
       "│ 1   │\n",
       "│ 3   │\n",
       "└─────┘"
      ]
     },
     "execution_count": 5,
     "metadata": {},
     "output_type": "execute_result"
    }
   ],
   "source": [
    "df_src.filter(~pl.col(\"id\").is_in(active_rows[\"id\"].implode()))"
   ]
  },
  {
   "cell_type": "code",
   "execution_count": null,
   "id": "ef787c37",
   "metadata": {},
   "outputs": [
    {
     "data": {
      "text/html": [
       "<div><style>\n",
       ".dataframe > thead > tr,\n",
       ".dataframe > tbody > tr {\n",
       "  text-align: right;\n",
       "  white-space: pre-wrap;\n",
       "}\n",
       "</style>\n",
       "<small>shape: (2, 1)</small><table border=\"1\" class=\"dataframe\"><thead><tr><th>id</th></tr><tr><td>i64</td></tr></thead><tbody><tr><td>1</td></tr><tr><td>3</td></tr></tbody></table></div>"
      ],
      "text/plain": [
       "shape: (2, 1)\n",
       "┌─────┐\n",
       "│ id  │\n",
       "│ --- │\n",
       "│ i64 │\n",
       "╞═════╡\n",
       "│ 1   │\n",
       "│ 3   │\n",
       "└─────┘"
      ]
     },
     "execution_count": 4,
     "metadata": {},
     "output_type": "execute_result"
    }
   ],
   "source": [
    "df_src.join(active_rows, on=\"id\", how=\"anti\")"
   ]
  },
  {
   "cell_type": "markdown",
   "id": "95bb39f2",
   "metadata": {},
   "source": [
    "### Parquet > CSV\n",
    "- Smaller size (column compression).\n",
    "- Faster queries (skip irrelevant columns, predicate pushdown).\n",
    "- Schema preserved (no need to recast each time).\n",
    "- Serializes your DataFrame to a .parquet file on disk.\n",
    "- Keeps column types (strings, ints, dates, timestamps).\n",
    "- Compresses by default using Snappy (good balance of speed & size).\n",
    "- DWH-like feel → exactly how “bronze/silver/gold” layers are often stored in lakehouse pipelines.\n",
    "- Columnar storage system"
   ]
  },
  {
   "cell_type": "markdown",
   "id": "f37073d2",
   "metadata": {},
   "source": [
    "## joins"
   ]
  },
  {
   "cell_type": "code",
   "execution_count": 4,
   "id": "eb0c24d3",
   "metadata": {},
   "outputs": [
    {
     "name": "stdout",
     "output_type": "stream",
     "text": [
      "Left table:\n",
      "shape: (4, 3)\n",
      "┌─────┬─────────┬─────┐\n",
      "│ id  ┆ name    ┆ age │\n",
      "│ --- ┆ ---     ┆ --- │\n",
      "│ i64 ┆ str     ┆ i64 │\n",
      "╞═════╪═════════╪═════╡\n",
      "│ 1   ┆ Alice   ┆ 25  │\n",
      "│ 2   ┆ Bob     ┆ 30  │\n",
      "│ 3   ┆ Charlie ┆ 35  │\n",
      "│ 4   ┆ David   ┆ 40  │\n",
      "└─────┴─────────┴─────┘\n",
      "\n",
      "Right table:\n",
      "shape: (4, 3)\n",
      "┌─────┬────────┬────────────┐\n",
      "│ id  ┆ salary ┆ department │\n",
      "│ --- ┆ ---    ┆ ---        │\n",
      "│ i64 ┆ i64    ┆ str        │\n",
      "╞═════╪════════╪════════════╡\n",
      "│ 1   ┆ 50000  ┆ HR         │\n",
      "│ 2   ┆ 60000  ┆ IT         │\n",
      "│ 3   ┆ 70000  ┆ Finance    │\n",
      "│ 5   ┆ 80000  ┆ IT         │\n",
      "└─────┴────────┴────────────┘\n",
      "\n",
      "Result keeping only left table columns:\n",
      "shape: (3, 5)\n",
      "┌─────┬─────────┬─────┬────────┬────────────┐\n",
      "│ id  ┆ name    ┆ age ┆ salary ┆ department │\n",
      "│ --- ┆ ---     ┆ --- ┆ ---    ┆ ---        │\n",
      "│ i64 ┆ str     ┆ i64 ┆ i64    ┆ str        │\n",
      "╞═════╪═════════╪═════╪════════╪════════════╡\n",
      "│ 1   ┆ Alice   ┆ 25  ┆ 50000  ┆ HR         │\n",
      "│ 2   ┆ Bob     ┆ 30  ┆ 60000  ┆ IT         │\n",
      "│ 3   ┆ Charlie ┆ 35  ┆ 70000  ┆ Finance    │\n",
      "└─────┴─────────┴─────┴────────┴────────────┘\n",
      "\n",
      "Result using semi join (filtering only):\n",
      "shape: (3, 3)\n",
      "┌─────┬─────────┬─────┐\n",
      "│ id  ┆ name    ┆ age │\n",
      "│ --- ┆ ---     ┆ --- │\n",
      "│ i64 ┆ str     ┆ i64 │\n",
      "╞═════╪═════════╪═════╡\n",
      "│ 1   ┆ Alice   ┆ 25  │\n",
      "│ 2   ┆ Bob     ┆ 30  │\n",
      "│ 3   ┆ Charlie ┆ 35  │\n",
      "└─────┴─────────┴─────┘\n",
      "\n",
      "Method 3 - Anti join (right rows without matches in left):\n",
      "shape: (1, 3)\n",
      "┌─────┬────────┬────────────┐\n",
      "│ id  ┆ salary ┆ department │\n",
      "│ --- ┆ ---    ┆ ---        │\n",
      "│ i64 ┆ i64    ┆ str        │\n",
      "╞═════╪════════╪════════════╡\n",
      "│ 5   ┆ 80000  ┆ IT         │\n",
      "└─────┴────────┴────────────┘\n"
     ]
    }
   ],
   "source": [
    "left_df = pl.DataFrame({\n",
    "    \"id\": [1, 2, 3, 4],\n",
    "    \"name\": [\"Alice\", \"Bob\", \"Charlie\", \"David\"],\n",
    "    \"age\": [25, 30, 35, 40]\n",
    "})\n",
    "\n",
    "right_df = pl.DataFrame({\n",
    "    \"id\": [1, 2, 3, 5],\n",
    "    \"salary\": [50000, 60000, 70000, 80000],\n",
    "    \"department\": [\"HR\", \"IT\", \"Finance\", \"IT\"]\n",
    "})\n",
    "\n",
    "print(\"Left table:\")\n",
    "print(left_df)\n",
    "print(\"\\nRight table:\")\n",
    "print(right_df)\n",
    "\n",
    "# Method 1 in action\n",
    "result1 = (\n",
    "    left_df\n",
    "    .join(right_df, on=\"id\", how=\"inner\")\n",
    "    # .select(left_df.columns)\n",
    ")\n",
    "print(\"\\nResult keeping only left table columns:\")\n",
    "print(result1)\n",
    "\n",
    "# Method 5 - Semi join (most efficient for filtering)\n",
    "result2 = left_df.join(right_df, on=\"id\", how=\"semi\")\n",
    "print(\"\\nResult using semi join (filtering only):\")\n",
    "print(result2)\n",
    "\n",
    "# Method 6 - Anti join (right rows without matches in left):\")\n",
    "result_anti = (\n",
    "    right_df\n",
    "    .join(left_df, on=\"id\", how=\"anti\")  # Right rows WITHOUT matches in left\n",
    ")\n",
    "print(\"\\nMethod 3 - Anti join (right rows without matches in left):\")\n",
    "print(result_anti)"
   ]
  }
 ],
 "metadata": {
  "kernelspec": {
   "display_name": "Python 3",
   "language": "python",
   "name": "python3"
  },
  "language_info": {
   "codemirror_mode": {
    "name": "ipython",
    "version": 3
   },
   "file_extension": ".py",
   "mimetype": "text/x-python",
   "name": "python",
   "nbconvert_exporter": "python",
   "pygments_lexer": "ipython3",
   "version": "3.10.12"
  }
 },
 "nbformat": 4,
 "nbformat_minor": 5
}
