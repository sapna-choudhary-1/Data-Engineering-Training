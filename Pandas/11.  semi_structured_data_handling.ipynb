{
 "cells": [
  {
   "cell_type": "markdown",
   "id": "96699bad",
   "metadata": {},
   "source": [
    "# ================ SEMI-STRUCTURED DATA HANDLING ================"
   ]
  },
  {
   "cell_type": "code",
   "execution_count": 1,
   "id": "1a0ebbff",
   "metadata": {},
   "outputs": [],
   "source": [
    "import pandas as pd\n",
    "import numpy as np"
   ]
  },
  {
   "cell_type": "markdown",
   "id": "33e9122a",
   "metadata": {},
   "source": [
    "- Unlike tables (rows & columns), semi-structured data (like JSON, XML, YAML) doesn’t have a fixed schema.\n",
    "\n",
    "- It often contains nested objects and arrays"
   ]
  },
  {
   "cell_type": "code",
   "execution_count": 2,
   "id": "3a3c804e",
   "metadata": {},
   "outputs": [
    {
     "data": {
      "text/plain": [
       "[{'id': 1,\n",
       "  'name': 'Alice',\n",
       "  'address': {'city': 'Delhi', 'zip': 110001},\n",
       "  'orders': [{'id': 101, 'amount': 250}, {'id': 102, 'amount': 450}]},\n",
       " {'id': 2,\n",
       "  'name': 'Bob',\n",
       "  'address': {'city': 'Mumbai', 'zip': 400001},\n",
       "  'orders': [{'id': 103, 'amount': 300}]}]"
      ]
     },
     "execution_count": 2,
     "metadata": {},
     "output_type": "execute_result"
    }
   ],
   "source": [
    "data = [\n",
    "    {\n",
    "        \"id\": 1,\n",
    "        \"name\": \"Alice\",\n",
    "        \"address\": {\"city\": \"Delhi\", \"zip\": 110001},\n",
    "        \"orders\": [{\"id\": 101, \"amount\": 250}, {\"id\": 102, \"amount\": 450}]\n",
    "    },\n",
    "    {\n",
    "        \"id\": 2,\n",
    "        \"name\": \"Bob\",\n",
    "        \"address\": {\"city\": \"Mumbai\", \"zip\": 400001},\n",
    "        \"orders\": [{\"id\": 103, \"amount\": 300}]\n",
    "    }\n",
    "]\n",
    "data"
   ]
  },
  {
   "cell_type": "code",
   "execution_count": 3,
   "id": "a609c622",
   "metadata": {},
   "outputs": [
    {
     "data": {
      "text/html": [
       "<div>\n",
       "<style scoped>\n",
       "    .dataframe tbody tr th:only-of-type {\n",
       "        vertical-align: middle;\n",
       "    }\n",
       "\n",
       "    .dataframe tbody tr th {\n",
       "        vertical-align: top;\n",
       "    }\n",
       "\n",
       "    .dataframe thead th {\n",
       "        text-align: right;\n",
       "    }\n",
       "</style>\n",
       "<table border=\"1\" class=\"dataframe\">\n",
       "  <thead>\n",
       "    <tr style=\"text-align: right;\">\n",
       "      <th></th>\n",
       "      <th>id</th>\n",
       "      <th>name</th>\n",
       "      <th>address</th>\n",
       "      <th>orders</th>\n",
       "    </tr>\n",
       "  </thead>\n",
       "  <tbody>\n",
       "    <tr>\n",
       "      <th>0</th>\n",
       "      <td>1</td>\n",
       "      <td>Alice</td>\n",
       "      <td>{'city': 'Delhi', 'zip': 110001}</td>\n",
       "      <td>[{'id': 101, 'amount': 250}, {'id': 102, 'amou...</td>\n",
       "    </tr>\n",
       "    <tr>\n",
       "      <th>1</th>\n",
       "      <td>2</td>\n",
       "      <td>Bob</td>\n",
       "      <td>{'city': 'Mumbai', 'zip': 400001}</td>\n",
       "      <td>[{'id': 103, 'amount': 300}]</td>\n",
       "    </tr>\n",
       "  </tbody>\n",
       "</table>\n",
       "</div>"
      ],
      "text/plain": [
       "   id   name                            address  \\\n",
       "0   1  Alice   {'city': 'Delhi', 'zip': 110001}   \n",
       "1   2    Bob  {'city': 'Mumbai', 'zip': 400001}   \n",
       "\n",
       "                                              orders  \n",
       "0  [{'id': 101, 'amount': 250}, {'id': 102, 'amou...  \n",
       "1                       [{'id': 103, 'amount': 300}]  "
      ]
     },
     "execution_count": 3,
     "metadata": {},
     "output_type": "execute_result"
    }
   ],
   "source": [
    "df = pd.DataFrame(data)\n",
    "df"
   ]
  },
  {
   "cell_type": "markdown",
   "id": "e57162ca",
   "metadata": {},
   "source": [
    "##### Normalizing Nested JSON (for address)\n",
    "- pandas.json_normalize() flattens nested JSON into columns."
   ]
  },
  {
   "cell_type": "code",
   "execution_count": 5,
   "id": "d1625acd",
   "metadata": {},
   "outputs": [
    {
     "data": {
      "text/html": [
       "<div>\n",
       "<style scoped>\n",
       "    .dataframe tbody tr th:only-of-type {\n",
       "        vertical-align: middle;\n",
       "    }\n",
       "\n",
       "    .dataframe tbody tr th {\n",
       "        vertical-align: top;\n",
       "    }\n",
       "\n",
       "    .dataframe thead th {\n",
       "        text-align: right;\n",
       "    }\n",
       "</style>\n",
       "<table border=\"1\" class=\"dataframe\">\n",
       "  <thead>\n",
       "    <tr style=\"text-align: right;\">\n",
       "      <th></th>\n",
       "      <th>id</th>\n",
       "      <th>name</th>\n",
       "      <th>orders</th>\n",
       "      <th>address.city</th>\n",
       "      <th>address.zip</th>\n",
       "    </tr>\n",
       "  </thead>\n",
       "  <tbody>\n",
       "    <tr>\n",
       "      <th>0</th>\n",
       "      <td>1</td>\n",
       "      <td>Alice</td>\n",
       "      <td>[{'id': 101, 'amount': 250}, {'id': 102, 'amou...</td>\n",
       "      <td>Delhi</td>\n",
       "      <td>110001</td>\n",
       "    </tr>\n",
       "    <tr>\n",
       "      <th>1</th>\n",
       "      <td>2</td>\n",
       "      <td>Bob</td>\n",
       "      <td>[{'id': 103, 'amount': 300}]</td>\n",
       "      <td>Mumbai</td>\n",
       "      <td>400001</td>\n",
       "    </tr>\n",
       "  </tbody>\n",
       "</table>\n",
       "</div>"
      ],
      "text/plain": [
       "   id   name                                             orders address.city  \\\n",
       "0   1  Alice  [{'id': 101, 'amount': 250}, {'id': 102, 'amou...        Delhi   \n",
       "1   2    Bob                       [{'id': 103, 'amount': 300}]       Mumbai   \n",
       "\n",
       "   address.zip  \n",
       "0       110001  \n",
       "1       400001  "
      ]
     },
     "execution_count": 5,
     "metadata": {},
     "output_type": "execute_result"
    }
   ],
   "source": [
    "df_normalized = pd.json_normalize(data)\n",
    "df_normalized"
   ]
  },
  {
   "cell_type": "markdown",
   "id": "23783255",
   "metadata": {},
   "source": [
    "##### Expanding Arrays (for orders)\n",
    "- For list-type fields (orders), use json_normalize with record_path."
   ]
  },
  {
   "cell_type": "code",
   "execution_count": 7,
   "id": "bf267eda",
   "metadata": {},
   "outputs": [
    {
     "ename": "ValueError",
     "evalue": "Conflicting metadata name id, need distinguishing prefix ",
     "output_type": "error",
     "traceback": [
      "\u001b[0;31m---------------------------------------------------------------------------\u001b[0m",
      "\u001b[0;31mValueError\u001b[0m                                Traceback (most recent call last)",
      "Cell \u001b[0;32mIn[7], line 1\u001b[0m\n\u001b[0;32m----> 1\u001b[0m df_orders \u001b[38;5;241m=\u001b[39m \u001b[43mpd\u001b[49m\u001b[38;5;241;43m.\u001b[39;49m\u001b[43mjson_normalize\u001b[49m\u001b[43m(\u001b[49m\u001b[43mdata\u001b[49m\u001b[43m,\u001b[49m\u001b[43m \u001b[49m\u001b[43mrecord_path\u001b[49m\u001b[38;5;241;43m=\u001b[39;49m\u001b[38;5;124;43m\"\u001b[39;49m\u001b[38;5;124;43morders\u001b[39;49m\u001b[38;5;124;43m\"\u001b[39;49m\u001b[43m,\u001b[49m\u001b[43m \u001b[49m\u001b[43mmeta\u001b[49m\u001b[38;5;241;43m=\u001b[39;49m\u001b[43m[\u001b[49m\u001b[38;5;124;43m\"\u001b[39;49m\u001b[38;5;124;43mid\u001b[39;49m\u001b[38;5;124;43m\"\u001b[39;49m\u001b[43m,\u001b[49m\u001b[43m \u001b[49m\u001b[38;5;124;43m\"\u001b[39;49m\u001b[38;5;124;43mname\u001b[39;49m\u001b[38;5;124;43m\"\u001b[39;49m\u001b[43m]\u001b[49m\u001b[43m)\u001b[49m\n\u001b[1;32m      2\u001b[0m df_orders\n",
      "File \u001b[0;32m~/.local/lib/python3.10/site-packages/pandas/io/json/_normalize.py:530\u001b[0m, in \u001b[0;36mjson_normalize\u001b[0;34m(data, record_path, meta, meta_prefix, record_prefix, errors, sep, max_level)\u001b[0m\n\u001b[1;32m    527\u001b[0m     k \u001b[38;5;241m=\u001b[39m meta_prefix \u001b[38;5;241m+\u001b[39m k\n\u001b[1;32m    529\u001b[0m \u001b[38;5;28;01mif\u001b[39;00m k \u001b[38;5;129;01min\u001b[39;00m result:\n\u001b[0;32m--> 530\u001b[0m     \u001b[38;5;28;01mraise\u001b[39;00m \u001b[38;5;167;01mValueError\u001b[39;00m(\n\u001b[1;32m    531\u001b[0m         \u001b[38;5;124mf\u001b[39m\u001b[38;5;124m\"\u001b[39m\u001b[38;5;124mConflicting metadata name \u001b[39m\u001b[38;5;132;01m{\u001b[39;00mk\u001b[38;5;132;01m}\u001b[39;00m\u001b[38;5;124m, need distinguishing prefix \u001b[39m\u001b[38;5;124m\"\u001b[39m\n\u001b[1;32m    532\u001b[0m     )\n\u001b[1;32m    533\u001b[0m \u001b[38;5;66;03m# GH 37782\u001b[39;00m\n\u001b[1;32m    535\u001b[0m values \u001b[38;5;241m=\u001b[39m np\u001b[38;5;241m.\u001b[39marray(v, dtype\u001b[38;5;241m=\u001b[39m\u001b[38;5;28mobject\u001b[39m)\n",
      "\u001b[0;31mValueError\u001b[0m: Conflicting metadata name id, need distinguishing prefix "
     ]
    }
   ],
   "source": [
    "df_orders = pd.json_normalize(data, record_path=\"orders\", meta=[\"id\", \"name\"])\n",
    "df_orders"
   ]
  },
  {
   "cell_type": "code",
   "execution_count": 8,
   "metadata": {},
   "outputs": [
    {
     "data": {
      "text/html": [
       "<div>\n",
       "<style scoped>\n",
       "    .dataframe tbody tr th:only-of-type {\n",
       "        vertical-align: middle;\n",
       "    }\n",
       "\n",
       "    .dataframe tbody tr th {\n",
       "        vertical-align: top;\n",
       "    }\n",
       "\n",
       "    .dataframe thead th {\n",
       "        text-align: right;\n",
       "    }\n",
       "</style>\n",
       "<table border=\"1\" class=\"dataframe\">\n",
       "  <thead>\n",
       "    <tr style=\"text-align: right;\">\n",
       "      <th></th>\n",
       "      <th>id</th>\n",
       "      <th>name</th>\n",
       "      <th>address</th>\n",
       "      <th>id</th>\n",
       "      <th>amount</th>\n",
       "    </tr>\n",
       "  </thead>\n",
       "  <tbody>\n",
       "    <tr>\n",
       "      <th>0</th>\n",
       "      <td>1</td>\n",
       "      <td>Alice</td>\n",
       "      <td>{'city': 'Delhi', 'zip': 110001}</td>\n",
       "      <td>101</td>\n",
       "      <td>250</td>\n",
       "    </tr>\n",
       "    <tr>\n",
       "      <th>1</th>\n",
       "      <td>1</td>\n",
       "      <td>Alice</td>\n",
       "      <td>{'city': 'Delhi', 'zip': 110001}</td>\n",
       "      <td>102</td>\n",
       "      <td>450</td>\n",
       "    </tr>\n",
       "    <tr>\n",
       "      <th>2</th>\n",
       "      <td>2</td>\n",
       "      <td>Bob</td>\n",
       "      <td>{'city': 'Mumbai', 'zip': 400001}</td>\n",
       "      <td>103</td>\n",
       "      <td>300</td>\n",
       "    </tr>\n",
       "  </tbody>\n",
       "</table>\n",
       "</div>"
      ],
      "text/plain": [
       "   id   name                            address   id  amount\n",
       "0   1  Alice   {'city': 'Delhi', 'zip': 110001}  101     250\n",
       "1   1  Alice   {'city': 'Delhi', 'zip': 110001}  102     450\n",
       "2   2    Bob  {'city': 'Mumbai', 'zip': 400001}  103     300"
      ]
     },
     "execution_count": 8,
     "metadata": {},
     "output_type": "execute_result"
    }
   ],
   "source": [
    "df2 = df.explode(\"orders\", ignore_index=True)\n",
    "df2 = pd.concat([df2.drop(\"orders\", axis=1), df2[\"orders\"].apply(pd.Series)], axis=1)\n",
    "df2"
   ]
  }
 ],
 "metadata": {
  "kernelspec": {
   "display_name": "Python 3",
   "language": "python",
   "name": "python3"
  },
  "language_info": {
   "codemirror_mode": {
    "name": "ipython",
    "version": 3
   },
   "file_extension": ".py",
   "mimetype": "text/x-python",
   "name": "python",
   "nbconvert_exporter": "python",
   "pygments_lexer": "ipython3",
   "version": "3.10.12"
  }
 },
 "nbformat": 4,
 "nbformat_minor": 5
}
