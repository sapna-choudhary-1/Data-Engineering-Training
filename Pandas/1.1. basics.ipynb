{
 "cells": [
  {
   "cell_type": "code",
   "execution_count": 578,
   "id": "51becac6",
   "metadata": {},
   "outputs": [],
   "source": [
    "import pandas as pd\n",
    "import numpy as np"
   ]
  },
  {
   "cell_type": "markdown",
   "id": "f319923e",
   "metadata": {},
   "source": [
    "# ================== Basics =================="
   ]
  },
  {
   "cell_type": "markdown",
   "id": "4eabe022",
   "metadata": {},
   "source": [
    "## ----------- Series -----------\n",
    "> class pandas.Series(data=None, index=None, dtype=None, name=None, copy=None, fastpath=<no_default>)"
   ]
  },
  {
   "cell_type": "markdown",
   "id": "c4cf2a95",
   "metadata": {},
   "source": [
    "### ----------- SERIES CREATION -----------"
   ]
  },
  {
   "cell_type": "code",
   "execution_count": 539,
   "id": "c545a257",
   "metadata": {},
   "outputs": [
    {
     "name": "stdout",
     "output_type": "stream",
     "text": [
      "<class 'list'>\n",
      "['A', 'B', 'C']\n",
      "\n",
      "-------------------------\n",
      "<class 'pandas.core.series.Series'>\n"
     ]
    },
    {
     "data": {
      "text/plain": [
       "0    A\n",
       "1    B\n",
       "2    C\n",
       "dtype: object"
      ]
     },
     "execution_count": 539,
     "metadata": {},
     "output_type": "execute_result"
    }
   ],
   "source": [
    "row = [\"A\", \"B\", \"C\"]\n",
    "print(type(row))\n",
    "print(row)\n",
    "\n",
    "# ➤➤➤➤➤➤ defaults with header_name = 0  & index = range(0-...) ➤➤➤➤➤➤\n",
    "print(\"\\n-------------------------\")\n",
    "s1 = pd.Series(data = row, dtype = None, name = None, copy = False) \n",
    "print(type(s1))\n",
    "s1"
   ]
  },
  {
   "cell_type": "code",
   "execution_count": 287,
   "id": "2b772bbe",
   "metadata": {},
   "outputs": [
    {
     "name": "stdout",
     "output_type": "stream",
     "text": [
      "\n",
      "------------ s2 -------------\n",
      "0    3.0\n",
      "1    2.0\n",
      "2    NaN\n",
      "dtype: float64\n",
      "\n",
      "------------ s3 -------------\n",
      "0      a\n",
      "1      2\n",
      "2    NaN\n",
      "3      0\n",
      "dtype: object\n",
      "\n",
      "------------ s4 -------------\n",
      "a    10\n",
      "b    20\n",
      "c    30\n",
      "dtype: int64\n"
     ]
    }
   ],
   "source": [
    "print(\"\\n------------ s2 -------------\")\n",
    "lst1 = [3, 2, np.nan] # [3.0, 2.0, NaN] ➤➤➤ float64\n",
    "s2 = pd.Series(lst1)\n",
    "print(s2)\n",
    "\n",
    "print(\"\\n------------ s3 -------------\")\n",
    "lst2 = ['a', 2, np.nan, 0] # [a, 2, NaN] ➤➤➤ object\n",
    "# Mixed types → dtype becomes object\n",
    "s3 = pd.Series(lst2)\n",
    "print(s3)\n",
    "\n",
    "# From dictionary (keys = index, values = data)\n",
    "print(\"\\n------------ s4 -------------\")\n",
    "s4 = pd.Series({\"a\": 10, \"b\": 20, \"c\": 30})\n",
    "print(s4)"
   ]
  },
  {
   "cell_type": "code",
   "execution_count": 289,
   "id": "246ac0e2",
   "metadata": {},
   "outputs": [
    {
     "name": "stdout",
     "output_type": "stream",
     "text": [
      "\n",
      "------------ s5 -------------\n",
      "val1                a\n",
      "[a, 2, nan, 0]      2\n",
      "None              NaN\n",
      "NaN                 0\n",
      "dtype: object\n",
      "\n",
      "------------ s6 -------------\n",
      "0      a\n",
      "1      2\n",
      "2    NaN\n",
      "3      0\n",
      "dtype: object\n",
      "\n",
      "------------ s7 -------------\n",
      "0     True\n",
      "1     True\n",
      "2     True\n",
      "3    False\n",
      "dtype: bool\n",
      "\n",
      "------------ s8 -------------\n",
      "0      a\n",
      "1      2\n",
      "2    NaN\n",
      "3      0\n",
      "Name: Dummy-Series, dtype: object\n"
     ]
    }
   ],
   "source": [
    "# Explicit index\n",
    "print(\"\\n------------ s5 -------------\")\n",
    "lst3 = ['a', 2, np.nan, 0]\n",
    "s5 = pd.Series(lst3, index=[\"val1\", lst3, None, np.nan])\n",
    "print(s5)\n",
    "\n",
    "print(\"\\n------------ s6 -------------\")\n",
    "s6 = pd.Series(lst3, dtype = str) # object\n",
    "print(s6)\n",
    "\n",
    "print(\"\\n------------ s7 -------------\")\n",
    "s7 = pd.Series(lst3, dtype = bool) # bool ❌ >> Values converted to [True, True, True, False]\n",
    "print(s7)\n",
    "\n",
    "print(\"\\n------------ s8 -------------\")\n",
    "s8 = pd.Series(lst3, name = \"Dummy-Series\")\n",
    "print(s8)"
   ]
  },
  {
   "cell_type": "markdown",
   "id": "a157c244",
   "metadata": {},
   "source": [
    "### ----------- SERIES ATTRIBUTES -----------"
   ]
  },
  {
   "cell_type": "code",
   "execution_count": null,
   "id": "58359911",
   "metadata": {},
   "outputs": [
    {
     "name": "stdout",
     "output_type": "stream",
     "text": [
      "object\n",
      "object\n",
      "(5,)\n",
      "\n",
      "----------- [[ Transpose ]] --------------\n",
      "0                      a\n",
      "val1                   2\n",
      "[a, 2, nan, 0, a]    NaN\n",
      "None                   0\n",
      "NaN                    a\n",
      "Name: Dummy-Series, dtype: object\n",
      "\n",
      "----------- [[ Representation ]] --------------\n",
      "Dummy-Series\n",
      "['a' 2 nan 0 'a']\n",
      "Index([0, 'val1', ['a', 2, nan, 0, 'a'], None, nan], dtype='object')\n",
      "\n",
      "---------- [[ Dims ]] ---------------\n",
      "5\n",
      "1\n",
      "40\n",
      "\n",
      "---------- [[ Flags ]] ---------------\n",
      "False\n",
      "False\n",
      "True\n",
      "<Flags(allows_duplicate_labels=True)>\n"
     ]
    }
   ],
   "source": [
    "\n",
    "lst = ['a', 2, np.nan, 0, 'a']\n",
    "s = pd.Series(lst, name = \"Dummy-Series\", index=[0, \"val1\", lst, None, np.nan])\n",
    "\n",
    "print(s.dtype)     # data type of the series itself\n",
    "print(s.dtypes)     # data type\n",
    "\n",
    "print(\"\\n----------- [[ Transpose ]] --------------\")\n",
    "print(s.T)     # Transpose {Basically same in case of Series}\n",
    "\n",
    "print(\"\\n----------- [[ Representation ]] --------------\")\n",
    "print(s.name)      # name of series\n",
    "print(s.values)    # underlying numpy array\n",
    "print(s.index)     # Index object ::::: row labels\n",
    "\n",
    "print(\"\\n---------- [[ Dims ]] ---------------\")\n",
    "print(s.shape)     # n(rows), n(cols)\n",
    "print(s.size)      # total n(elements)\n",
    "print(s.ndim)      # dimension\n",
    "print(s.nbytes)    # memory usage\n",
    "\n",
    "print(\"\\n---------- [[ Flags ]] ---------------\")\n",
    "print(s.empty)     # True/False if empty\n",
    "print(s.is_unique) # True/False for uniqueness of elements\n",
    "print(s.hasnans)   # True if NaNs present\n",
    "print(s.flags)     # internal flags\n",
    "\n"
   ]
  },
  {
   "cell_type": "code",
   "execution_count": null,
   "id": "e7d42dac",
   "metadata": {},
   "outputs": [
    {
     "name": "stdout",
     "output_type": "stream",
     "text": [
      "\n",
      "------------ item:- Not a series method, --> it's for Numpy scalar method -------------\n",
      "<bound method IndexOpsMixin.item of 0                      a\n",
      "val1                   2\n",
      "[a, 2, nan, 0, a]    NaN\n",
      "None                   0\n",
      "NaN                    a\n",
      "Name: Dummy-Series, dtype: object>\n",
      "\n",
      "----------- items:- Reference to the method --------------\n",
      "----------- It basically means: This is a method attached to this object, but you haven’t called it yet. --------------\n",
      "<bound method Series.items of 0      a\n",
      "1      2\n",
      "2    NaN\n",
      "3      0\n",
      "dtype: object>\n"
     ]
    },
    {
     "data": {
      "text/plain": [
       "<bound method Series.items of 0      a\n",
       "1      2\n",
       "2    NaN\n",
       "3      0\n",
       "dtype: object>"
      ]
     },
     "execution_count": 468,
     "metadata": {},
     "output_type": "execute_result"
    }
   ],
   "source": [
    "\n",
    "print(\"\\n------------ item:- Not a series method, --> it's for Numpy scalar method -------------\")\n",
    "print(s.item)\n",
    "\n",
    "print(\"\\n----------- items:- Reference to the method --------------\")\n",
    "print(\"----------- It basically means: This is a method attached to this object, but you haven’t called it yet. --------------\")\n",
    "srs.items"
   ]
  },
  {
   "cell_type": "markdown",
   "id": "d03858db",
   "metadata": {},
   "source": [
    "### ----------- SERIES METHODS -----------"
   ]
  },
  {
   "cell_type": "markdown",
   "id": "45543e10",
   "metadata": {},
   "source": [
    "#### Representation/ Coversion"
   ]
  },
  {
   "cell_type": "code",
   "execution_count": 469,
   "id": "c9209472",
   "metadata": {},
   "outputs": [
    {
     "name": "stdout",
     "output_type": "stream",
     "text": [
      "\n",
      "------------ keys() -------------\n",
      "Index([0, 'val1', ['a', 2, nan, 0, 'a'], None, nan], dtype='object')\n",
      "\n",
      "------------ index -------------\n",
      "Index([0, 'val1', ['a', 2, nan, 0, 'a'], None, nan], dtype='object')\n"
     ]
    }
   ],
   "source": [
    "lst = ['a', 2, np.nan, 0, 'a']\n",
    "s = pd.Series(lst, name = \"Dummy-Series\", index=[0, \"val1\", lst, None, np.nan])\n",
    "\n",
    "# ➤➤➤➤➤➤ Returns index-object ➤➤➤➤➤➤\n",
    "print(\"\\n------------ keys() -------------\")\n",
    "print(s.keys())     # same as s.index\n",
    "\n",
    "# ➤➤➤➤➤➤ Index object (all row labels) ➤➤➤➤➤➤\n",
    "print(\"\\n------------ index -------------\")\n",
    "print(s.index) \n"
   ]
  },
  {
   "cell_type": "code",
   "execution_count": 567,
   "id": "0b127ea6",
   "metadata": {},
   "outputs": [
    {
     "name": "stdout",
     "output_type": "stream",
     "text": [
      "\n",
      "------------ items() -------------\n",
      "<zip object at 0x733fbf2df9c0>\n",
      "\n",
      "----------- Actually executes the method --------------\n",
      "k: 0, v: a\n",
      "k: 1, v: 2\n",
      "k: 2, v: nan\n",
      "k: 3, v: 0\n",
      "\n",
      "-------------------------\n",
      "(0, 'a') (1, 2) (2, nan) (3, 0)\n",
      "[(0, 'a'), (1, 2), (2, nan), (3, 0)]\n"
     ]
    }
   ],
   "source": [
    "# g  Returns an Iterator:- zip-object ➡️➡️➡️➡️\n",
    "print(\"\\n------------ items() -------------\")\n",
    "print(srs.items()) \n",
    "\n",
    "print(\"\\n----------- Actually executes the method --------------\")\n",
    "for k, v in srs.items():\n",
    "    print(f\"k: {k}, v: {v}\")\n",
    "\n",
    "print(\"\\n-------------------------\")\n",
    "[*indexes] = srs.items()\n",
    "print(*indexes)  \n",
    "print(indexes)       # (index, value) pairs "
   ]
  },
  {
   "cell_type": "markdown",
   "id": "22cf042d",
   "metadata": {},
   "source": [
    "#### Element Access/ Pop/ Assign Values"
   ]
  },
  {
   "cell_type": "code",
   "execution_count": 572,
   "id": "7efc5dd9",
   "metadata": {},
   "outputs": [
    {
     "name": "stdout",
     "output_type": "stream",
     "text": [
      "\n",
      "------------ at: single ele, by label -------------\n",
      "2\n",
      "vallll\n",
      "a\n",
      "\n",
      "------------\n",
      "0                           a\n",
      "val1                        2\n",
      "2.0                       NaN\n",
      "(a, 2, nan, 0, vallll)      0\n",
      "NaN                       val\n",
      "Name: Dummy-Series, dtype: object\n",
      "\n",
      "------------ iat: single ele, by position -------------\n",
      "a\n",
      "val\n",
      "\n",
      "------------\n",
      "0                              a\n",
      "val1                           2\n",
      "2.0                          NaN\n",
      "(a, 2, nan, 0, vallll)         0\n",
      "NaN                       vallll\n",
      "Name: Dummy-Series, dtype: object\n"
     ]
    }
   ],
   "source": [
    "lst = ['a', 2, np.nan, 0, 'vallll']\n",
    "s1 = pd.Series(lst, name = \"Dummy-Series\", index=[0, \"val1\", lst, None, np.nan])\n",
    "s = pd.Series(lst, name = \"Dummy-Series\", index=[0, 'val1', 2.0, tuple(lst), np.nan])\n",
    "\n",
    "print(\"\\n------------ at: single ele, by label -------------\")\n",
    "# print(s1.at[\"val1\"])        # ❌ TypeError: unhashable type: 'list':::: In Pandas, index labels must be hashable\n",
    "# print(s.at[None])           # ❌ KeyError: None\n",
    "# print(s.at['np.nan'])       # ❌ KeyError: 'np.nan'\n",
    "# print(s.at[10])             # ❌ KeyError: 10\n",
    "print(s.at['val1']) \n",
    "print(s.at[np.nan])\n",
    "print(s.at[0])                # 0 as index is present in the series\n",
    "print(\"\\n------------\")\n",
    "s.at[np.nan] = 'val'\n",
    "print(s)\n",
    "\n",
    "\n",
    "print(\"\\n------------ iat: single ele, by position -------------\")\n",
    "# print(s.iat[\"val1\"])       # ❌ ValueError: iAt based indexing can only have integer indexers\n",
    "# print(s.iat[10])           # ❌ IndexError: index 10 is out of bounds for axis 0 with size 5\n",
    "print(s.iat[0]) \n",
    "print(s.iat[-1])   \n",
    "print(\"\\n------------\")\n",
    "s.iat[-1] = 'vallll'\n",
    "print(s)"
   ]
  },
  {
   "cell_type": "code",
   "execution_count": 372,
   "id": "04ca409f",
   "metadata": {},
   "outputs": [
    {
     "name": "stdout",
     "output_type": "stream",
     "text": [
      "\n",
      "------------ loc: multiple ele, by label -------------\n",
      "a\n",
      "2\n",
      "------------\n",
      "vallll\n",
      "2.0       NaN\n",
      "NaN    vallll\n",
      "Name: Dummy-Series, dtype: object\n",
      "------------\n",
      "0                         555\n",
      "val1                        2\n",
      "2.0                       555\n",
      "(a, 2, nan, 0, vallll)      0\n",
      "NaN                       555\n",
      "Name: Dummy-Series, dtype: object\n",
      "\n",
      "------------ iloc: multiple ele, by position -------------\n",
      "0       555\n",
      "val1      2\n",
      "2.0     555\n",
      "Name: Dummy-Series, dtype: object\n",
      "------------\n",
      "0                         555\n",
      "val1                      999\n",
      "2.0                       555\n",
      "(a, 2, nan, 0, vallll)    999\n",
      "NaN                       555\n",
      "Name: Dummy-Series, dtype: object\n"
     ]
    }
   ],
   "source": [
    "lst = ['a', 2, np.nan, 0, 'vallll']\n",
    "s = pd.Series(lst, name = \"Dummy-Series\", index=[0, 'val1', 2.0, tuple(lst), np.nan])\n",
    "\n",
    "print(\"\\n------------ loc: multiple ele, by label -------------\")\n",
    "# print(s.loc[tuple(lst)])      # ❌ IndexingError: Too many indexers\n",
    "# s.loc[0:3]                    # ❌ TypeError: cannot do slice indexing on Index with these indexers [0] of type int\n",
    "print(s.loc[0]) \n",
    "print(s.loc[\"val1\"]) \n",
    "print(\"------------\")\n",
    "print(s.loc[np.nan])          \n",
    "print(s.loc[2.0 : np.nan : 2])  # ➡️➡️ Last label's ele also included \n",
    "print(\"------------\")\n",
    "s.loc[: : 2] = 555\n",
    "print(s)\n",
    "\n",
    "print(\"\\n------------ iloc: multiple ele, by position -------------\")\n",
    "print(s.iloc[0:3])             # ➡️➡️ Last label's ele NOT included\n",
    "print(\"------------\")\n",
    "s.iloc[1:: 2] = 999\n",
    "print(s)"
   ]
  },
  {
   "cell_type": "code",
   "execution_count": 375,
   "id": "cdc28a57",
   "metadata": {},
   "outputs": [
    {
     "name": "stdout",
     "output_type": "stream",
     "text": [
      "0    0\n",
      "1    1\n",
      "2    2\n",
      "3    3\n",
      "4    4\n",
      "dtype: int64\n",
      "0\n",
      "------------\n",
      "1    1\n",
      "2    2\n",
      "3    3\n",
      "4    4\n",
      "dtype: int64\n"
     ]
    }
   ],
   "source": [
    "s = pd.Series(range(5))\n",
    "print(s)\n",
    "\n",
    "# Pop element\n",
    "print(s.pop(0))\n",
    "print(\"------------\")\n",
    "print(s)"
   ]
  },
  {
   "cell_type": "markdown",
   "id": "6a987e90",
   "metadata": {},
   "source": [
    "#### Mathematical"
   ]
  },
  {
   "cell_type": "code",
   "execution_count": 576,
   "id": "e8f0016e",
   "metadata": {},
   "outputs": [
    {
     "name": "stdout",
     "output_type": "stream",
     "text": [
      "0    0.2\n",
      "1    0.4\n",
      "2    0.5\n",
      "3    0.8\n",
      "4    1.0\n",
      "dtype: float64\n",
      "0    0.0\n",
      "1    0.0\n",
      "2    0.0\n",
      "3    1.0\n",
      "4    1.0\n",
      "dtype: float64\n"
     ]
    }
   ],
   "source": [
    "s = pd.Series([0.2, 0.4, 0.5, 0.8, 1])\n",
    "print(s)\n",
    "\n",
    "# Round values\n",
    "print(s.round())"
   ]
  },
  {
   "cell_type": "markdown",
   "id": "7b7b2514",
   "metadata": {},
   "source": [
    "#### Comparisons & Transformations"
   ]
  },
  {
   "cell_type": "code",
   "execution_count": 385,
   "id": "eb524021",
   "metadata": {},
   "outputs": [
    {
     "name": "stdout",
     "output_type": "stream",
     "text": [
      "a    False\n",
      "b     True\n",
      "c     True\n",
      "d    False\n",
      "e    False\n",
      "f    False\n",
      "dtype: bool\n",
      "------------\n",
      "a    False\n",
      "b     True\n",
      "c     True\n",
      "d    False\n",
      "e    False\n",
      "f     True\n",
      "dtype: bool\n",
      "------------\n",
      "0    0\n",
      "1    1\n",
      "2    2\n",
      "3    3\n",
      "4    4\n",
      "dtype: int64\n",
      "------------\n",
      "       sqrt        exp\n",
      "0  0.000000   1.000000\n",
      "1  1.000000   2.718282\n",
      "2  1.414214   7.389056\n",
      "3  1.732051  20.085537\n",
      "4  2.000000  54.598150\n"
     ]
    }
   ],
   "source": [
    "a = pd.Series([1, 1, 1, np.nan, 1], index=['a', 'b', 'c', 'd', 'e'])\n",
    "b = pd.Series([0, 1, 2, np.nan, 1], index=['a', 'b', 'c', 'd', 'f'])\n",
    "\n",
    "# element-wise comparison\n",
    "print(a.le(b))                # default fill-value None\n",
    "print(\"------------\")\n",
    "print(a.le(b, fill_value=0))  # with fill for NaN alignment\n",
    "print(\"------------\")\n",
    "\n",
    "# Transform with functions\n",
    "s = pd.Series(range(5))\n",
    "print(s)\n",
    "print(\"------------\")\n",
    "print(s.transform([np.sqrt, np.exp]))\n"
   ]
  },
  {
   "cell_type": "markdown",
   "id": "9d3e5d10",
   "metadata": {},
   "source": [
    "#### Where, Mask"
   ]
  },
  {
   "cell_type": "code",
   "execution_count": 390,
   "id": "38f67344",
   "metadata": {},
   "outputs": [
    {
     "name": "stdout",
     "output_type": "stream",
     "text": [
      "0    not-true\n",
      "1           0\n",
      "2    not-true\n",
      "dtype: object\n",
      "------------\n",
      "0          0\n",
      "1    is-true\n",
      "2          0\n",
      "dtype: object\n",
      "------------\n",
      "<Flags(allows_duplicate_labels=False)>\n",
      "------------\n",
      "<Flags(allows_duplicate_labels=False)>\n"
     ]
    }
   ],
   "source": [
    "s = pd.Series(range(5))\n",
    "s = pd.Series([0,0,0])\n",
    "t = pd.Series([True, False, True, False, True])\n",
    "t = pd.Series([False, True, False, True, False])\n",
    "\n",
    "print(s.where(t, \"not-true\")) # change where condition is false\n",
    "print(\"------------\")\n",
    "print(s.mask(t, \"is-true\")) # change where condition is true\n",
    "print(\"------------\")\n",
    "\n",
    "\n",
    "srs = srs.set_flags(allows_duplicate_labels=False)\n",
    "print(srs.flags)\n",
    "print(\"------------\")\n",
    "\n",
    "srs.set_flags(allows_duplicate_labels=True)\n",
    "print(srs.flags)\n"
   ]
  },
  {
   "cell_type": "markdown",
   "id": "fb1f1a15",
   "metadata": {},
   "source": [
    "## ----------- Dataframe -----------\n",
    "> class pandas.DataFrame(data=None, index=None, columns=None, dtype=None, copy=None)"
   ]
  },
  {
   "cell_type": "markdown",
   "id": "21087a60",
   "metadata": {},
   "source": [
    "### ----------- DATAFRAME CREATION -----------"
   ]
  },
  {
   "cell_type": "code",
   "execution_count": 419,
   "id": "632660bf",
   "metadata": {},
   "outputs": [
    {
     "name": "stdout",
     "output_type": "stream",
     "text": [
      "\n",
      "----------- From dictionary of lists --------------\n",
      "{'Name': ['Alice', 'Bob', 'Charlie'], 'Age': [24, 30, 22], 'City': ['Delhi', 'Mumbai', nan]}\n",
      "\n",
      "-------------------------\n",
      "      Name  Age    City\n",
      "0    Alice   24   Delhi\n",
      "1      Bob   30  Mumbai\n",
      "2  Charlie   22     NaN\n",
      "-------------------------\n"
     ]
    },
    {
     "data": {
      "text/html": [
       "<div>\n",
       "<style scoped>\n",
       "    .dataframe tbody tr th:only-of-type {\n",
       "        vertical-align: middle;\n",
       "    }\n",
       "\n",
       "    .dataframe tbody tr th {\n",
       "        vertical-align: top;\n",
       "    }\n",
       "\n",
       "    .dataframe thead th {\n",
       "        text-align: right;\n",
       "    }\n",
       "</style>\n",
       "<table border=\"1\" class=\"dataframe\">\n",
       "  <thead>\n",
       "    <tr style=\"text-align: right;\">\n",
       "      <th></th>\n",
       "      <th>Name</th>\n",
       "      <th>Age</th>\n",
       "      <th>City</th>\n",
       "    </tr>\n",
       "  </thead>\n",
       "  <tbody>\n",
       "    <tr>\n",
       "      <th>0</th>\n",
       "      <td>Alice</td>\n",
       "      <td>24</td>\n",
       "      <td>Delhi</td>\n",
       "    </tr>\n",
       "    <tr>\n",
       "      <th>1</th>\n",
       "      <td>Bob</td>\n",
       "      <td>30</td>\n",
       "      <td>Mumbai</td>\n",
       "    </tr>\n",
       "    <tr>\n",
       "      <th>2</th>\n",
       "      <td>Charlie</td>\n",
       "      <td>22</td>\n",
       "      <td>NaN</td>\n",
       "    </tr>\n",
       "  </tbody>\n",
       "</table>\n",
       "</div>"
      ],
      "text/plain": [
       "      Name  Age    City\n",
       "0    Alice   24   Delhi\n",
       "1      Bob   30  Mumbai\n",
       "2  Charlie   22     NaN"
      ]
     },
     "execution_count": 419,
     "metadata": {},
     "output_type": "execute_result"
    }
   ],
   "source": [
    "print(\"\\n----------- From dictionary of lists --------------\")\n",
    "dt = {\n",
    "    \"Name\": [\"Alice\", \"Bob\", \"Charlie\"],\n",
    "    \"Age\": [24, 30, 22],\n",
    "    \"City\": [\"Delhi\", \"Mumbai\", np.nan]\n",
    "}\n",
    "print(dt)\n",
    "\n",
    "print(\"\\n-------------------------\")\n",
    "df1 = pd.DataFrame(dt)\n",
    "print(df1)\n",
    "print(\"-------------------------\")\n",
    "df1"
   ]
  },
  {
   "cell_type": "code",
   "execution_count": 421,
   "id": "ad553147",
   "metadata": {},
   "outputs": [
    {
     "name": "stdout",
     "output_type": "stream",
     "text": [
      "\n",
      "----------- From list of dicts --------------\n",
      "[{'Name': 'Alice', 'Age': 24, 'Num': 5}, {'Name': 'Bob', 'Age': 30, 'Num': 5}, {'Name': 'Charlie', 'Agessss': 35, 'Num': 5}]\n",
      "\n",
      "-------------------------\n"
     ]
    },
    {
     "data": {
      "text/html": [
       "<div>\n",
       "<style scoped>\n",
       "    .dataframe tbody tr th:only-of-type {\n",
       "        vertical-align: middle;\n",
       "    }\n",
       "\n",
       "    .dataframe tbody tr th {\n",
       "        vertical-align: top;\n",
       "    }\n",
       "\n",
       "    .dataframe thead th {\n",
       "        text-align: right;\n",
       "    }\n",
       "</style>\n",
       "<table border=\"1\" class=\"dataframe\">\n",
       "  <thead>\n",
       "    <tr style=\"text-align: right;\">\n",
       "      <th></th>\n",
       "      <th>Name</th>\n",
       "      <th>Age</th>\n",
       "      <th>Num</th>\n",
       "      <th>Agessss</th>\n",
       "    </tr>\n",
       "  </thead>\n",
       "  <tbody>\n",
       "    <tr>\n",
       "      <th>0</th>\n",
       "      <td>Alice</td>\n",
       "      <td>24.0</td>\n",
       "      <td>5</td>\n",
       "      <td>NaN</td>\n",
       "    </tr>\n",
       "    <tr>\n",
       "      <th>1</th>\n",
       "      <td>Bob</td>\n",
       "      <td>30.0</td>\n",
       "      <td>5</td>\n",
       "      <td>NaN</td>\n",
       "    </tr>\n",
       "    <tr>\n",
       "      <th>2</th>\n",
       "      <td>Charlie</td>\n",
       "      <td>NaN</td>\n",
       "      <td>5</td>\n",
       "      <td>35.0</td>\n",
       "    </tr>\n",
       "  </tbody>\n",
       "</table>\n",
       "</div>"
      ],
      "text/plain": [
       "      Name   Age  Num  Agessss\n",
       "0    Alice  24.0    5      NaN\n",
       "1      Bob  30.0    5      NaN\n",
       "2  Charlie   NaN    5     35.0"
      ]
     },
     "execution_count": 421,
     "metadata": {},
     "output_type": "execute_result"
    }
   ],
   "source": [
    "print(\"\\n----------- From list of dicts --------------\")\n",
    "dt = [\n",
    "    {\"Name\": \"Alice\", \"Age\": 24, \"Num\": 5},\n",
    "    {\"Name\": \"Bob\", \"Age\": 30, \"Num\": 5},\n",
    "    {\"Name\": \"Charlie\", \"Agessss\": 35, \"Num\": 5}\n",
    "]\n",
    "print(dt)\n",
    "\n",
    "print(\"\\n-------------------------\")\n",
    "df2 = pd.DataFrame(dt)\n",
    "df2"
   ]
  },
  {
   "cell_type": "code",
   "execution_count": 430,
   "id": "753ece75",
   "metadata": {},
   "outputs": [
    {
     "name": "stdout",
     "output_type": "stream",
     "text": [
      "<class 'numpy.float64'>\n",
      "<class 'numpy.float64'>\n",
      "<class 'numpy.int64'>\n",
      "<class 'str'>\n"
     ]
    }
   ],
   "source": [
    "print(type(df2.loc[0][\"Age\"]))\n",
    "print(type(df2.loc[2][\"Age\"]))\n",
    "print(type(df2.loc[2][\"Num\"]))\n",
    "print(type(df2.loc[2][\"Name\"]))"
   ]
  },
  {
   "cell_type": "code",
   "execution_count": 431,
   "id": "8c5b81cd",
   "metadata": {},
   "outputs": [
    {
     "name": "stdout",
     "output_type": "stream",
     "text": [
      "\n",
      "----------- From numpy array --------------\n",
      "[[ 0  1  2]\n",
      " [ 3  4  5]\n",
      " [ 6  7  8]\n",
      " [ 9 10 11]]\n",
      "\n",
      "-------------------------\n",
      "   0   1   2\n",
      "0  0   1   2\n",
      "1  3   4   5\n",
      "2  6   7   8\n",
      "3  9  10  11\n",
      "\n",
      "-------------------------\n"
     ]
    },
    {
     "data": {
      "text/html": [
       "<div>\n",
       "<style scoped>\n",
       "    .dataframe tbody tr th:only-of-type {\n",
       "        vertical-align: middle;\n",
       "    }\n",
       "\n",
       "    .dataframe tbody tr th {\n",
       "        vertical-align: top;\n",
       "    }\n",
       "\n",
       "    .dataframe thead th {\n",
       "        text-align: right;\n",
       "    }\n",
       "</style>\n",
       "<table border=\"1\" class=\"dataframe\">\n",
       "  <thead>\n",
       "    <tr style=\"text-align: right;\">\n",
       "      <th></th>\n",
       "      <th>A</th>\n",
       "      <th>B</th>\n",
       "      <th>C</th>\n",
       "    </tr>\n",
       "  </thead>\n",
       "  <tbody>\n",
       "    <tr>\n",
       "      <th>0</th>\n",
       "      <td>0</td>\n",
       "      <td>1</td>\n",
       "      <td>2</td>\n",
       "    </tr>\n",
       "    <tr>\n",
       "      <th>1</th>\n",
       "      <td>3</td>\n",
       "      <td>4</td>\n",
       "      <td>5</td>\n",
       "    </tr>\n",
       "    <tr>\n",
       "      <th>2</th>\n",
       "      <td>6</td>\n",
       "      <td>7</td>\n",
       "      <td>8</td>\n",
       "    </tr>\n",
       "    <tr>\n",
       "      <th>3</th>\n",
       "      <td>9</td>\n",
       "      <td>10</td>\n",
       "      <td>11</td>\n",
       "    </tr>\n",
       "  </tbody>\n",
       "</table>\n",
       "</div>"
      ],
      "text/plain": [
       "   A   B   C\n",
       "0  0   1   2\n",
       "1  3   4   5\n",
       "2  6   7   8\n",
       "3  9  10  11"
      ]
     },
     "execution_count": 431,
     "metadata": {},
     "output_type": "execute_result"
    }
   ],
   "source": [
    "print(\"\\n----------- From numpy array --------------\")\n",
    "dt = np.arange(12).reshape(4,3)\n",
    "print(dt)\n",
    "\n",
    "print(\"\\n-------------------------\")\n",
    "df3 = pd.DataFrame(dt)\n",
    "print(df3)\n",
    "\n",
    "print(\"\\n-------------------------\")\n",
    "df3 = pd.DataFrame(dt, columns=[\"A\",\"B\",\"C\"])\n",
    "df3"
   ]
  },
  {
   "cell_type": "code",
   "execution_count": 452,
   "id": "1e698f7a",
   "metadata": {},
   "outputs": [
    {
     "name": "stdout",
     "output_type": "stream",
     "text": [
      "\n",
      "----------- From Series dict --------------\n",
      "a    1\n",
      "b    2\n",
      "dtype: int64\n",
      "a    3\n",
      "b    4\n",
      "c    5\n",
      "dtype: int64\n",
      "a    6\n",
      "b    7\n",
      "c    8\n",
      "d    9\n",
      "dtype: int64\n",
      "f    2\n",
      "e    3\n",
      "dtype: int64\n",
      "\n",
      "-------------------------\n"
     ]
    },
    {
     "data": {
      "text/html": [
       "<div>\n",
       "<style scoped>\n",
       "    .dataframe tbody tr th:only-of-type {\n",
       "        vertical-align: middle;\n",
       "    }\n",
       "\n",
       "    .dataframe tbody tr th {\n",
       "        vertical-align: top;\n",
       "    }\n",
       "\n",
       "    .dataframe thead th {\n",
       "        text-align: right;\n",
       "    }\n",
       "</style>\n",
       "<table border=\"1\" class=\"dataframe\">\n",
       "  <thead>\n",
       "    <tr style=\"text-align: right;\">\n",
       "      <th></th>\n",
       "      <th>col1</th>\n",
       "      <th>col3</th>\n",
       "      <th>col2</th>\n",
       "      <th>col4</th>\n",
       "    </tr>\n",
       "  </thead>\n",
       "  <tbody>\n",
       "    <tr>\n",
       "      <th>a</th>\n",
       "      <td>1.0</td>\n",
       "      <td>6.0</td>\n",
       "      <td>3.0</td>\n",
       "      <td>NaN</td>\n",
       "    </tr>\n",
       "    <tr>\n",
       "      <th>b</th>\n",
       "      <td>2.0</td>\n",
       "      <td>7.0</td>\n",
       "      <td>4.0</td>\n",
       "      <td>NaN</td>\n",
       "    </tr>\n",
       "    <tr>\n",
       "      <th>c</th>\n",
       "      <td>NaN</td>\n",
       "      <td>8.0</td>\n",
       "      <td>5.0</td>\n",
       "      <td>NaN</td>\n",
       "    </tr>\n",
       "    <tr>\n",
       "      <th>d</th>\n",
       "      <td>NaN</td>\n",
       "      <td>9.0</td>\n",
       "      <td>NaN</td>\n",
       "      <td>NaN</td>\n",
       "    </tr>\n",
       "    <tr>\n",
       "      <th>e</th>\n",
       "      <td>NaN</td>\n",
       "      <td>NaN</td>\n",
       "      <td>NaN</td>\n",
       "      <td>3.0</td>\n",
       "    </tr>\n",
       "    <tr>\n",
       "      <th>f</th>\n",
       "      <td>NaN</td>\n",
       "      <td>NaN</td>\n",
       "      <td>NaN</td>\n",
       "      <td>2.0</td>\n",
       "    </tr>\n",
       "  </tbody>\n",
       "</table>\n",
       "</div>"
      ],
      "text/plain": [
       "   col1  col3  col2  col4\n",
       "a   1.0   6.0   3.0   NaN\n",
       "b   2.0   7.0   4.0   NaN\n",
       "c   NaN   8.0   5.0   NaN\n",
       "d   NaN   9.0   NaN   NaN\n",
       "e   NaN   NaN   NaN   3.0\n",
       "f   NaN   NaN   NaN   2.0"
      ]
     },
     "execution_count": 452,
     "metadata": {},
     "output_type": "execute_result"
    }
   ],
   "source": [
    "\n",
    "print(\"\\n----------- From Series dict --------------\")\n",
    "dt1 = pd.Series([1,2], index=[\"a\",\"b\"])\n",
    "dt2 = pd.Series([3,4,5], index=[\"a\",\"b\",\"c\"])\n",
    "dt3 = pd.Series([6,7,8,9], index=[\"a\",\"b\",\"c\",\"d\"])\n",
    "dt4 = pd.Series([2, 3], index=['f', 'e'])\n",
    "print(dt1)\n",
    "print(dt2)\n",
    "print(dt3)\n",
    "print(dt4)\n",
    "\n",
    "print(\"\\n-------------------------\")\n",
    "df4 = pd.DataFrame({\"col1\": dt1, \"col3\": dt3, \"col2\": dt2, 'col4': dt4})\n",
    "df4"
   ]
  },
  {
   "cell_type": "code",
   "execution_count": 524,
   "id": "d70257d3",
   "metadata": {},
   "outputs": [
    {
     "name": "stdout",
     "output_type": "stream",
     "text": [
      "\n",
      "----------- From Dataclass --------------\n",
      "<class 'types.Point'>\n",
      "Point(x=0, y=0)\n",
      "Point(x=0, y=3)\n",
      "Point(x=2, y=3)\n",
      "-----------\n"
     ]
    }
   ],
   "source": [
    "print(\"\\n----------- From Dataclass --------------\")\n",
    "from dataclasses import make_dataclass\n",
    "\n",
    "Point = make_dataclass(\"Point\", [(\"x\", int), (\"y\", int)])\n",
    "a = Point(0,0)\n",
    "b = Point(0,3)\n",
    "c = Point(2,3)\n",
    "\n",
    "print(Point)\n",
    "print(a, b, c, sep = \"\\n\")\n",
    "\n",
    "print(\"-----------\")\n",
    "df = pd.DataFrame([a, b, c])"
   ]
  },
  {
   "cell_type": "code",
   "execution_count": 466,
   "id": "192b531b",
   "metadata": {},
   "outputs": [
    {
     "name": "stdout",
     "output_type": "stream",
     "text": [
      "   col1  col2\n",
      "0     1     3\n",
      "1     2     4\n",
      "\n",
      "-------------------------\n",
      "Empty DataFrame\n",
      "Columns: []\n",
      "Index: []\n",
      "\n",
      "-------------------------\n",
      "Series([], dtype: object)\n",
      "col1    int64\n",
      "col2    int64\n",
      "dtype: object\n",
      "\n",
      "-------------------------\n",
      "col1    float64\n",
      "col2    float64\n",
      "dtype: object\n",
      "-------------------------\n",
      "   col1  col2\n",
      "0   1.0   3.0\n",
      "1   2.0   4.0\n",
      "\n",
      "-------------------------\n",
      "   col1  col2\n",
      "x     1     3\n",
      "y     2     4\n",
      "\n",
      "-------------------------\n",
      "   col1   c2\n",
      "0     1  NaN\n",
      "1     2  NaN\n",
      "\n",
      "-------------------------\n",
      "Empty DataFrame\n",
      "Columns: [c2]\n",
      "Index: []\n"
     ]
    }
   ],
   "source": [
    "dt = {'col1': [1, 2], 'col2': [3, 4]}\n",
    "df1 = pd.DataFrame(data=dt)\n",
    "print(df1)\n",
    "\n",
    "print(\"\\n-------------------------\")\n",
    "df2 = pd.DataFrame(data = None)\n",
    "print(df2)\n",
    "# df2\n",
    "\n",
    "print(\"\\n-------------------------\")\n",
    "print(df2.dtypes)\n",
    "df3 = pd.DataFrame(dt, dtype=None)\n",
    "print(df3.dtypes)\n",
    "\n",
    "print(\"\\n-------------------------\")\n",
    "df4 = pd.DataFrame(dt, dtype=np.float64)\n",
    "print(df4.dtypes)\n",
    "print(\"-------------------------\")\n",
    "print(df4)\n",
    "\n",
    "print(\"\\n-------------------------\")\n",
    "df5 = pd.DataFrame(dt, index=['x', 'y'])\n",
    "print(df5)\n",
    "\n",
    "print(\"\\n-------------------------\")\n",
    "df6 = pd.DataFrame(dt, columns = ['col1', 'c2'])\n",
    "print(df6)\n",
    "\n",
    "print(\"\\n-------------------------\")\n",
    "df7 = pd.DataFrame(dt, columns = ['c2'])\n",
    "print(df7)\n",
    "\n"
   ]
  },
  {
   "cell_type": "code",
   "execution_count": 525,
   "id": "75b88c92",
   "metadata": {},
   "outputs": [
    {
     "data": {
      "text/plain": [
       "3"
      ]
     },
     "execution_count": 525,
     "metadata": {},
     "output_type": "execute_result"
    }
   ],
   "source": [
    "len(df)"
   ]
  },
  {
   "cell_type": "markdown",
   "id": "7d1e893d",
   "metadata": {},
   "source": [
    "### ----------- ADDING/ REMOVING CLOUMNS -----------"
   ]
  },
  {
   "cell_type": "code",
   "execution_count": 521,
   "id": "3c6e8b14",
   "metadata": {},
   "outputs": [
    {
     "name": "stdout",
     "output_type": "stream",
     "text": [
      "   col1  col2\n",
      "0     1     3\n",
      "1     2     4\n",
      "\n",
      "-------------------------\n",
      "   col1  col2 Country\n",
      "0     1     3   India\n",
      "1     2     4   Japan\n",
      "-------------------------\n",
      "   col1  col2 Country Continent\n",
      "0     1     3   India      Asia\n",
      "1     2     4   Japan      Asia\n"
     ]
    },
    {
     "data": {
      "text/html": [
       "<div>\n",
       "<style scoped>\n",
       "    .dataframe tbody tr th:only-of-type {\n",
       "        vertical-align: middle;\n",
       "    }\n",
       "\n",
       "    .dataframe tbody tr th {\n",
       "        vertical-align: top;\n",
       "    }\n",
       "\n",
       "    .dataframe thead th {\n",
       "        text-align: right;\n",
       "    }\n",
       "</style>\n",
       "<table border=\"1\" class=\"dataframe\">\n",
       "  <thead>\n",
       "    <tr style=\"text-align: right;\">\n",
       "      <th></th>\n",
       "      <th>col1</th>\n",
       "      <th>col2</th>\n",
       "      <th>Continent</th>\n",
       "    </tr>\n",
       "  </thead>\n",
       "  <tbody>\n",
       "    <tr>\n",
       "      <th>0</th>\n",
       "      <td>1</td>\n",
       "      <td>3</td>\n",
       "      <td>Asia</td>\n",
       "    </tr>\n",
       "    <tr>\n",
       "      <th>1</th>\n",
       "      <td>2</td>\n",
       "      <td>4</td>\n",
       "      <td>Asia</td>\n",
       "    </tr>\n",
       "  </tbody>\n",
       "</table>\n",
       "</div>"
      ],
      "text/plain": [
       "   col1  col2 Continent\n",
       "0     1     3      Asia\n",
       "1     2     4      Asia"
      ]
     },
     "execution_count": 521,
     "metadata": {},
     "output_type": "execute_result"
    }
   ],
   "source": [
    "dt = {'col1': [1, 2], 'col2': [3, 4]}\n",
    "df1 = pd.DataFrame(data=dt)\n",
    "print(df1)\n",
    "\n",
    "print(\"\\n-------------------------\")\n",
    "# Add new column\n",
    "df1[\"Country\"] = [\"India\", \"Japan\"]\n",
    "print(df1)\n",
    "print(\"-------------------------\")\n",
    "# df1[\"Continent\"] = [\"Asia\"]       # ❌ ValueError: Length of values (1) does not match length of index (2)\n",
    "df1[\"Continent\"] = \"Asia\"\n",
    "print(df1)\n",
    "\n",
    "# Drop column\n",
    "# df1.drop(\"Country\")       # ❌ KeyError: \"['Country'] not found in axis\"\n",
    "# df1.drop(\"Country\", axis=0, inplace=True)       # ❌ KeyError: \"['Country'] not found in axis\"\n",
    "df1.drop(\"Country\", axis=1, inplace=True)\n",
    "df1"
   ]
  },
  {
   "cell_type": "markdown",
   "id": "c70e3dff",
   "metadata": {},
   "source": [
    "### ----------- ADDING/ REMOVING ROWS -----------"
   ]
  },
  {
   "cell_type": "code",
   "execution_count": 529,
   "id": "aab0580a",
   "metadata": {},
   "outputs": [
    {
     "name": "stdout",
     "output_type": "stream",
     "text": [
      "   col1  col2\n",
      "0     1     3\n",
      "1     2     4\n",
      "\n",
      "-------------------------\n",
      "    col1  col2\n",
      "0      1     3\n",
      "1      2     4\n",
      "2  David    29\n"
     ]
    },
    {
     "data": {
      "text/html": [
       "<div>\n",
       "<style scoped>\n",
       "    .dataframe tbody tr th:only-of-type {\n",
       "        vertical-align: middle;\n",
       "    }\n",
       "\n",
       "    .dataframe tbody tr th {\n",
       "        vertical-align: top;\n",
       "    }\n",
       "\n",
       "    .dataframe thead th {\n",
       "        text-align: right;\n",
       "    }\n",
       "</style>\n",
       "<table border=\"1\" class=\"dataframe\">\n",
       "  <thead>\n",
       "    <tr style=\"text-align: right;\">\n",
       "      <th></th>\n",
       "      <th>col1</th>\n",
       "      <th>col2</th>\n",
       "    </tr>\n",
       "  </thead>\n",
       "  <tbody>\n",
       "    <tr>\n",
       "      <th>1</th>\n",
       "      <td>2</td>\n",
       "      <td>4</td>\n",
       "    </tr>\n",
       "    <tr>\n",
       "      <th>2</th>\n",
       "      <td>David</td>\n",
       "      <td>29</td>\n",
       "    </tr>\n",
       "  </tbody>\n",
       "</table>\n",
       "</div>"
      ],
      "text/plain": [
       "    col1  col2\n",
       "1      2     4\n",
       "2  David    29"
      ]
     },
     "execution_count": 529,
     "metadata": {},
     "output_type": "execute_result"
    }
   ],
   "source": [
    "dt = {'col1': [1, 2], 'col2': [3, 4]}\n",
    "df1 = pd.DataFrame(data=dt)\n",
    "print(df1)\n",
    "\n",
    "print(\"\\n-------------------------\")\n",
    "# Add row\n",
    "df1.loc[len(df1)] = [\"David\", 29]\n",
    "print(df1)\n",
    "\n",
    "# Drop row\n",
    "df1.drop(0, axis=0, inplace=True)\n",
    "df1\n"
   ]
  },
  {
   "cell_type": "markdown",
   "id": "1d2d1cff",
   "metadata": {},
   "source": [
    "### ----------- DATAFRAME ATTRIBUTES -----------"
   ]
  },
  {
   "cell_type": "code",
   "execution_count": 577,
   "id": "df4947d2",
   "metadata": {},
   "outputs": [
    {
     "name": "stdout",
     "output_type": "stream",
     "text": [
      "      Name  Age    City  Weight\n",
      "0    Alice   24   Delhi    60.0\n",
      "1      Bob   30  Mumbai     NaN\n",
      "2  Charlie   22     NaN    50.0\n",
      "\n",
      "-------------------------\n",
      "Name       object\n",
      "Age         int64\n",
      "City       object\n",
      "Weight    float64\n",
      "dtype: object\n",
      "-------------------------\n",
      "int64\n",
      "-------------------------\n",
      "(3, 4)\n",
      "-------------------------\n",
      "3\n",
      "\n",
      "----------- [[ Transpose ]] --------------\n",
      "            0       1        2\n",
      "Name    Alice     Bob  Charlie\n",
      "Age        24      30       22\n",
      "City    Delhi  Mumbai      NaN\n",
      "Weight   60.0     NaN     50.0\n",
      "\n",
      "----------- [[ Representation ]] --------------\n",
      "[['Alice' 24 'Delhi' 60.0]\n",
      " ['Bob' 30 'Mumbai' nan]\n",
      " ['Charlie' 22 nan 50.0]]\n",
      "-------------------------\n",
      "RangeIndex(start=0, stop=3, step=1)\n",
      "-------------------------\n",
      "Index(['Name', 'Age', 'City', 'Weight'], dtype='object')\n",
      "-------------------------\n",
      "[RangeIndex(start=0, stop=3, step=1), Index(['Name', 'Age', 'City', 'Weight'], dtype='object')]\n",
      "\n",
      "---------- [[ Dims ]] ---------------\n",
      "12\n",
      "2\n",
      "\n",
      "---------- [[ Flags ]] ---------------\n",
      "False\n",
      "<Flags(allows_duplicate_labels=True)>\n",
      "\n",
      "----------- [[ Style ]] --------------\n"
     ]
    },
    {
     "data": {
      "text/html": [
       "<style type=\"text/css\">\n",
       "</style>\n",
       "<table id=\"T_fa4de\">\n",
       "  <thead>\n",
       "    <tr>\n",
       "      <th class=\"blank level0\" >&nbsp;</th>\n",
       "      <th id=\"T_fa4de_level0_col0\" class=\"col_heading level0 col0\" >Name</th>\n",
       "      <th id=\"T_fa4de_level0_col1\" class=\"col_heading level0 col1\" >Age</th>\n",
       "      <th id=\"T_fa4de_level0_col2\" class=\"col_heading level0 col2\" >City</th>\n",
       "      <th id=\"T_fa4de_level0_col3\" class=\"col_heading level0 col3\" >Weight</th>\n",
       "    </tr>\n",
       "  </thead>\n",
       "  <tbody>\n",
       "    <tr>\n",
       "      <th id=\"T_fa4de_level0_row0\" class=\"row_heading level0 row0\" >0</th>\n",
       "      <td id=\"T_fa4de_row0_col0\" class=\"data row0 col0\" >Alice</td>\n",
       "      <td id=\"T_fa4de_row0_col1\" class=\"data row0 col1\" >24</td>\n",
       "      <td id=\"T_fa4de_row0_col2\" class=\"data row0 col2\" >Delhi</td>\n",
       "      <td id=\"T_fa4de_row0_col3\" class=\"data row0 col3\" >60.000000</td>\n",
       "    </tr>\n",
       "    <tr>\n",
       "      <th id=\"T_fa4de_level0_row1\" class=\"row_heading level0 row1\" >1</th>\n",
       "      <td id=\"T_fa4de_row1_col0\" class=\"data row1 col0\" >Bob</td>\n",
       "      <td id=\"T_fa4de_row1_col1\" class=\"data row1 col1\" >30</td>\n",
       "      <td id=\"T_fa4de_row1_col2\" class=\"data row1 col2\" >Mumbai</td>\n",
       "      <td id=\"T_fa4de_row1_col3\" class=\"data row1 col3\" >nan</td>\n",
       "    </tr>\n",
       "    <tr>\n",
       "      <th id=\"T_fa4de_level0_row2\" class=\"row_heading level0 row2\" >2</th>\n",
       "      <td id=\"T_fa4de_row2_col0\" class=\"data row2 col0\" >Charlie</td>\n",
       "      <td id=\"T_fa4de_row2_col1\" class=\"data row2 col1\" >22</td>\n",
       "      <td id=\"T_fa4de_row2_col2\" class=\"data row2 col2\" >nan</td>\n",
       "      <td id=\"T_fa4de_row2_col3\" class=\"data row2 col3\" >50.000000</td>\n",
       "    </tr>\n",
       "  </tbody>\n",
       "</table>\n"
      ],
      "text/plain": [
       "<pandas.io.formats.style.Styler at 0x733fbf113fd0>"
      ]
     },
     "execution_count": 577,
     "metadata": {},
     "output_type": "execute_result"
    }
   ],
   "source": [
    "dt = {\n",
    "    \"Name\": [\"Alice\", \"Bob\", \"Charlie\"],\n",
    "    \"Age\": [24, 30, 22],\n",
    "    \"City\": [\"Delhi\", \"Mumbai\", np.nan],\n",
    "    \"Weight\": [60, np.nan, 50]\n",
    "}\n",
    "df = pd.DataFrame(dt)\n",
    "print(df)\n",
    "\n",
    "print(\"\\n-------------------------\")\n",
    "# print(df.dtype)       # ❌ AttributeError: 'DataFrame' object has no attribute 'dtype'\n",
    "print(df.dtypes)    # dtypes\n",
    "print(\"-------------------------\")\n",
    "print(df[\"Age\"].dtypes)    # dtypes\n",
    "print(\"-------------------------\")\n",
    "print(df.shape)     # dimensions\n",
    "print(\"-------------------------\")\n",
    "print(len(df))     # n(rows)\n",
    "\n",
    "print(\"\\n----------- [[ Transpose ]] --------------\")\n",
    "print(df.T)\n",
    "\n",
    "print(\"\\n----------- [[ Representation ]] --------------\")\n",
    "print(df.values)     # Numpy representation\n",
    "print(\"-------------------------\")\n",
    "print(df.index)      # row labels\n",
    "print(\"-------------------------\")\n",
    "print(df.columns)    # column labels\n",
    "print(\"-------------------------\")\n",
    "print(df.axes)       # axes of the df\n",
    "\n",
    "print(\"\\n---------- [[ Dims ]] ---------------\")\n",
    "print(df.size)       # int for n(eles)\n",
    "print(df.ndim)       # int for n(axes / array dimensions)\n",
    "# print(df.nbytes)       # ❌ AttributeError: 'DataFrame' object has no attribute 'nbytes'\n",
    "\n",
    "print(\"\\n---------- [[ Flags ]] ---------------\")\n",
    "print(df.empty)\n",
    "print(df.flags)      # Get the properties associated with this pandas object\n",
    "# print(df.is_unique)       # ❌ AttributeError: 'DataFrame' object has no attribute 'is_unique'\n",
    "# print(df.hasnans)       # ❌ AttributeError: 'DataFrame' object has no attribute 'hasnans'\n",
    "\n",
    "print(\"\\n----------- [[ Style ]] --------------\")\n",
    "df.style          # Returns a Styler object\n"
   ]
  },
  {
   "cell_type": "markdown",
   "id": "37de0765",
   "metadata": {},
   "source": [
    "### ----------- DATAFRAME METHODS -----------"
   ]
  },
  {
   "cell_type": "code",
   "execution_count": 537,
   "id": "e17e5a3b",
   "metadata": {},
   "outputs": [
    {
     "name": "stdout",
     "output_type": "stream",
     "text": [
      "      Name  Age    City  Weight\n",
      "0    Alice   24   Delhi    60.0\n",
      "1      Bob   30  Mumbai     NaN\n",
      "2  Charlie   22     NaN    50.0\n",
      "\n",
      "------------ keys() -------------\n",
      "Index(['Name', 'Age', 'City', 'Weight'], dtype='object')\n",
      "\n",
      "------------ index -------------\n",
      "RangeIndex(start=0, stop=3, step=1)\n"
     ]
    }
   ],
   "source": [
    "dt = {\n",
    "    \"Name\": [\"Alice\", \"Bob\", \"Charlie\"],\n",
    "    \"Age\": [24, 30, 22],\n",
    "    \"City\": [\"Delhi\", \"Mumbai\", np.nan],\n",
    "    \"Weight\": [60, np.nan, 50]\n",
    "}\n",
    "df = pd.DataFrame(dt)\n",
    "print(df)\n",
    "\n",
    "# Get the 'info axis'\n",
    "print(\"\\n------------ keys() -------------\")\n",
    "print(df.keys())\n",
    "\n",
    "# The index (row labels)\n",
    "print(\"\\n------------ index -------------\")\n",
    "print(df.index) \n"
   ]
  },
  {
   "cell_type": "markdown",
   "id": "021137f1",
   "metadata": {},
   "source": [
    "## Series"
   ]
  },
  {
   "cell_type": "markdown",
   "id": "6e1329de",
   "metadata": {},
   "source": [
    "❌❌❌❌❌❌❌"
   ]
  },
  {
   "cell_type": "code",
   "execution_count": 274,
   "id": "857b05b2",
   "metadata": {},
   "outputs": [
    {
     "name": "stdout",
     "output_type": "stream",
     "text": [
      "0      Alice\n",
      "1        Bob\n",
      "2    Charlie\n",
      "Name: Name, dtype: object\n",
      "<class 'pandas.core.series.Series'>\n",
      "\n",
      "-------------------------\n",
      "0      Alice\n",
      "1        Bob\n",
      "2    Charlie\n",
      "Name: Name, dtype: object\n",
      "<class 'pandas.core.series.Series'>\n",
      "\n",
      "-------------------------\n",
      "      Name\n",
      "0    Alice\n",
      "1      Bob\n",
      "2  Charlie\n",
      "<class 'pandas.core.frame.DataFrame'>\n",
      "\n",
      "-------------------------\n",
      "       abc\n",
      "0    Alice\n",
      "1      Bob\n",
      "2  Charlie\n",
      "<class 'pandas.core.frame.DataFrame'>\n"
     ]
    }
   ],
   "source": [
    "srs1 = dtdf[\"Name\"]\n",
    "print(srs1)\n",
    "print(type(srs1))\n",
    "\n",
    "print(\"\\n-------------------------\")\n",
    "srs1s = pd.Series(dtdf[\"Name\"], name=\"abc\")\n",
    "print(srs1)\n",
    "print(type(srs1))\n",
    "\n",
    "print(\"\\n-------------------------\")\n",
    "srs1df = pd.DataFrame(srs1)\n",
    "print(srs1df)\n",
    "print(type(srs1df))\n",
    "\n",
    "print(\"\\n-------------------------\")\n",
    "srs1sdf = pd.DataFrame(srs1s)\n",
    "print(srs1sdf)\n",
    "print(type(srs1sdf))\n"
   ]
  },
  {
   "cell_type": "code",
   "execution_count": 249,
   "id": "f2c1686b",
   "metadata": {},
   "outputs": [
    {
     "name": "stdout",
     "output_type": "stream",
     "text": [
      "<class 'list'>\n",
      "\n",
      "-------------------------\n",
      "[0      Alice\n",
      "1        Bob\n",
      "2    Charlie\n",
      "Name: Name, dtype: object]\n",
      "\n",
      "-------------------------\n",
      "0    0      Alice\n",
      "1        Bob\n",
      "2    Charlie\n",
      "Name: N...\n",
      "Name: abc, dtype: object\n",
      "\n",
      "-------------------------\n"
     ]
    },
    {
     "data": {
      "text/html": [
       "<div>\n",
       "<style scoped>\n",
       "    .dataframe tbody tr th:only-of-type {\n",
       "        vertical-align: middle;\n",
       "    }\n",
       "\n",
       "    .dataframe tbody tr th {\n",
       "        vertical-align: top;\n",
       "    }\n",
       "\n",
       "    .dataframe thead th {\n",
       "        text-align: right;\n",
       "    }\n",
       "</style>\n",
       "<table border=\"1\" class=\"dataframe\">\n",
       "  <thead>\n",
       "    <tr style=\"text-align: right;\">\n",
       "      <th></th>\n",
       "      <th>abc</th>\n",
       "    </tr>\n",
       "  </thead>\n",
       "  <tbody>\n",
       "    <tr>\n",
       "      <th>0</th>\n",
       "      <td>0      Alice\n",
       "1        Bob\n",
       "2    Charlie\n",
       "Name: N...</td>\n",
       "    </tr>\n",
       "  </tbody>\n",
       "</table>\n",
       "</div>"
      ],
      "text/plain": [
       "                                                 abc\n",
       "0  0      Alice\n",
       "1        Bob\n",
       "2    Charlie\n",
       "Name: N..."
      ]
     },
     "execution_count": 249,
     "metadata": {},
     "output_type": "execute_result"
    }
   ],
   "source": [
    "print(type([dtdf[\"Name\"]]))\n",
    "\n",
    "print(\"\\n-------------------------\")\n",
    "print([dtdf[\"Name\"]])\n",
    "\n",
    "print(\"\\n-------------------------\")\n",
    "srs2 = pd.Series([dtdf[\"Name\"]], name=\"abc\")\n",
    "print(srs2)\n",
    "\n",
    "print(\"\\n-------------------------\")\n",
    "srs2df = pd.DataFrame(srs2)\n",
    "srs2df"
   ]
  }
 ],
 "metadata": {
  "kernelspec": {
   "display_name": "Python 3",
   "language": "python",
   "name": "python3"
  },
  "language_info": {
   "codemirror_mode": {
    "name": "ipython",
    "version": 3
   },
   "file_extension": ".py",
   "mimetype": "text/x-python",
   "name": "python",
   "nbconvert_exporter": "python",
   "pygments_lexer": "ipython3",
   "version": "3.10.12"
  }
 },
 "nbformat": 4,
 "nbformat_minor": 5
}
