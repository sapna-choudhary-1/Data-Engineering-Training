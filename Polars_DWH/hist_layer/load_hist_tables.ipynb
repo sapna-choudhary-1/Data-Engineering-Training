{
 "cells": [
  {
   "cell_type": "markdown",
   "id": "ba2197a7",
   "metadata": {},
   "source": [
    "## BRONZE & STAGING LAYER:- HIST TABLES"
   ]
  },
  {
   "cell_type": "markdown",
   "id": "0fa03d26",
   "metadata": {},
   "source": [
    "### Necessary Imports"
   ]
  },
  {
   "cell_type": "code",
   "execution_count": 44,
   "id": "74d6690b",
   "metadata": {},
   "outputs": [
    {
     "data": {
      "text/plain": [
       "True"
      ]
     },
     "execution_count": 44,
     "metadata": {},
     "output_type": "execute_result"
    }
   ],
   "source": [
    "import os\n",
    "import sys\n",
    "import logging\n",
    "from pathlib import Path\n",
    "from dotenv import load_dotenv\n",
    "\n",
    "import polars as pl\n",
    "from sqlalchemy import inspect, text\n",
    "\n",
    "import config\n",
    "\n",
    "top_level = Path().resolve().parent\n",
    "sys.path.append(str(top_level))\n",
    "from gold_layer.helper_utils import get_batch_id\n",
    "from db_utils import engine\n",
    "\n",
    "\n",
    "logging.basicConfig(level=logging.INFO)\n",
    "logger = logging.getLogger(__name__)\n",
    "\n",
    "load_dotenv(override=True)"
   ]
  },
  {
   "cell_type": "code",
   "execution_count": 45,
   "id": "93144a78",
   "metadata": {},
   "outputs": [],
   "source": [
    "POLARS_DWH = Path(os.getenv(\"POLARS_DWH\"))\n",
    "PARQUET_FILES_DIR = Path(os.getenv(\"PARQUET_FILES_DIR\"))\n",
    "\n",
    "bronze_parquet = PARQUET_FILES_DIR/'bronze_layer'\n",
    "bronze_parquet.mkdir(parents=True, exist_ok=True)\n",
    "\n",
    "staging_parquet = PARQUET_FILES_DIR/'staging_layer'\n",
    "staging_parquet.mkdir(parents=True, exist_ok=True)"
   ]
  },
  {
   "cell_type": "markdown",
   "id": "65d7829f",
   "metadata": {},
   "source": [
    "### Delete all \"hist\" parquet files of the layer"
   ]
  },
  {
   "cell_type": "code",
   "execution_count": 46,
   "id": "32fab545",
   "metadata": {},
   "outputs": [],
   "source": [
    "# for file in bronze_parquet.glob(\"*.parquet\"):\n",
    "#     if file.name.endswith(\"_hist.parquet\"):\n",
    "#         logger.info(f\"Deleting: {file}\")\n",
    "#         os.remove(file)\n",
    "\n",
    "# for file in staging_parquet.glob(\"*.parquet\"):\n",
    "#     if file.name.endswith(\"_hist.parquet\"):\n",
    "#         logger.info(f\"Deleting: {file}\")\n",
    "#         os.remove(file)"
   ]
  },
  {
   "cell_type": "code",
   "execution_count": 47,
   "id": "572ef07f",
   "metadata": {},
   "outputs": [],
   "source": [
    "def table_exists(engine, schema, table):\n",
    "    insp = inspect(engine)\n",
    "    return insp.has_table(table_name=table, schema=schema)"
   ]
  },
  {
   "cell_type": "code",
   "execution_count": null,
   "id": "9ca91613",
   "metadata": {},
   "outputs": [],
   "source": [
    "def process_layer(\n",
    "    layer_name: str,\n",
    "    parquet_dir: Path,\n",
    "    table_names: list[str],\n",
    "    cleanup_after: bool = False,\n",
    ") -> dict[str, pl.DataFrame]:\n",
    "    \"\"\"\n",
    "    Process a layer: append to history, print latest customer, optionally cleanup non-hist parquet files.\n",
    "    \"\"\"\n",
    "    logger.info(f\"\\nProcessing {layer_name.upper()} layer: {parquet_dir}\\n\")\n",
    "    dfs = {}\n",
    "    # Dynamically constructs the current table’s parquet & history file path\n",
    "    for table_name in table_names:\n",
    "        file_path = parquet_dir / f\"{layer_name}_{table_name}.parquet\"\n",
    "        hist_file_path = parquet_dir / f\"{layer_name}_{table_name}_hist.parquet\"\n",
    "\n",
    "        # Fetch the batch_id\n",
    "        if hist_file_path.exists():\n",
    "            df_hist = pl.read_parquet(hist_file_path)\n",
    "            batch_id = get_batch_id(df_hist)\n",
    "        else:\n",
    "            df_hist = None\n",
    "            batch_id = 1\n",
    "\n",
    "        if file_path.exists():\n",
    "            logger.info(f\"Appending {table_name} to history...\")\n",
    "            df = pl.read_parquet(file_path)\n",
    "            df_final = (\n",
    "                df.with_columns([\n",
    "                    pl.lit(batch_id).alias(\"batch_id\")\n",
    "                ])\n",
    "            )\n",
    "            # store current table in 'dfs' dictionary to be able to access them later\n",
    "            dfs[table_name] = df_final\n",
    "\n",
    "            if df_hist is not None:\n",
    "                # If a history file already exists: vertical concatenation \n",
    "                df_final = pl.concat([df_hist, df_final], how=\"vertical\")\n",
    "\n",
    "            # Save to parquet (local hist layer)\n",
    "            df_final.write_parquet(hist_file_path)\n",
    "            logger.info(f\"Created {table_name}: {df_final.shape} at {hist_file_path}\")\n",
    "\n",
    "            # Save to SQL Server (bronze schema in DB)\n",
    "            tbl = f\"{layer_name}.{table_name}_hist\"\n",
    "            # if table exists, check schema\n",
    "            if table_exists(engine, layer_name, table_name):\n",
    "                # fetch existing columns\n",
    "                with engine.connect() as conn:\n",
    "                    existing_cols = [c[\"name\"] for c in inspect(engine).get_columns(table_name, schema=layer_name)]\n",
    "\n",
    "                if \"batch_id\" not in existing_cols:\n",
    "                    logger.warning(f\"Table {tbl} missing 'batch_id'. Recreating table...\")\n",
    "                    mode = \"replace\"\n",
    "                else:\n",
    "                    mode = \"append\"\n",
    "            else:\n",
    "                mode = \"replace\"\n",
    "                \n",
    "            df_final.write_database(\n",
    "                table_name=tbl,\n",
    "                connection=engine,\n",
    "                if_table_exists=mode,\n",
    "            )\n",
    "            logger.info(f\"Saved {table_name} into DB schema {layer_name}\")\n",
    "\n",
    "        else:\n",
    "            logger.info(f\"Skipping {table_name} — no parquet found at {file_path}\")\n",
    "\n",
    "    # Cleanup if needed\n",
    "    if cleanup_after:\n",
    "        for f in parquet_dir.glob(\"*.parquet\"):\n",
    "            if not f.name.endswith(\"_hist.parquet\"):\n",
    "                logger.info(f\"Deleting: {f}\")\n",
    "                # delete parquet file\n",
    "                os.remove(f)\n",
    "\n",
    "                # delete DB table, if it exists\n",
    "                table_to_delete = f\"{layer_name}.{f.stem.replace(f'{layer_name}_','')}\"\n",
    "                try:\n",
    "                    with engine.begin() as conn:\n",
    "                        conn.execute(text(f\"DROP TABLE IF EXISTS {table_to_delete}\"))\n",
    "                    logger.info(f\"Dropped table {table_to_delete} in DB\")\n",
    "                except Exception as e:\n",
    "                    logger.warning(f\"Failed to drop table {table_to_delete}: {e}\")\n",
    "\n",
    "    return dfs\n"
   ]
  },
  {
   "cell_type": "code",
   "execution_count": null,
   "id": "d3a43e39",
   "metadata": {},
   "outputs": [
    {
     "name": "stderr",
     "output_type": "stream",
     "text": [
      "INFO:__main__:\n",
      "Processing STAGING layer: /home/sapna.choudhary/Data-Engineering-Training/Polars_DWH/parquet_files/staging_layer\n",
      "\n",
      "INFO:__main__:Skipping customer — no parquet found at /home/sapna.choudhary/Data-Engineering-Training/Polars_DWH/parquet_files/staging_layer/staging_customer.parquet\n",
      "INFO:__main__:Appending shipping_type to history...\n",
      "INFO:__main__:Created shipping_type: (12, 5) at /home/sapna.choudhary/Data-Engineering-Training/Polars_DWH/parquet_files/staging_layer/staging_shipping_type_hist.parquet\n",
      "WARNING:__main__:Table staging.shipping_type_hist missing 'batch_id'. Recreating table...\n",
      "INFO:__main__:Saved shipping_type into DB schema staging\n",
      "INFO:__main__:Skipping product — no parquet found at /home/sapna.choudhary/Data-Engineering-Training/Polars_DWH/parquet_files/staging_layer/staging_product.parquet\n",
      "INFO:__main__:Skipping orders — no parquet found at /home/sapna.choudhary/Data-Engineering-Training/Polars_DWH/parquet_files/staging_layer/staging_orders.parquet\n",
      "INFO:__main__:Deleting: /home/sapna.choudhary/Data-Engineering-Training/Polars_DWH/parquet_files/staging_layer/staging_shipping_type.parquet\n",
      "INFO:__main__:Dropped table staging.shipping_type in DB\n"
     ]
    }
   ],
   "source": [
    "# Process bronze\n",
    "dfs_bronze = process_layer(\"bronze\", bronze_parquet, config.HIST_CONFIG, cleanup_after=True)\n",
    "\n",
    "# Process staging\n",
    "dfs_staging = process_layer(\"staging\", staging_parquet, config.HIST_CONFIG, cleanup_after=True)\n"
   ]
  },
  {
   "cell_type": "code",
   "execution_count": 54,
   "id": "099e06ac",
   "metadata": {},
   "outputs": [
    {
     "data": {
      "text/html": [
       "<div><style>\n",
       ".dataframe > thead > tr,\n",
       ".dataframe > tbody > tr {\n",
       "  text-align: right;\n",
       "  white-space: pre-wrap;\n",
       "}\n",
       "</style>\n",
       "<small>shape: (8, 5)</small><table border=\"1\" class=\"dataframe\"><thead><tr><th>shipping_type_id</th><th>shipping_type</th><th>delivery_estimate</th><th>load_timestamp</th><th>batch_id</th></tr><tr><td>str</td><td>str</td><td>str</td><td>datetime[μs]</td><td>i32</td></tr></thead><tbody><tr><td>&quot;Ship_0002&quot;</td><td>&quot;Normal&quot;</td><td>&quot;3-7 Days&quot;</td><td>2025-09-19 15:21:34.047037</td><td>1</td></tr><tr><td>&quot;Ship_0003&quot;</td><td>&quot;One-Day Delivery&quot;</td><td>&quot;1 Day&quot;</td><td>2025-09-19 15:21:34.047037</td><td>1</td></tr><tr><td>&quot;Ship_0001&quot;</td><td>&quot;Express&quot;</td><td>&quot;3-5 Days&quot;</td><td>2025-09-19 15:21:34.047037</td><td>1</td></tr><tr><td>&quot;Ship_0004&quot;</td><td>&quot;Fast Delivery&quot;</td><td>&quot;1-3 Days&quot;</td><td>2025-09-19 15:21:34.047037</td><td>1</td></tr><tr><td>&quot;Ship_0003&quot;</td><td>&quot;One-Day Delivery&quot;</td><td>&quot;1 Day&quot;</td><td>2025-09-19 15:53:57.066318</td><td>2</td></tr><tr><td>&quot;Ship_0002&quot;</td><td>&quot;Normal&quot;</td><td>&quot;3-7 Days&quot;</td><td>2025-09-19 15:53:57.066318</td><td>2</td></tr><tr><td>&quot;Ship_0004&quot;</td><td>&quot;Fast Delivery&quot;</td><td>&quot;1-3 Days&quot;</td><td>2025-09-19 15:53:57.066318</td><td>2</td></tr><tr><td>&quot;Ship_0001&quot;</td><td>&quot;Express&quot;</td><td>&quot;3-5 Days&quot;</td><td>2025-09-19 15:53:57.066318</td><td>2</td></tr></tbody></table></div>"
      ],
      "text/plain": [
       "shape: (8, 5)\n",
       "┌──────────────────┬──────────────────┬───────────────────┬────────────────────────────┬──────────┐\n",
       "│ shipping_type_id ┆ shipping_type    ┆ delivery_estimate ┆ load_timestamp             ┆ batch_id │\n",
       "│ ---              ┆ ---              ┆ ---               ┆ ---                        ┆ ---      │\n",
       "│ str              ┆ str              ┆ str               ┆ datetime[μs]               ┆ i32      │\n",
       "╞══════════════════╪══════════════════╪═══════════════════╪════════════════════════════╪══════════╡\n",
       "│ Ship_0002        ┆ Normal           ┆ 3-7 Days          ┆ 2025-09-19 15:21:34.047037 ┆ 1        │\n",
       "│ Ship_0003        ┆ One-Day Delivery ┆ 1 Day             ┆ 2025-09-19 15:21:34.047037 ┆ 1        │\n",
       "│ Ship_0001        ┆ Express          ┆ 3-5 Days          ┆ 2025-09-19 15:21:34.047037 ┆ 1        │\n",
       "│ Ship_0004        ┆ Fast Delivery    ┆ 1-3 Days          ┆ 2025-09-19 15:21:34.047037 ┆ 1        │\n",
       "│ Ship_0003        ┆ One-Day Delivery ┆ 1 Day             ┆ 2025-09-19 15:53:57.066318 ┆ 2        │\n",
       "│ Ship_0002        ┆ Normal           ┆ 3-7 Days          ┆ 2025-09-19 15:53:57.066318 ┆ 2        │\n",
       "│ Ship_0004        ┆ Fast Delivery    ┆ 1-3 Days          ┆ 2025-09-19 15:53:57.066318 ┆ 2        │\n",
       "│ Ship_0001        ┆ Express          ┆ 3-5 Days          ┆ 2025-09-19 15:53:57.066318 ┆ 2        │\n",
       "└──────────────────┴──────────────────┴───────────────────┴────────────────────────────┴──────────┘"
      ]
     },
     "execution_count": 54,
     "metadata": {},
     "output_type": "execute_result"
    }
   ],
   "source": [
    "df = pl.read_parquet('/home/sapna.choudhary/Data-Engineering-Training/Polars_DWH/parquet_files/staging_layer/staging_shipping_type_hist.parquet')\n",
    "df"
   ]
  }
 ],
 "metadata": {
  "kernelspec": {
   "display_name": "Python 3",
   "language": "python",
   "name": "python3"
  },
  "language_info": {
   "codemirror_mode": {
    "name": "ipython",
    "version": 3
   },
   "file_extension": ".py",
   "mimetype": "text/x-python",
   "name": "python",
   "nbconvert_exporter": "python",
   "pygments_lexer": "ipython3",
   "version": "3.10.12"
  }
 },
 "nbformat": 4,
 "nbformat_minor": 5
}
