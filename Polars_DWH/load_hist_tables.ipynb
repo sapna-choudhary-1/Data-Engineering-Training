{
 "cells": [
  {
   "cell_type": "markdown",
   "id": "ba2197a7",
   "metadata": {},
   "source": [
    "## BRONZE & STAGING LAYER:- HIST TABLES"
   ]
  },
  {
   "cell_type": "markdown",
   "id": "0fa03d26",
   "metadata": {},
   "source": [
    "### Necessary Imports"
   ]
  },
  {
   "cell_type": "code",
   "execution_count": 1,
   "id": "74d6690b",
   "metadata": {},
   "outputs": [],
   "source": [
    "import os\n",
    "import polars as pl\n",
    "from pathlib import Path\n",
    "from dotenv import load_dotenv\n",
    "\n",
    "import sys\n",
    "sys.path.append(os.path.abspath(\".\"))\n",
    "from gold_layer.helper_utils import get_batch_id"
   ]
  },
  {
   "cell_type": "code",
   "execution_count": 2,
   "id": "93144a78",
   "metadata": {},
   "outputs": [
    {
     "name": "stdout",
     "output_type": "stream",
     "text": [
      "/home/sapna.choudhary/Data-Engineering-Training/Polars_DWH\n",
      "/home/sapna.choudhary/Data-Engineering-Training/Polars_DWH/parquet_files\n",
      "/home/sapna.choudhary/Data-Engineering-Training/Polars_DWH/parquet_files/bronze_layer\n",
      "/home/sapna.choudhary/Data-Engineering-Training/Polars_DWH/parquet_files/staging_layer\n"
     ]
    }
   ],
   "source": [
    "load_dotenv(override=True) \n",
    "\n",
    "POLARS_DWH = Path(os.getenv(\"POLARS_DWH\"))\n",
    "PARQUET_FILES_DIR = Path(os.getenv(\"PARQUET_FILES_DIR\"))\n",
    "\n",
    "bronze_parquet = PARQUET_FILES_DIR/'bronze_layer'\n",
    "bronze_parquet.mkdir(parents=True, exist_ok=True)\n",
    "\n",
    "staging_parquet = PARQUET_FILES_DIR/'staging_layer'\n",
    "staging_parquet.mkdir(parents=True, exist_ok=True)\n",
    "\n",
    "print(POLARS_DWH, PARQUET_FILES_DIR, bronze_parquet, staging_parquet, sep=\"\\n\")"
   ]
  },
  {
   "cell_type": "markdown",
   "id": "65d7829f",
   "metadata": {},
   "source": [
    "### Delete all \"hist\" parquet files of the layer"
   ]
  },
  {
   "cell_type": "code",
   "execution_count": 3,
   "id": "32fab545",
   "metadata": {},
   "outputs": [],
   "source": [
    "# for file in bronze_parquet.glob(\"*.parquet\"):\n",
    "#     if file.name.endswith(\"_hist.parquet\"):\n",
    "#         print(f\"Deleting: {file}\")\n",
    "#         os.remove(file)\n",
    "\n",
    "# for file in staging_parquet.glob(\"*.parquet\"):\n",
    "#     if file.name.endswith(\"_hist.parquet\"):\n",
    "#         print(f\"Deleting: {file}\")\n",
    "#         os.remove(file)"
   ]
  },
  {
   "cell_type": "code",
   "execution_count": null,
   "id": "9ca91613",
   "metadata": {},
   "outputs": [],
   "source": [
    "def process_layer(layer_name: str, parquet_dir: Path, table_names: list[str], cleanup_after: bool = False):\n",
    "    \"\"\"\n",
    "    Process a layer: append to history, print latest customer, optionally cleanup non-hist parquet files.\n",
    "    \"\"\"\n",
    "    print(f\"\\nProcessing {layer_name.upper()} layer: {parquet_dir}\\n\")\n",
    "    dfs = {}\n",
    "    # Dynamically constructs the current table’s parquet & history file path\n",
    "    for table_name in table_names:\n",
    "        file_path = parquet_dir / f\"{layer_name}_{table_name}.parquet\"\n",
    "        hist_file_path = parquet_dir / f\"{layer_name}_{table_name}_hist.parquet\"\n",
    "\n",
    "        # Fetch the batch_id\n",
    "        if hist_file_path.exists():\n",
    "            df_hist = pl.read_parquet(hist_file_path)\n",
    "            batch_id = get_batch_id(df_hist)\n",
    "        else:\n",
    "            batch_id = 1\n",
    "\n",
    "        if file_path.exists():\n",
    "            print(f\"Appending {table_name} to history...\")\n",
    "            df = pl.read_parquet(file_path)\n",
    "            df_final = (\n",
    "                df.with_columns([\n",
    "                    pl.lit(batch_id).alias(\"batch_id\")\n",
    "                ])\n",
    "            )\n",
    "            # store current table in 'dfs' dictionary to be able to access them later\n",
    "            dfs[table_name] = df_final\n",
    "\n",
    "            if hist_file_path.exists():\n",
    "                # If a history file already exists: vertical concatenation \n",
    "                df_hist = pl.read_parquet(hist_file_path)\n",
    "                df_hist = pl.concat([df_hist, df_final], how=\"vertical\")\n",
    "                df_hist.write_parquet(hist_file_path)\n",
    "            else:\n",
    "                df_final.write_parquet(hist_file_path)\n",
    "        else:\n",
    "            print(f\"Skipping {table_name} — no parquet found at {file_path}\")\n",
    "\n",
    "    # Cleanup if needed\n",
    "    if cleanup_after:\n",
    "        for f in parquet_dir.glob(\"*.parquet\"):\n",
    "            if not f.name.endswith(\"_hist.parquet\"):\n",
    "                print(f\"Deleting: {f}\")\n",
    "                os.remove(f)\n",
    "\n",
    "    return dfs\n"
   ]
  },
  {
   "cell_type": "code",
   "execution_count": null,
   "id": "d3a43e39",
   "metadata": {},
   "outputs": [
    {
     "name": "stdout",
     "output_type": "stream",
     "text": [
      "\n",
      "Processing BRONZE layer: /home/sapna.choudhary/Data-Engineering-Training/Polars_DWH/parquet_files/bronze_layer\n",
      "\n",
      "Appending customer to history...\n",
      "Appending order to history...\n",
      "Appending product to history...\n",
      "Appending shipping_type to history...\n",
      "\n",
      "Processing STAGING layer: /home/sapna.choudhary/Data-Engineering-Training/Polars_DWH/parquet_files/staging_layer\n",
      "\n",
      "Appending customer to history...\n",
      "Appending order to history...\n",
      "Appending product to history...\n",
      "Appending shipping_type to history...\n"
     ]
    }
   ],
   "source": [
    "table_names = [\"customer\", \"orders\", \"product\", \"shipping_type\"]\n",
    "\n",
    "# Process bronze\n",
    "dfs_bronze = process_layer(\"bronze\", bronze_parquet, table_names, cleanup_after=True)\n",
    "\n",
    "# Process staging\n",
    "dfs_staging = process_layer(\"staging\", staging_parquet, table_names, cleanup_after=True)\n"
   ]
  }
 ],
 "metadata": {
  "kernelspec": {
   "display_name": "Python 3",
   "language": "python",
   "name": "python3"
  },
  "language_info": {
   "codemirror_mode": {
    "name": "ipython",
    "version": 3
   },
   "file_extension": ".py",
   "mimetype": "text/x-python",
   "name": "python",
   "nbconvert_exporter": "python",
   "pygments_lexer": "ipython3",
   "version": "3.10.12"
  }
 },
 "nbformat": 4,
 "nbformat_minor": 5
}
