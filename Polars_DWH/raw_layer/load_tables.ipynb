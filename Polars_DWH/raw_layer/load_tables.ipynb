{
 "cells": [
  {
   "cell_type": "markdown",
   "id": "855645a8",
   "metadata": {},
   "source": [
    "# RAW LAYER"
   ]
  },
  {
   "cell_type": "markdown",
   "id": "56f0535e",
   "metadata": {},
   "source": [
    "### Necessary Imports"
   ]
  },
  {
   "cell_type": "code",
   "execution_count": 8,
   "id": "981b25f7",
   "metadata": {},
   "outputs": [
    {
     "data": {
      "text/plain": [
       "<module 'config' from '/home/sapna.choudhary/Data-Engineering-Training/Polars_DWH/raw_layer/config.py'>"
      ]
     },
     "execution_count": 8,
     "metadata": {},
     "output_type": "execute_result"
    }
   ],
   "source": [
    "import os\n",
    "import importlib\n",
    "from pathlib import Path\n",
    "from dotenv import load_dotenv\n",
    "\n",
    "import urllib\n",
    "import polars as pl\n",
    "from sqlalchemy import create_engine\n",
    "\n",
    "import config\n",
    "\n",
    "load_dotenv(override=True) \n",
    "importlib.reload(config)"
   ]
  },
  {
   "cell_type": "code",
   "execution_count": 9,
   "id": "0a0b68be",
   "metadata": {},
   "outputs": [],
   "source": [
    "RAW_DATASET = Path(os.getenv(\"RAW_DATASET\"))\n",
    "PARQUET_FILES_DIR = Path(os.getenv(\"PARQUET_FILES_DIR\"))\n",
    "\n",
    "raw_parquet = PARQUET_FILES_DIR/'raw_layer'\n",
    "raw_parquet.mkdir(parents=True, exist_ok=True)"
   ]
  },
  {
   "cell_type": "markdown",
   "id": "6910b5e7",
   "metadata": {},
   "source": [
    "### Delete all parquet files of the Raw layer"
   ]
  },
  {
   "cell_type": "code",
   "execution_count": 10,
   "id": "4a6f8f61",
   "metadata": {},
   "outputs": [
    {
     "name": "stdout",
     "output_type": "stream",
     "text": [
      "Deleting: /home/sapna.choudhary/Data-Engineering-Training/Polars_DWH/parquet_files/raw_layer/raw_orders.parquet\n"
     ]
    }
   ],
   "source": [
    "for file in raw_parquet.glob(\"*.parquet\"):\n",
    "    print(f\"Deleting: {file}\")\n",
    "    os.remove(file)"
   ]
  },
  {
   "cell_type": "markdown",
   "id": "7032ec3b",
   "metadata": {},
   "source": [
    "### Setup the db-connection"
   ]
  },
  {
   "cell_type": "code",
   "execution_count": 11,
   "id": "f32f6d47",
   "metadata": {},
   "outputs": [],
   "source": [
    "params = urllib.parse.quote_plus(\n",
    "    \"DRIVER={ODBC Driver 17 for SQL Server};\"\n",
    "    \"SERVER=associatetraining.database.windows.net,1433;\"\n",
    "    \"DATABASE=associatetraining;\"\n",
    "    \"UID=training;\"\n",
    "    \"PWD=dFyUT1#$rKIh26;\"\n",
    ")\n",
    "\n",
    "engine = create_engine(f\"mssql+pyodbc:///?odbc_connect={params}\")"
   ]
  },
  {
   "cell_type": "markdown",
   "id": "bdd1fbf4",
   "metadata": {},
   "source": [
    "### Load all tables & Save as parquet files"
   ]
  },
  {
   "cell_type": "code",
   "execution_count": 12,
   "id": "c1c686ec",
   "metadata": {},
   "outputs": [],
   "source": [
    "def load_raw_tables(raw_cfg: dict, dest_dir: Path, engine: str, schema_name: str) -> dict[str, pl.DataFrame]:\n",
    "    dfs = {}\n",
    "    for tbl, props in raw_cfg.items():\n",
    "        table_name = f\"{schema_name}.{tbl}\"\n",
    "\n",
    "        query = f\"SELECT * FROM {table_name}\"\n",
    "\n",
    "        dest_file = dest_dir / props[\"dest_file\"]\n",
    "\n",
    "        df_raw = pl.read_database(query, engine)\n",
    "        dfs[tbl] = df_raw\n",
    "\n",
    "        df_raw.write_parquet(dest_file)\n",
    "        print(f\"Created {tbl}: {df_raw.shape} at {dest_file}\")\n",
    "\n",
    "    return dfs\n"
   ]
  },
  {
   "cell_type": "code",
   "execution_count": 13,
   "id": "763a5ce4",
   "metadata": {},
   "outputs": [
    {
     "name": "stdout",
     "output_type": "stream",
     "text": [
      "Created customer: (500, 15) at /home/sapna.choudhary/Data-Engineering-Training/Polars_DWH/parquet_files/raw_layer/raw_customer.parquet\n",
      "Created shipping_type: (5, 3) at /home/sapna.choudhary/Data-Engineering-Training/Polars_DWH/parquet_files/raw_layer/raw_shipping_type.parquet\n",
      "Created product: (50000, 11) at /home/sapna.choudhary/Data-Engineering-Training/Polars_DWH/parquet_files/raw_layer/raw_product.parquet\n",
      "Created orders: (3002, 19) at /home/sapna.choudhary/Data-Engineering-Training/Polars_DWH/parquet_files/raw_layer/raw_orders.parquet\n"
     ]
    }
   ],
   "source": [
    "\n",
    "importlib.reload(config)\n",
    "dfs = load_raw_tables(config.RAW_CONFIG, raw_parquet, engine=engine, schema_name='raw')"
   ]
  },
  {
   "cell_type": "code",
   "execution_count": 14,
   "id": "a63ed72a",
   "metadata": {},
   "outputs": [
    {
     "data": {
      "text/html": [
       "<div><style>\n",
       ".dataframe > thead > tr,\n",
       ".dataframe > tbody > tr {\n",
       "  text-align: right;\n",
       "  white-space: pre-wrap;\n",
       "}\n",
       "</style>\n",
       "<small>shape: (3_002, 19)</small><table border=\"1\" class=\"dataframe\"><thead><tr><th>orders_id</th><th>customer_id</th><th>product_id</th><th>payment_src</th><th>shipping_type</th><th>lead_type</th><th>order_status</th><th>order_date</th><th>shipping_date</th><th>expected_delivery_date</th><th>delivery_date</th><th>return_date</th><th>refund_date</th><th>quantity</th><th>unit_price</th><th>is_gift</th><th>gift_message</th><th>has_coupon</th><th>coupon_code</th></tr><tr><td>str</td><td>i64</td><td>str</td><td>str</td><td>str</td><td>str</td><td>str</td><td>str</td><td>str</td><td>str</td><td>str</td><td>str</td><td>str</td><td>i64</td><td>f64</td><td>i64</td><td>str</td><td>i64</td><td>str</td></tr></thead><tbody><tr><td>&quot;ord_000000001&quot;</td><td>1306</td><td>&quot;Prd_00000005&quot;</td><td>&quot;upi&quot;</td><td>&quot;One-Day Delivery&quot;</td><td>&quot;retail&quot;</td><td>&quot;&quot;</td><td>&quot;2024-06-22&quot;</td><td>&quot;2024-06-23&quot;</td><td>&quot;2024-07-01&quot;</td><td>&quot;2024-07-05&quot;</td><td>&quot;&quot;</td><td>&quot;&quot;</td><td>6</td><td>2989.399902</td><td>0</td><td>&quot;&quot;</td><td>0</td><td>&quot;&quot;</td></tr><tr><td>&quot;ord_000000001&quot;</td><td>1306</td><td>&quot;Prd_00000002&quot;</td><td>&quot;upi&quot;</td><td>&quot;One-Day Delivery&quot;</td><td>&quot;retail&quot;</td><td>&quot;Delivered&quot;</td><td>&quot;2024-06-22&quot;</td><td>&quot;2024-06-23&quot;</td><td>&quot;2024-07-01&quot;</td><td>&quot;2024-07-05&quot;</td><td>&quot;&quot;</td><td>&quot;&quot;</td><td>6</td><td>2989.399902</td><td>0</td><td>&quot;&quot;</td><td>0</td><td>&quot;&quot;</td></tr><tr><td>&quot;ord_000000002&quot;</td><td>1168</td><td>&quot;Prd_00000003&quot;</td><td>&quot;Credit card&quot;</td><td>&quot;Express&quot;</td><td>&quot;website&quot;</td><td>&quot;Shipped&quot;</td><td>&quot;2024-03-12&quot;</td><td>&quot;2024-03-12&quot;</td><td>&quot;&quot;</td><td>&quot;2024-03-17&quot;</td><td>&quot;&quot;</td><td>&quot;&quot;</td><td>4</td><td>34031.601562</td><td>0</td><td>&quot;&quot;</td><td>1</td><td>&quot;CUPN2674&quot;</td></tr><tr><td>&quot;ord_000000003&quot;</td><td>1490</td><td>&quot;Prd_00000004&quot;</td><td>&quot;Net banking&quot;</td><td>&quot;&quot;</td><td>&quot;retail&quot;</td><td>&quot;Processing&quot;</td><td>&quot;2024-05-17&quot;</td><td>&quot;&quot;</td><td>&quot;2024-05-18&quot;</td><td>&quot;2024-05-29&quot;</td><td>&quot;&quot;</td><td>&quot;&quot;</td><td>2</td><td>55208.542969</td><td>1</td><td>&quot;Best Wishes!&quot;</td><td>0</td><td>&quot;&quot;</td></tr><tr><td>&quot;ord_000000004&quot;</td><td>1441</td><td>&quot;Prd_00000005&quot;</td><td>&quot;Cash!&quot;</td><td>&quot;Express&quot;</td><td>&quot;retail&quot;</td><td>&quot;Processing&quot;</td><td>&quot;2024-03-12&quot;</td><td>&quot;2024-03-19&quot;</td><td>&quot;2024-03-22&quot;</td><td>&quot;2024-03-23&quot;</td><td>&quot;&quot;</td><td>&quot;&quot;</td><td>10</td><td>37024.398438</td><td>1</td><td>&quot;Happy Birthday!&quot;</td><td>0</td><td>&quot;&quot;</td></tr><tr><td>&hellip;</td><td>&hellip;</td><td>&hellip;</td><td>&hellip;</td><td>&hellip;</td><td>&hellip;</td><td>&hellip;</td><td>&hellip;</td><td>&hellip;</td><td>&hellip;</td><td>&hellip;</td><td>&hellip;</td><td>&hellip;</td><td>&hellip;</td><td>&hellip;</td><td>&hellip;</td><td>&hellip;</td><td>&hellip;</td><td>&hellip;</td></tr><tr><td>&quot;ord_000002996&quot;</td><td>1470</td><td>&quot;prd_3523&quot;</td><td>&quot; Debit Card &quot;</td><td>&quot;One-Day Delivery&quot;</td><td>&quot;website&quot;</td><td>&quot;Returned&quot;</td><td>&quot;2024-05-25&quot;</td><td>&quot;2024-05-25&quot;</td><td>&quot;2024-06-01&quot;</td><td>&quot;2024-06-08&quot;</td><td>&quot;&quot;</td><td>&quot;&quot;</td><td>9</td><td>32450.0</td><td>1</td><td>&quot;Enjoy!&quot;</td><td>0</td><td>&quot;&quot;</td></tr><tr><td>&quot;ord_000002997&quot;</td><td>1078</td><td>&quot;prd_9944&quot;</td><td>&quot;upi&quot;</td><td>&quot;Express&quot;</td><td>&quot;website&quot;</td><td>&quot;Processing&quot;</td><td>&quot;2024-04-29&quot;</td><td>&quot;2024-04-29&quot;</td><td>&quot;2024-05-06&quot;</td><td>&quot;2024-05-11&quot;</td><td>&quot;&quot;</td><td>&quot;&quot;</td><td>9</td><td>98695.054688</td><td>0</td><td>&quot;&quot;</td><td>1</td><td>&quot;CUPN5515&quot;</td></tr><tr><td>&quot;ord_000002998&quot;</td><td>1335</td><td>&quot;prd_3620&quot;</td><td>&quot;Cash!&quot;</td><td>&quot;FAST Delivery&quot;</td><td>&quot;mobile app&quot;</td><td>&quot;Returned&quot;</td><td>&quot;2024-05-22&quot;</td><td>&quot;2024-05-25&quot;</td><td>&quot;2024-05-28&quot;</td><td>&quot;2024-06-01&quot;</td><td>&quot;&quot;</td><td>&quot;&quot;</td><td>9</td><td>58800.871094</td><td>0</td><td>&quot;&quot;</td><td>1</td><td>&quot;CUPN8586&quot;</td></tr><tr><td>&quot;ord_000002999&quot;</td><td>1075</td><td>&quot;prd_0450&quot;</td><td>&quot; Debit Card &quot;</td><td>&quot;Normal&quot;</td><td>&quot;website&quot;</td><td>&quot;Shipped&quot;</td><td>&quot;2024-06-17&quot;</td><td>&quot;2024-06-18&quot;</td><td>&quot;2024-06-22&quot;</td><td>&quot;2024-06-29&quot;</td><td>&quot;&quot;</td><td>&quot;&quot;</td><td>2</td><td>59807.128906</td><td>0</td><td>&quot;&quot;</td><td>0</td><td>&quot;&quot;</td></tr><tr><td>&quot;&quot;</td><td>1007</td><td>&quot;prd_6974&quot;</td><td>&quot;CREDIT CARD&quot;</td><td>&quot;Express&quot;</td><td>&quot;mobile app&quot;</td><td>&quot;Cancelled&quot;</td><td>&quot;2024-03-31&quot;</td><td>&quot;2024-04-01&quot;</td><td>&quot;2024-04-10&quot;</td><td>&quot;&quot;</td><td>&quot;&quot;</td><td>&quot;&quot;</td><td>3</td><td>2722.26001</td><td>1</td><td>&quot;Enjoy!&quot;</td><td>1</td><td>&quot;CUPN2796&quot;</td></tr></tbody></table></div>"
      ],
      "text/plain": [
       "shape: (3_002, 19)\n",
       "┌────────────┬───────────┬───────────┬───────────┬───┬─────────┬───────────┬───────────┬───────────┐\n",
       "│ orders_id  ┆ customer_ ┆ product_i ┆ payment_s ┆ … ┆ is_gift ┆ gift_mess ┆ has_coupo ┆ coupon_co │\n",
       "│ ---        ┆ id        ┆ d         ┆ rc        ┆   ┆ ---     ┆ age       ┆ n         ┆ de        │\n",
       "│ str        ┆ ---       ┆ ---       ┆ ---       ┆   ┆ i64     ┆ ---       ┆ ---       ┆ ---       │\n",
       "│            ┆ i64       ┆ str       ┆ str       ┆   ┆         ┆ str       ┆ i64       ┆ str       │\n",
       "╞════════════╪═══════════╪═══════════╪═══════════╪═══╪═════════╪═══════════╪═══════════╪═══════════╡\n",
       "│ ord_000000 ┆ 1306      ┆ Prd_00000 ┆ upi       ┆ … ┆ 0       ┆           ┆ 0         ┆           │\n",
       "│ 001        ┆           ┆ 005       ┆           ┆   ┆         ┆           ┆           ┆           │\n",
       "│ ord_000000 ┆ 1306      ┆ Prd_00000 ┆ upi       ┆ … ┆ 0       ┆           ┆ 0         ┆           │\n",
       "│ 001        ┆           ┆ 002       ┆           ┆   ┆         ┆           ┆           ┆           │\n",
       "│ ord_000000 ┆ 1168      ┆ Prd_00000 ┆ Credit    ┆ … ┆ 0       ┆           ┆ 1         ┆ CUPN2674  │\n",
       "│ 002        ┆           ┆ 003       ┆ card      ┆   ┆         ┆           ┆           ┆           │\n",
       "│ ord_000000 ┆ 1490      ┆ Prd_00000 ┆ Net       ┆ … ┆ 1       ┆ Best      ┆ 0         ┆           │\n",
       "│ 003        ┆           ┆ 004       ┆ banking   ┆   ┆         ┆ Wishes!   ┆           ┆           │\n",
       "│ ord_000000 ┆ 1441      ┆ Prd_00000 ┆ Cash!     ┆ … ┆ 1       ┆ Happy     ┆ 0         ┆           │\n",
       "│ 004        ┆           ┆ 005       ┆           ┆   ┆         ┆ Birthday! ┆           ┆           │\n",
       "│ …          ┆ …         ┆ …         ┆ …         ┆ … ┆ …       ┆ …         ┆ …         ┆ …         │\n",
       "│ ord_000002 ┆ 1470      ┆ prd_3523  ┆ Debit     ┆ … ┆ 1       ┆ Enjoy!    ┆ 0         ┆           │\n",
       "│ 996        ┆           ┆           ┆ Card      ┆   ┆         ┆           ┆           ┆           │\n",
       "│ ord_000002 ┆ 1078      ┆ prd_9944  ┆ upi       ┆ … ┆ 0       ┆           ┆ 1         ┆ CUPN5515  │\n",
       "│ 997        ┆           ┆           ┆           ┆   ┆         ┆           ┆           ┆           │\n",
       "│ ord_000002 ┆ 1335      ┆ prd_3620  ┆ Cash!     ┆ … ┆ 0       ┆           ┆ 1         ┆ CUPN8586  │\n",
       "│ 998        ┆           ┆           ┆           ┆   ┆         ┆           ┆           ┆           │\n",
       "│ ord_000002 ┆ 1075      ┆ prd_0450  ┆ Debit     ┆ … ┆ 0       ┆           ┆ 0         ┆           │\n",
       "│ 999        ┆           ┆           ┆ Card      ┆   ┆         ┆           ┆           ┆           │\n",
       "│            ┆ 1007      ┆ prd_6974  ┆ CREDIT    ┆ … ┆ 1       ┆ Enjoy!    ┆ 1         ┆ CUPN2796  │\n",
       "│            ┆           ┆           ┆ CARD      ┆   ┆         ┆           ┆           ┆           │\n",
       "└────────────┴───────────┴───────────┴───────────┴───┴─────────┴───────────┴───────────┴───────────┘"
      ]
     },
     "execution_count": 14,
     "metadata": {},
     "output_type": "execute_result"
    }
   ],
   "source": [
    "schema_name='raw'\n",
    "tbl = 'orders'\n",
    "\n",
    "table_name = f\"{schema_name}.{tbl}\"\n",
    "\n",
    "query = f\"SELECT * FROM {table_name}\"\n",
    "\n",
    "\n",
    "df_bronze = pl.read_database(query, engine)\n",
    "df_bronze"
   ]
  }
 ],
 "metadata": {
  "kernelspec": {
   "display_name": "Python 3",
   "language": "python",
   "name": "python3"
  },
  "language_info": {
   "codemirror_mode": {
    "name": "ipython",
    "version": 3
   },
   "file_extension": ".py",
   "mimetype": "text/x-python",
   "name": "python",
   "nbconvert_exporter": "python",
   "pygments_lexer": "ipython3",
   "version": "3.10.12"
  }
 },
 "nbformat": 4,
 "nbformat_minor": 5
}
