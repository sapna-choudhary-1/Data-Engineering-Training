{
 "cells": [
  {
   "cell_type": "markdown",
   "id": "855645a8",
   "metadata": {},
   "source": [
    "# RAW LAYER"
   ]
  },
  {
   "cell_type": "code",
   "execution_count": 1,
   "id": "981b25f7",
   "metadata": {},
   "outputs": [],
   "source": [
    "import polars as pl\n",
    "from datetime import datetime"
   ]
  },
  {
   "cell_type": "code",
   "execution_count": 6,
   "id": "4bff92be",
   "metadata": {},
   "outputs": [],
   "source": [
    "def load_tables(raw_path: str) -> pl.DataFrame:\n",
    "    df_raw = pl.read_csv(raw_path)\n",
    "    return df_raw"
   ]
  },
  {
   "cell_type": "code",
   "execution_count": null,
   "id": "4a88895a",
   "metadata": {},
   "outputs": [],
   "source": [
    "df_customer = load_tables('/home/sapna.choudhary/Data-Engineering-Training/DataWarehouse/DWH_raw_dataset/dim_customer.csv')\n",
    "df_order = load_tables('/home/sapna.choudhary/Data-Engineering-Training/DataWarehouse/DWH_raw_dataset/dim_order.csv')\n",
    "df_product = load_tables('/home/sapna.choudhary/Data-Engineering-Training/DataWarehouse/DWH_raw_dataset/dim_product.csv')\n",
    "df_shipping_type = load_tables('/home/sapna.choudhary/Data-Engineering-Training/DataWarehouse/DWH_raw_dataset/dim_shipping_type.csv')"
   ]
  },
  {
   "cell_type": "code",
   "execution_count": 11,
   "id": "17b1d45b",
   "metadata": {},
   "outputs": [
    {
     "name": "stdout",
     "output_type": "stream",
     "text": [
      "(500, 15)\n",
      "(3002, 19)\n",
      "(101004, 11)\n",
      "(5, 3)\n"
     ]
    }
   ],
   "source": [
    "print(df_customer.shape)\n",
    "print(df_order.shape)\n",
    "print(df_product.shape)\n",
    "print(df_shipping_type.shape)"
   ]
  },
  {
   "cell_type": "code",
   "execution_count": 14,
   "id": "c0edda1e",
   "metadata": {},
   "outputs": [
    {
     "data": {
      "text/html": [
       "<div><style>\n",
       ".dataframe > thead > tr,\n",
       ".dataframe > tbody > tr {\n",
       "  text-align: right;\n",
       "  white-space: pre-wrap;\n",
       "}\n",
       "</style>\n",
       "<small>shape: (5, 11)</small><table border=\"1\" class=\"dataframe\"><thead><tr><th>product_id</th><th>product_name</th><th>brand_tier</th><th>brand_name</th><th>brand_country</th><th>main_category</th><th>sub_category</th><th>discount_percent</th><th>actual_price</th><th>rating</th><th>no of ratings</th></tr><tr><td>str</td><td>str</td><td>str</td><td>str</td><td>str</td><td>str</td><td>str</td><td>f64</td><td>f64</td><td>f64</td><td>f64</td></tr></thead><tbody><tr><td>&quot;prd_00000001&quot;</td><td>&quot;Learn Whether (Sell notice him…</td><td>&quot;economy&quot;</td><td>&quot;HP&quot;</td><td>&quot;china&quot;</td><td>&quot; Beauty &amp; PersonAl Care&nbsp;&nbsp;&quot;</td><td>&quot;Ski*ncaRe&quot;</td><td>92.881092</td><td>144645.8</td><td>4.056</td><td>7404.0</td></tr><tr><td>&quot;prd_00000002&quot;</td><td>&quot;Arm Month (Minute treatment co…</td><td>&quot;premium&quot;</td><td>&quot;OnePlus&quot;</td><td>&quot;china&quot;</td><td>&quot;ElectrOnicS&quot;</td><td>&quot; MOBIle* PhOnes &quot;</td><td>75.621479</td><td>41593.9925</td><td>0.0</td><td>6885.0</td></tr><tr><td>&quot;prd_00000003&quot;</td><td>&quot;Only Pick (Mention should list…</td><td>null</td><td>&quot;Adidas&quot;</td><td>null</td><td>&quot;Ente*rtAinment&quot;</td><td>&quot;MUsi*c CDs&quot;</td><td>42.830099</td><td>36078.4253</td><td>0.688</td><td>4340.0</td></tr><tr><td>&quot;prd_00000004&quot;</td><td>&quot;From Ago (Through age range.)&quot;</td><td>null</td><td>&quot;Canon&quot;</td><td>&quot;Japan&quot;</td><td>&quot;ACcEso*riEs&quot;</td><td>&quot;&nbsp;&nbsp;OxIDi*sed Jewellery&nbsp;&nbsp;&quot;</td><td>-53.996101</td><td>57825.174</td><td>1.0</td><td>null</td></tr><tr><td>&quot;prd_00000005&quot;</td><td>&quot;Gas Heart (Thus hard learn.)&quot;</td><td>&quot;Standard&quot;</td><td>&quot;OnePlus&quot;</td><td>&quot;china&quot;</td><td>&quot;footweaR&quot;</td><td>&quot;Women&#x27;s Shoes&quot;</td><td>-65.465571</td><td>42998.885</td><td>null</td><td>7165.0</td></tr></tbody></table></div>"
      ],
      "text/plain": [
       "shape: (5, 11)\n",
       "┌────────────┬────────────┬───────────┬───────────┬───┬───────────┬───────────┬────────┬───────────┐\n",
       "│ product_id ┆ product_na ┆ brand_tie ┆ brand_nam ┆ … ┆ discount_ ┆ actual_pr ┆ rating ┆ no of     │\n",
       "│ ---        ┆ me         ┆ r         ┆ e         ┆   ┆ percent   ┆ ice       ┆ ---    ┆ ratings   │\n",
       "│ str        ┆ ---        ┆ ---       ┆ ---       ┆   ┆ ---       ┆ ---       ┆ f64    ┆ ---       │\n",
       "│            ┆ str        ┆ str       ┆ str       ┆   ┆ f64       ┆ f64       ┆        ┆ f64       │\n",
       "╞════════════╪════════════╪═══════════╪═══════════╪═══╪═══════════╪═══════════╪════════╪═══════════╡\n",
       "│ prd_000000 ┆ Learn      ┆ economy   ┆ HP        ┆ … ┆ 92.881092 ┆ 144645.8  ┆ 4.056  ┆ 7404.0    │\n",
       "│ 01         ┆ Whether    ┆           ┆           ┆   ┆           ┆           ┆        ┆           │\n",
       "│            ┆ (Sell      ┆           ┆           ┆   ┆           ┆           ┆        ┆           │\n",
       "│            ┆ notice     ┆           ┆           ┆   ┆           ┆           ┆        ┆           │\n",
       "│            ┆ him…       ┆           ┆           ┆   ┆           ┆           ┆        ┆           │\n",
       "│ prd_000000 ┆ Arm Month  ┆ premium   ┆ OnePlus   ┆ … ┆ 75.621479 ┆ 41593.992 ┆ 0.0    ┆ 6885.0    │\n",
       "│ 02         ┆ (Minute    ┆           ┆           ┆   ┆           ┆ 5         ┆        ┆           │\n",
       "│            ┆ treatment  ┆           ┆           ┆   ┆           ┆           ┆        ┆           │\n",
       "│            ┆ co…        ┆           ┆           ┆   ┆           ┆           ┆        ┆           │\n",
       "│ prd_000000 ┆ Only Pick  ┆ null      ┆ Adidas    ┆ … ┆ 42.830099 ┆ 36078.425 ┆ 0.688  ┆ 4340.0    │\n",
       "│ 03         ┆ (Mention   ┆           ┆           ┆   ┆           ┆ 3         ┆        ┆           │\n",
       "│            ┆ should     ┆           ┆           ┆   ┆           ┆           ┆        ┆           │\n",
       "│            ┆ list…      ┆           ┆           ┆   ┆           ┆           ┆        ┆           │\n",
       "│ prd_000000 ┆ From Ago   ┆ null      ┆ Canon     ┆ … ┆ -53.99610 ┆ 57825.174 ┆ 1.0    ┆ null      │\n",
       "│ 04         ┆ (Through   ┆           ┆           ┆   ┆ 1         ┆           ┆        ┆           │\n",
       "│            ┆ age        ┆           ┆           ┆   ┆           ┆           ┆        ┆           │\n",
       "│            ┆ range.)    ┆           ┆           ┆   ┆           ┆           ┆        ┆           │\n",
       "│ prd_000000 ┆ Gas Heart  ┆ Standard  ┆ OnePlus   ┆ … ┆ -65.46557 ┆ 42998.885 ┆ null   ┆ 7165.0    │\n",
       "│ 05         ┆ (Thus hard ┆           ┆           ┆   ┆ 1         ┆           ┆        ┆           │\n",
       "│            ┆ learn.)    ┆           ┆           ┆   ┆           ┆           ┆        ┆           │\n",
       "└────────────┴────────────┴───────────┴───────────┴───┴───────────┴───────────┴────────┴───────────┘"
      ]
     },
     "execution_count": 14,
     "metadata": {},
     "output_type": "execute_result"
    }
   ],
   "source": [
    "df_product.head()"
   ]
  },
  {
   "cell_type": "code",
   "execution_count": 16,
   "id": "fd4a6ecc",
   "metadata": {},
   "outputs": [
    {
     "data": {
      "text/plain": [
       "101004"
      ]
     },
     "execution_count": 16,
     "metadata": {},
     "output_type": "execute_result"
    }
   ],
   "source": [
    "df_product.height"
   ]
  },
  {
   "cell_type": "code",
   "execution_count": 17,
   "id": "4543faf5",
   "metadata": {},
   "outputs": [],
   "source": [
    "df_shipping_type.write_parquet(\"raw_shipping_type.parquet\")"
   ]
  },
  {
   "cell_type": "code",
   "execution_count": 19,
   "id": "41c0f461",
   "metadata": {},
   "outputs": [
    {
     "data": {
      "text/html": [
       "<div><style>\n",
       ".dataframe > thead > tr,\n",
       ".dataframe > tbody > tr {\n",
       "  text-align: right;\n",
       "  white-space: pre-wrap;\n",
       "}\n",
       "</style>\n",
       "<small>shape: (5, 3)</small><table border=\"1\" class=\"dataframe\"><thead><tr><th>shipping_type_id</th><th>shipping_type</th><th>delivery_estimate</th></tr><tr><td>str</td><td>str</td><td>str</td></tr></thead><tbody><tr><td>&quot;ship_0001&quot;</td><td>&quot;Express!&quot;</td><td>&quot;3-5 days&quot;</td></tr><tr><td>&quot;ship_0002!&quot;</td><td>&quot; Normal &quot;</td><td>&quot;3-7 days!&quot;</td></tr><tr><td>&quot;Ship_0003&quot;</td><td>&quot; One-Day Delivery &quot;</td><td>&quot;1 DAY&quot;</td></tr><tr><td>&quot;Ship_0004&quot;</td><td>&quot; One-Day Delivery &quot;</td><td>&quot;1 DAY&quot;</td></tr><tr><td>&quot;SHIP_0004&quot;</td><td>&quot; FAST Delivery &quot;</td><td>&quot;1-3 days&quot;</td></tr></tbody></table></div>"
      ],
      "text/plain": [
       "shape: (5, 3)\n",
       "┌──────────────────┬────────────────────┬───────────────────┐\n",
       "│ shipping_type_id ┆ shipping_type      ┆ delivery_estimate │\n",
       "│ ---              ┆ ---                ┆ ---               │\n",
       "│ str              ┆ str                ┆ str               │\n",
       "╞══════════════════╪════════════════════╪═══════════════════╡\n",
       "│ ship_0001        ┆ Express!           ┆ 3-5 days          │\n",
       "│ ship_0002!       ┆  Normal            ┆ 3-7 days!         │\n",
       "│ Ship_0003        ┆  One-Day Delivery  ┆ 1 DAY             │\n",
       "│ Ship_0004        ┆  One-Day Delivery  ┆ 1 DAY             │\n",
       "│ SHIP_0004        ┆  FAST Delivery     ┆ 1-3 days          │\n",
       "└──────────────────┴────────────────────┴───────────────────┘"
      ]
     },
     "execution_count": 19,
     "metadata": {},
     "output_type": "execute_result"
    }
   ],
   "source": [
    "df_shipping_type_parquet = pl.read_parquet(\"raw_shipping_type.parquet\")\n",
    "df_shipping_type_parquet"
   ]
  }
 ],
 "metadata": {
  "kernelspec": {
   "display_name": "Python 3",
   "language": "python",
   "name": "python3"
  },
  "language_info": {
   "codemirror_mode": {
    "name": "ipython",
    "version": 3
   },
   "file_extension": ".py",
   "mimetype": "text/x-python",
   "name": "python",
   "nbconvert_exporter": "python",
   "pygments_lexer": "ipython3",
   "version": "3.10.12"
  }
 },
 "nbformat": 4,
 "nbformat_minor": 5
}
