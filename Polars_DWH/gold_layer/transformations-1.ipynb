{
 "cells": [
  {
   "cell_type": "code",
   "execution_count": 1,
   "id": "7fafdfd5",
   "metadata": {},
   "outputs": [],
   "source": [
    "from datetime import datetime\n",
    "import polars as pl"
   ]
  },
  {
   "cell_type": "markdown",
   "id": "2e15329d",
   "metadata": {},
   "source": [
    "#### TRANSFORMATION FUNCTIONS ##\n",
    "- Provides transformations specific to the final tables"
   ]
  },
  {
   "cell_type": "code",
   "execution_count": null,
   "id": "9411ee03",
   "metadata": {},
   "outputs": [],
   "source": [
    "# ------------------ Transform Customer Table ------------------\n",
    "def transform_customer(df: pl.DataFrame) -> pl.DataFrame:\n",
    "    \"\"\"\n",
    "    Transform customer data by calculating derived attributes.\n",
    "\n",
    "    Operations:\n",
    "    - Calculate `calculated_customer_age` based on `customer_dob`.\n",
    "    - Split `customer_name` into `first_name`, `middle_name`, and `last_name`.\n",
    "    - Join the new columns back into the original DataFrame.\n",
    "    \"\"\"\n",
    "    today = datetime.now().date()\n",
    "\n",
    "    # Age calculation\n",
    "    df_age = (\n",
    "        df.filter(pl.col(\"customer_dob\").is_not_null())\n",
    "        .with_columns([\n",
    "            (\n",
    "                (pl.lit(today.year) - pl.col(\"customer_dob\").dt.year()) -\n",
    "                (\n",
    "                    (pl.col(\"customer_dob\").dt.month() > today.month) |\n",
    "                    ((pl.col(\"customer_dob\").dt.month() == today.month) &\n",
    "                     (pl.col(\"customer_dob\").dt.day() > today.day))\n",
    "                ).cast(pl.Int32)\n",
    "            ).alias(\"calculated_customer_age\")\n",
    "        ])\n",
    "        .select([\"customer_id\", \"calculated_customer_age\"])\n",
    "    )\n",
    "    \n",
    "    # Split names\n",
    "    df_name_parts = (\n",
    "        df.select([\"customer_id\", \"customer_name\"])\n",
    "        .with_columns([\n",
    "            pl.col(\"customer_name\").str.strip_chars().str.split(\" \").alias(\"name_parts\")\n",
    "        ])\n",
    "        .with_columns([\n",
    "            pl.col(\"name_parts\").list.get(0, null_on_oob=True).fill_null(\"\").alias(\"first_name\"),\n",
    "            pl.when(pl.col(\"name_parts\").list.len() >= 3)\n",
    "              .then(pl.col(\"name_parts\").list.get(1, null_on_oob=True))\n",
    "              .otherwise(None)\n",
    "              .fill_null(\"\").alias(\"middle_name\"),\n",
    "            pl.when(pl.col(\"name_parts\").list.len() == 2)\n",
    "              .then(pl.col(\"name_parts\").list.get(1, null_on_oob=True))\n",
    "              .when(pl.col(\"name_parts\").list.len() >= 3)\n",
    "              .then(pl.col(\"name_parts\").list.get(-1, null_on_oob=True))\n",
    "              .otherwise(None)\n",
    "              .fill_null(\"\").alias(\"last_name\"),\n",
    "        ])\n",
    "        .select([\"customer_id\", \"first_name\", \"middle_name\", \"last_name\"])\n",
    "    )\n",
    "    \n",
    "    return (\n",
    "        df.join(df_age, on=\"customer_id\", how=\"left\")\n",
    "          .join(df_name_parts, on=\"customer_id\", how=\"left\")\n",
    "    )\n"
   ]
  },
  {
   "cell_type": "code",
   "execution_count": null,
   "id": "c373b439",
   "metadata": {},
   "outputs": [],
   "source": [
    "# ------------------ Transform Product Table ------------------\n",
    "def transform_product(df: pl.DataFrame) -> pl.DataFrame:\n",
    "    \"\"\"\n",
    "    Transform product data by splitting the product name into clean attributes.\n",
    "\n",
    "    Operations:\n",
    "    - Extract `product_name` as the text before parentheses.\n",
    "    - Extract `product_description` as the text inside parentheses.\n",
    "    \"\"\"\n",
    "    return df.with_columns([\n",
    "        pl.col(\"product_name\").str.extract(r\"^([^(]+)\", 1).str.strip_chars().alias(\"product_name\"),\n",
    "        pl.col(\"product_name\").str.extract(r\"\\(([^)]+)\\)\", 1).alias(\"product_description\"),\n",
    "    ])\n"
   ]
  },
  {
   "cell_type": "code",
   "execution_count": null,
   "id": "e3110423",
   "metadata": {},
   "outputs": [],
   "source": [
    "# ------------------ Transform Sales Table ------------------\n",
    "def transform_sales(df: pl.DataFrame) -> pl.DataFrame:\n",
    "    \"\"\"\n",
    "    Transform sales data by adding derived financial and status-related attributes.\n",
    "\n",
    "    Operations:\n",
    "    - Compute `discount_amount` as (quantity × unit_price × discount_percent / 100).\n",
    "    - Compute `total_amount` as (quantity × unit_price - discount_amount).\n",
    "    - Flag `is_returned` as 1 if `order_status` is Returned/Refunded, else 0.\n",
    "    \"\"\"\n",
    "    return df.with_columns([\n",
    "        (pl.col(\"quantity\") * pl.col(\"unit_price\") * pl.col(\"discount_percent\") / 100)\n",
    "            .round(2).alias(\"discount_amount\"),\n",
    "\n",
    "        ((pl.col(\"quantity\") * pl.col(\"unit_price\")) -\n",
    "         (pl.col(\"quantity\") * pl.col(\"unit_price\") * pl.col(\"discount_percent\") / 100))\n",
    "            .round(2).alias(\"total_amount\"),\n",
    "\n",
    "        # is_returned = 1 if status == Returned/Refunded else 0\n",
    "        pl.when(pl.col(\"order_status\").is_in([\"Returned\", \"Refunded\"]))\n",
    "          .then(pl.lit(1)).otherwise(pl.lit(0))\n",
    "          .cast(pl.Int8).alias(\"is_returned\"),\n",
    "    ])\n"
   ]
  }
 ],
 "metadata": {
  "kernelspec": {
   "display_name": "Python 3",
   "language": "python",
   "name": "python3"
  },
  "language_info": {
   "codemirror_mode": {
    "name": "ipython",
    "version": 3
   },
   "file_extension": ".py",
   "mimetype": "text/x-python",
   "name": "python",
   "nbconvert_exporter": "python",
   "pygments_lexer": "ipython3",
   "version": "3.10.12"
  }
 },
 "nbformat": 4,
 "nbformat_minor": 5
}
