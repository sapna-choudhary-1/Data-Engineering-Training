{
 "cells": [
  {
   "cell_type": "code",
   "execution_count": 4,
   "id": "25187b66",
   "metadata": {},
   "outputs": [],
   "source": [
    "import polars as pl"
   ]
  },
  {
   "cell_type": "code",
   "execution_count": null,
   "id": "da357a7b",
   "metadata": {},
   "outputs": [],
   "source": [
    "# ------------------ Utility: logging ------------------\n",
    "def log_step(msg, df: pl.DataFrame | None = None):\n",
    "    \"\"\"\n",
    "    Utility for logging steps during execution.\n",
    "\n",
    "    Operations:\n",
    "    - Print the given message with a prefix.\n",
    "    - If a DataFrame is provided, log its columns and schema.\n",
    "    \"\"\"\n",
    "    print(f\"# --- {msg} ---\")\n",
    "    if df is not None:\n",
    "        print(f\"Columns: {df.columns}\")\n",
    "        print(f\"Schema: {df.schema}\")\n"
   ]
  },
  {
   "cell_type": "code",
   "execution_count": null,
   "id": "07d6c4ca",
   "metadata": {},
   "outputs": [],
   "source": [
    "# ------------------ Utility: get batch_id ------------------\n",
    "def get_batch_id(df_tgt: pl.DataFrame | None) -> int:\n",
    "    \"\"\"\n",
    "    Utility for determining the next batch ID.\n",
    "\n",
    "    Operations:\n",
    "    - If target DataFrame is empty or None, return 1.\n",
    "    - Otherwise, return max(batch_id) + 1.\n",
    "    \"\"\"\n",
    "    if df_tgt is None or df_tgt.is_empty():\n",
    "        return 1\n",
    "    return int(df_tgt[\"batch_id\"].max()) + 1\n"
   ]
  },
  {
   "cell_type": "code",
   "execution_count": null,
   "id": "73b605fe",
   "metadata": {},
   "outputs": [],
   "source": [
    "# ------------------ Utility: load parquet ------------------\n",
    "_parquet_cache: dict[str, pl.DataFrame] = {}\n",
    "\n",
    "def load_cached_parquet(parquet_dir: Path, file_path: Path, cols: list[str] | None = None) -> pl.DataFrame:\n",
    "    \"\"\"\n",
    "    Utility for loading parquet files with caching.\n",
    "\n",
    "    Operations:\n",
    "    - Check if parquet file is already cached; if not, load it from disk.\n",
    "    - If file is missing, log a message and set cache to None.\n",
    "    - On each call, optionally return only the requested columns without altering cached data.\n",
    "    \"\"\"\n",
    "    file_loc = Path(parquet_dir / file_path)\n",
    "\n",
    "    if file_loc not in _parquet_cache or _parquet_cache[file_loc] is None:\n",
    "        if os.path.exists(file_loc):\n",
    "            _parquet_cache[file_loc] = pl.read_parquet(file_loc)\n",
    "        else:\n",
    "            print(f\"Parquet file not found: {file_loc}\")\n",
    "            _parquet_cache[file_loc] = None\n",
    "\n",
    "    df = _parquet_cache[file_loc]\n",
    "\n",
    "    # per-call selection (never alters cached copy)\n",
    "    if df is not None and cols:\n",
    "        return df.select(cols)\n",
    "    return df\n"
   ]
  }
 ],
 "metadata": {
  "kernelspec": {
   "display_name": "Python 3",
   "language": "python",
   "name": "python3"
  },
  "language_info": {
   "codemirror_mode": {
    "name": "ipython",
    "version": 3
   },
   "file_extension": ".py",
   "mimetype": "text/x-python",
   "name": "python",
   "nbconvert_exporter": "python",
   "pygments_lexer": "ipython3",
   "version": "3.10.12"
  }
 },
 "nbformat": 4,
 "nbformat_minor": 5
}
