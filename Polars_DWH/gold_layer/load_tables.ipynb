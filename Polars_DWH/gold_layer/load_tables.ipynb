{
 "cells": [
  {
   "cell_type": "markdown",
   "id": "163d61bb",
   "metadata": {},
   "source": [
    "# GOLD LAYER"
   ]
  },
  {
   "cell_type": "markdown",
   "id": "69dd80a2",
   "metadata": {},
   "source": [
    "### Necessary Imports"
   ]
  },
  {
   "cell_type": "code",
   "execution_count": 75,
   "id": "b08d2671",
   "metadata": {},
   "outputs": [
    {
     "data": {
      "text/plain": [
       "True"
      ]
     },
     "execution_count": 75,
     "metadata": {},
     "output_type": "execute_result"
    }
   ],
   "source": [
    "import os\n",
    "import importlib\n",
    "from pathlib import Path\n",
    "from datetime import date, timedelta, datetime\n",
    "from dotenv import load_dotenv\n",
    "\n",
    "import urllib\n",
    "import polars as pl\n",
    "from sqlalchemy import create_engine\n",
    "\n",
    "import config\n",
    "importlib.reload(config)\n",
    "\n",
    "load_dotenv(override=True) "
   ]
  },
  {
   "cell_type": "code",
   "execution_count": 76,
   "id": "66966f12",
   "metadata": {},
   "outputs": [],
   "source": [
    "%run ./helper_utils.ipynb\n",
    "%run ./runner.ipynb"
   ]
  },
  {
   "cell_type": "code",
   "execution_count": 77,
   "id": "c30f9979",
   "metadata": {},
   "outputs": [],
   "source": [
    "PARQUET_FILES_DIR = Path(os.getenv(\"PARQUET_FILES_DIR\"))\n",
    "\n",
    "gold_parquet = PARQUET_FILES_DIR/'gold_layer'\n",
    "gold_parquet.mkdir(parents=True, exist_ok=True)"
   ]
  },
  {
   "cell_type": "markdown",
   "id": "32f1cf0c",
   "metadata": {},
   "source": [
    "### Setup the db-connection"
   ]
  },
  {
   "cell_type": "code",
   "execution_count": 78,
   "id": "feadcd5b",
   "metadata": {},
   "outputs": [],
   "source": [
    "params = urllib.parse.quote_plus(\n",
    "    \"DRIVER={ODBC Driver 17 for SQL Server};\"\n",
    "    \"SERVER=associatetraining.database.windows.net,1433;\"\n",
    "    \"DATABASE=associatetraining;\"\n",
    "    \"UID=training;\"\n",
    "    \"PWD=dFyUT1#$rKIh26;\"\n",
    ")\n",
    "\n",
    "engine = create_engine(f\"mssql+pyodbc:///?odbc_connect={params}\")"
   ]
  },
  {
   "cell_type": "markdown",
   "id": "1b8a2340",
   "metadata": {},
   "source": [
    "### Delete all parquet files of the Gold layer and Cache"
   ]
  },
  {
   "cell_type": "code",
   "execution_count": 79,
   "id": "2cfbf5f0",
   "metadata": {},
   "outputs": [],
   "source": [
    "# for file in gold_parquet.glob(\"*.parquet\"):\n",
    "#     print(f\"Deleting: {file}\")\n",
    "#     os.remove(file)\n",
    "\n",
    "# _parquet_cache.clear()"
   ]
  },
  {
   "cell_type": "markdown",
   "id": "2342e7ab",
   "metadata": {},
   "source": [
    "### Generate the 'Date' table"
   ]
  },
  {
   "cell_type": "code",
   "execution_count": null,
   "id": "79ff4eb0",
   "metadata": {},
   "outputs": [],
   "source": [
    "def load_dim_date(start_date: str = \"1954-08-18\", end_date: str = \"2025-07-30\") -> pl.DataFrame:\n",
    "    # generate date range\n",
    "    start = datetime.strptime(start_date, \"%Y-%m-%d\").date()\n",
    "    end = datetime.strptime(end_date, \"%Y-%m-%d\").date()\n",
    "    \n",
    "    num_days = (end - start).days + 1\n",
    "    date_list = [start + timedelta(days=i) for i in range(num_days)]\n",
    "    \n",
    "    df = pl.DataFrame({\"date\": date_list})\n",
    "    \n",
    "    df = (\n",
    "        df.with_columns([\n",
    "            pl.col(\"date\").dt.year().alias(\"year\"),\n",
    "            pl.col(\"date\").dt.month().alias(\"month\"),\n",
    "            pl.col(\"date\").dt.day().alias(\"day\"),\n",
    "            pl.col(\"date\").dt.weekday().alias(\"weekday\"),   # 0=Mon, 6=Sun\n",
    "            pl.col(\"date\").dt.strftime(\"%a\").alias(\"weekday_name\"),\n",
    "            pl.when(pl.col(\"date\").dt.weekday().is_in([5, 6]))\n",
    "              .then(pl.lit(1)).otherwise(pl.lit(0))\n",
    "              .alias(\"is_weekend\"),\n",
    "            (\"Q\" + pl.col(\"date\").dt.quarter().cast(pl.Utf8)).alias(\"fiscal_quarter\")\n",
    "        ])\n",
    "    )\n",
    "    \n",
    "    # ensure data types\n",
    "    df = df.cast({\n",
    "        \"date\": pl.Date,\n",
    "        \"year\": pl.Int32,\n",
    "        \"month\": pl.Int32,\n",
    "        \"day\": pl.Int32,\n",
    "        \"weekday\": pl.Int32,\n",
    "        \"weekday_name\": pl.Utf8,\n",
    "        \"is_weekend\": pl.Int32,\n",
    "        \"fiscal_quarter\": pl.Utf8,\n",
    "    })\n",
    "    \n",
    "    # add row for 'unknown' date\n",
    "    df_unknown = pl.DataFrame({\n",
    "        \"date\": [date(1900,1,1)],\n",
    "        \"year\": [0],\n",
    "        \"month\": [0],\n",
    "        \"day\": [0],\n",
    "        \"weekday\": [0],\n",
    "        \"weekday_name\": [\"Unknown\"],\n",
    "        \"is_weekend\": [0],\n",
    "        \"fiscal_quarter\": [\"Q0\"]\n",
    "    }).cast(df.schema) \n",
    "    \n",
    "    df_final = pl.concat([df, df_unknown], how=\"vertical\")\n",
    "    \n",
    "    df_final.write_parquet(gold_parquet / \"gold_dim_date.parquet\")\n",
    "    return df_final\n",
    "\n",
    "load_dim_date(start_date=\"1954-08-18\", end_date=\"2025-07-30\")"
   ]
  },
  {
   "cell_type": "markdown",
   "id": "82fa3b38",
   "metadata": {},
   "source": [
    "### Generate other tables"
   ]
  },
  {
   "cell_type": "code",
   "execution_count": null,
   "id": "c2b9d658",
   "metadata": {},
   "outputs": [
    {
     "name": "stdout",
     "output_type": "stream",
     "text": [
      "\n",
      "==============================================================================\n",
      "\n",
      "WORKING FOR FINAL TABLE: product\n",
      "Parquet file not found: /home/sapna.choudhary/Data-Engineering-Training/Polars_DWH/parquet_files/gold_layer/gold_dim_product.parquet\n",
      "# --- INSIDE MAIN ---\n",
      "attr_cols : ['brand', 'sub_category']\n",
      "extra_cols : ['product_name', 'product_description', 'rating', 'no_of_ratings', 'discount_percent', 'actual_price']\n",
      "df_src.columns : ['product_id', 'brand_skey', 'product_name', 'product_description', 'rating', 'no_of_ratings', 'sub_category_skey', 'discount_percent', 'actual_price']\n",
      "Looking for parent dim: /home/sapna.choudhary/Data-Engineering-Training/Polars_DWH/parquet_files/gold_layer/gold_dim_brand.parquet\n",
      "Looking for parent dim: /home/sapna.choudhary/Data-Engineering-Training/Polars_DWH/parquet_files/gold_layer/gold_dim_sub_category.parquet\n",
      "df_final.columns : ['product_skey', 'product_id', 'brand_skey', 'sub_category_skey', 'product_name', 'product_description', 'rating', 'no_of_ratings', 'discount_percent', 'actual_price', 'is_active', 'batch_id', 'load_timestamp']\n"
     ]
    },
    {
     "name": "stdout",
     "output_type": "stream",
     "text": [
      "Saved product into DB schema gold\n",
      "\n",
      "==============================================================================\n",
      "\n",
      "WORKING FOR FINAL TABLE: orders\n",
      "Parquet file not found: /home/sapna.choudhary/Data-Engineering-Training/Polars_DWH/parquet_files/gold_layer/gold_dim_orders.parquet\n",
      "# --- INSIDE MAIN ---\n",
      "attr_cols : ['customer', 'shipping_type', 'payment_source', 'lead_type']\n",
      "extra_cols : ['has_coupon', 'coupon_code', 'is_gift', 'gift_message']\n",
      "df_src.columns : ['orders_id', 'customer_skey', 'shipping_type_skey', 'payment_source_skey', 'lead_type_skey', 'has_coupon', 'coupon_code', 'is_gift', 'gift_message']\n",
      "Looking for parent dim: /home/sapna.choudhary/Data-Engineering-Training/Polars_DWH/parquet_files/gold_layer/gold_dim_customer.parquet\n",
      "Looking for parent dim: /home/sapna.choudhary/Data-Engineering-Training/Polars_DWH/parquet_files/gold_layer/gold_dim_shipping_type.parquet\n",
      "Looking for parent dim: /home/sapna.choudhary/Data-Engineering-Training/Polars_DWH/parquet_files/gold_layer/gold_dim_payment_source.parquet\n",
      "Looking for parent dim: /home/sapna.choudhary/Data-Engineering-Training/Polars_DWH/parquet_files/gold_layer/gold_dim_lead_type.parquet\n",
      "df_final.columns : ['orders_skey', 'orders_id', 'customer_skey', 'shipping_type_skey', 'payment_source_skey', 'lead_type_skey', 'has_coupon', 'coupon_code', 'is_gift', 'gift_message', 'is_active', 'batch_id', 'load_timestamp']\n",
      "Saved orders into DB schema gold\n",
      "\n",
      "==============================================================================\n",
      "\n",
      "WORKING FOR FINAL TABLE: sales\n",
      "Parquet file not found: /home/sapna.choudhary/Data-Engineering-Training/Polars_DWH/parquet_files/gold_layer/gold_fact_sales.parquet\n",
      "# --- INSIDE MAIN ---\n",
      "attr_cols : ['orders', 'product', 'order_status']\n",
      "extra_cols : ['quantity', 'unit_price', 'actual_price', 'discount_percent', 'discount_amount', 'order_date', 'expected_delivery_date', 'shipping_date', 'delivery_date', 'return_date', 'refund_date', 'is_returned']\n",
      "df_src.columns : ['orders_id', 'customer_id', 'product_id', 'orders_skey', 'product_skey', 'order_status_skey', 'quantity', 'unit_price', 'actual_price', 'discount_percent', 'discount_amount', 'order_date', 'expected_delivery_date', 'shipping_date', 'delivery_date', 'return_date', 'refund_date', 'is_returned']\n",
      "Looking for parent dim: /home/sapna.choudhary/Data-Engineering-Training/Polars_DWH/parquet_files/gold_layer/gold_dim_orders.parquet\n",
      "Looking for parent dim: /home/sapna.choudhary/Data-Engineering-Training/Polars_DWH/parquet_files/gold_layer/gold_dim_product.parquet\n",
      "Looking for parent dim: /home/sapna.choudhary/Data-Engineering-Training/Polars_DWH/parquet_files/gold_layer/gold_dim_order_status.parquet\n",
      "df_final.columns : ['sales_skey', 'orders_skey', 'product_skey', 'order_status_skey', 'quantity', 'unit_price', 'actual_price', 'discount_percent', 'discount_amount', 'order_date', 'expected_delivery_date', 'shipping_date', 'delivery_date', 'return_date', 'refund_date', 'is_returned', 'is_active', 'batch_id', 'load_timestamp']\n",
      "Saved sales into DB schema gold\n"
     ]
    },
    {
     "data": {
      "text/plain": [
       "{'product': shape: (49_997, 13)\n",
       " ┌───────────┬───────────┬───────────┬───────────┬───┬───────────┬───────────┬──────────┬───────────┐\n",
       " │ product_s ┆ product_i ┆ brand_ske ┆ sub_categ ┆ … ┆ actual_pr ┆ is_active ┆ batch_id ┆ load_time │\n",
       " │ key       ┆ d         ┆ y         ┆ ory_skey  ┆   ┆ ice       ┆ ---       ┆ ---      ┆ stamp     │\n",
       " │ ---       ┆ ---       ┆ ---       ┆ ---       ┆   ┆ ---       ┆ i32       ┆ i32      ┆ ---       │\n",
       " │ i64       ┆ str       ┆ i64       ┆ i64       ┆   ┆ f64       ┆           ┆          ┆ datetime[ │\n",
       " │           ┆           ┆           ┆           ┆   ┆           ┆           ┆          ┆ μs]       │\n",
       " ╞═══════════╪═══════════╪═══════════╪═══════════╪═══╪═══════════╪═══════════╪══════════╪═══════════╡\n",
       " │ 1         ┆ Prd_00038 ┆ 121       ┆ 12        ┆ … ┆ 93598.88  ┆ 1         ┆ 1        ┆ 2025-09-1 │\n",
       " │           ┆ 686       ┆           ┆           ┆   ┆           ┆           ┆          ┆ 6         │\n",
       " │           ┆           ┆           ┆           ┆   ┆           ┆           ┆          ┆ 23:35:47  │\n",
       " │ 2         ┆ Prd_00031 ┆ 182       ┆ 11        ┆ … ┆ 132290.97 ┆ 1         ┆ 1        ┆ 2025-09-1 │\n",
       " │           ┆ 735       ┆           ┆           ┆   ┆           ┆           ┆          ┆ 6         │\n",
       " │           ┆           ┆           ┆           ┆   ┆           ┆           ┆          ┆ 23:35:47  │\n",
       " │ 3         ┆ Prd_00027 ┆ 235       ┆ 3         ┆ … ┆ 57315.58  ┆ 1         ┆ 1        ┆ 2025-09-1 │\n",
       " │           ┆ 468       ┆           ┆           ┆   ┆           ┆           ┆          ┆ 6         │\n",
       " │           ┆           ┆           ┆           ┆   ┆           ┆           ┆          ┆ 23:35:47  │\n",
       " │ 4         ┆ Prd_00015 ┆ 328       ┆ 19        ┆ … ┆ 118308.09 ┆ 1         ┆ 1        ┆ 2025-09-1 │\n",
       " │           ┆ 010       ┆           ┆           ┆   ┆           ┆           ┆          ┆ 6         │\n",
       " │           ┆           ┆           ┆           ┆   ┆           ┆           ┆          ┆ 23:35:47  │\n",
       " │ 5         ┆ Prd_00001 ┆ 109       ┆ 22        ┆ … ┆ 55027.2   ┆ 1         ┆ 1        ┆ 2025-09-1 │\n",
       " │           ┆ 055       ┆           ┆           ┆   ┆           ┆           ┆          ┆ 6         │\n",
       " │           ┆           ┆           ┆           ┆   ┆           ┆           ┆          ┆ 23:35:47  │\n",
       " │ …         ┆ …         ┆ …         ┆ …         ┆ … ┆ …         ┆ …         ┆ …        ┆ …         │\n",
       " │ 49993     ┆ Prd_00004 ┆ 383       ┆ 22        ┆ … ┆ 117397.61 ┆ 1         ┆ 1        ┆ 2025-09-1 │\n",
       " │           ┆ 406       ┆           ┆           ┆   ┆           ┆           ┆          ┆ 6         │\n",
       " │           ┆           ┆           ┆           ┆   ┆           ┆           ┆          ┆ 23:35:47  │\n",
       " │ 49994     ┆ Prd_00016 ┆ 267       ┆ 4         ┆ … ┆ 28416.3   ┆ 1         ┆ 1        ┆ 2025-09-1 │\n",
       " │           ┆ 039       ┆           ┆           ┆   ┆           ┆           ┆          ┆ 6         │\n",
       " │           ┆           ┆           ┆           ┆   ┆           ┆           ┆          ┆ 23:35:47  │\n",
       " │ 49995     ┆ Prd_00024 ┆ 208       ┆ 2         ┆ … ┆ 28128.0   ┆ 1         ┆ 1        ┆ 2025-09-1 │\n",
       " │           ┆ 842       ┆           ┆           ┆   ┆           ┆           ┆          ┆ 6         │\n",
       " │           ┆           ┆           ┆           ┆   ┆           ┆           ┆          ┆ 23:35:47  │\n",
       " │ 49996     ┆ Prd_00031 ┆ 297       ┆ 2         ┆ … ┆ 148167.41 ┆ 1         ┆ 1        ┆ 2025-09-1 │\n",
       " │           ┆ 546       ┆           ┆           ┆   ┆           ┆           ┆          ┆ 6         │\n",
       " │           ┆           ┆           ┆           ┆   ┆           ┆           ┆          ┆ 23:35:47  │\n",
       " │ 49997     ┆ Prd_00031 ┆ 162       ┆ 20        ┆ … ┆ 35985.6   ┆ 1         ┆ 1        ┆ 2025-09-1 │\n",
       " │           ┆ 096       ┆           ┆           ┆   ┆           ┆           ┆          ┆ 6         │\n",
       " │           ┆           ┆           ┆           ┆   ┆           ┆           ┆          ┆ 23:35:47  │\n",
       " └───────────┴───────────┴───────────┴───────────┴───┴───────────┴───────────┴──────────┴───────────┘,\n",
       " 'orders': shape: (2_984, 13)\n",
       " ┌───────────┬───────────┬───────────┬───────────┬───┬───────────┬───────────┬──────────┬───────────┐\n",
       " │ orders_sk ┆ orders_id ┆ customer_ ┆ shipping_ ┆ … ┆ gift_mess ┆ is_active ┆ batch_id ┆ load_time │\n",
       " │ ey        ┆ ---       ┆ skey      ┆ type_skey ┆   ┆ age       ┆ ---       ┆ ---      ┆ stamp     │\n",
       " │ ---       ┆ str       ┆ ---       ┆ ---       ┆   ┆ ---       ┆ i32       ┆ i32      ┆ ---       │\n",
       " │ i64       ┆           ┆ i64       ┆ i64       ┆   ┆ str       ┆           ┆          ┆ datetime[ │\n",
       " │           ┆           ┆           ┆           ┆   ┆           ┆           ┆          ┆ μs]       │\n",
       " ╞═══════════╪═══════════╪═══════════╪═══════════╪═══╪═══════════╪═══════════╪══════════╪═══════════╡\n",
       " │ 1         ┆ Ord_00000 ┆ 307       ┆ 1         ┆ … ┆           ┆ 1         ┆ 1        ┆ 2025-09-1 │\n",
       " │           ┆ 0898      ┆           ┆           ┆   ┆           ┆           ┆          ┆ 6         │\n",
       " │           ┆           ┆           ┆           ┆   ┆           ┆           ┆          ┆ 23:39:53  │\n",
       " │ 2         ┆ Ord_00000 ┆ 52        ┆ 3         ┆ … ┆           ┆ 1         ┆ 1        ┆ 2025-09-1 │\n",
       " │           ┆ 1446      ┆           ┆           ┆   ┆           ┆           ┆          ┆ 6         │\n",
       " │           ┆           ┆           ┆           ┆   ┆           ┆           ┆          ┆ 23:39:53  │\n",
       " │ 3         ┆ Ord_00000 ┆ 42        ┆ 2         ┆ … ┆           ┆ 1         ┆ 1        ┆ 2025-09-1 │\n",
       " │           ┆ 0499      ┆           ┆           ┆   ┆           ┆           ┆          ┆ 6         │\n",
       " │           ┆           ┆           ┆           ┆   ┆           ┆           ┆          ┆ 23:39:53  │\n",
       " │ 4         ┆ Ord_00000 ┆ 210       ┆ 2         ┆ … ┆           ┆ 1         ┆ 1        ┆ 2025-09-1 │\n",
       " │           ┆ 0476      ┆           ┆           ┆   ┆           ┆           ┆          ┆ 6         │\n",
       " │           ┆           ┆           ┆           ┆   ┆           ┆           ┆          ┆ 23:39:53  │\n",
       " │ 5         ┆ Ord_00000 ┆ 304       ┆ 4         ┆ … ┆           ┆ 1         ┆ 1        ┆ 2025-09-1 │\n",
       " │           ┆ 0986      ┆           ┆           ┆   ┆           ┆           ┆          ┆ 6         │\n",
       " │           ┆           ┆           ┆           ┆   ┆           ┆           ┆          ┆ 23:39:53  │\n",
       " │ …         ┆ …         ┆ …         ┆ …         ┆ … ┆ …         ┆ …         ┆ …        ┆ …         │\n",
       " │ 2980      ┆ Ord_00000 ┆ 262       ┆ 3         ┆ … ┆           ┆ 1         ┆ 1        ┆ 2025-09-1 │\n",
       " │           ┆ 2560      ┆           ┆           ┆   ┆           ┆           ┆          ┆ 6         │\n",
       " │           ┆           ┆           ┆           ┆   ┆           ┆           ┆          ┆ 23:39:53  │\n",
       " │ 2981      ┆ Ord_00000 ┆ 55        ┆ 2         ┆ … ┆           ┆ 1         ┆ 1        ┆ 2025-09-1 │\n",
       " │           ┆ 2106      ┆           ┆           ┆   ┆           ┆           ┆          ┆ 6         │\n",
       " │           ┆           ┆           ┆           ┆   ┆           ┆           ┆          ┆ 23:39:53  │\n",
       " │ 2982      ┆ Ord_00000 ┆ 329       ┆ 1         ┆ … ┆ Enjoy!    ┆ 1         ┆ 1        ┆ 2025-09-1 │\n",
       " │           ┆ 0825      ┆           ┆           ┆   ┆           ┆           ┆          ┆ 6         │\n",
       " │           ┆           ┆           ┆           ┆   ┆           ┆           ┆          ┆ 23:39:53  │\n",
       " │ 2983      ┆ Ord_00000 ┆ 263       ┆ 1         ┆ … ┆           ┆ 1         ┆ 1        ┆ 2025-09-1 │\n",
       " │           ┆ 2707      ┆           ┆           ┆   ┆           ┆           ┆          ┆ 6         │\n",
       " │           ┆           ┆           ┆           ┆   ┆           ┆           ┆          ┆ 23:39:53  │\n",
       " │ 2984      ┆ Ord_00000 ┆ 459       ┆ 4         ┆ … ┆ Happy     ┆ 1         ┆ 1        ┆ 2025-09-1 │\n",
       " │           ┆ 1184      ┆           ┆           ┆   ┆ Birthday! ┆           ┆          ┆ 6         │\n",
       " │           ┆           ┆           ┆           ┆   ┆           ┆           ┆          ┆ 23:39:53  │\n",
       " └───────────┴───────────┴───────────┴───────────┴───┴───────────┴───────────┴──────────┴───────────┘,\n",
       " 'sales': shape: (8, 19)\n",
       " ┌───────────┬───────────┬───────────┬───────────┬───┬───────────┬───────────┬──────────┬───────────┐\n",
       " │ sales_ske ┆ orders_sk ┆ product_s ┆ order_sta ┆ … ┆ is_return ┆ is_active ┆ batch_id ┆ load_time │\n",
       " │ y         ┆ ey        ┆ key       ┆ tus_skey  ┆   ┆ ed        ┆ ---       ┆ ---      ┆ stamp     │\n",
       " │ ---       ┆ ---       ┆ ---       ┆ ---       ┆   ┆ ---       ┆ i32       ┆ i32      ┆ ---       │\n",
       " │ i64       ┆ i64       ┆ i64       ┆ i64       ┆   ┆ i8        ┆           ┆          ┆ datetime[ │\n",
       " │           ┆           ┆           ┆           ┆   ┆           ┆           ┆          ┆ μs]       │\n",
       " ╞═══════════╪═══════════╪═══════════╪═══════════╪═══╪═══════════╪═══════════╪══════════╪═══════════╡\n",
       " │ 1         ┆ 1978      ┆ 29579     ┆ 3         ┆ … ┆ 0         ┆ 1         ┆ 1        ┆ 2025-09-1 │\n",
       " │           ┆           ┆           ┆           ┆   ┆           ┆           ┆          ┆ 6         │\n",
       " │           ┆           ┆           ┆           ┆   ┆           ┆           ┆          ┆ 23:40:15  │\n",
       " │ 2         ┆ 2740      ┆ 26669     ┆ 4         ┆ … ┆ 0         ┆ 1         ┆ 1        ┆ 2025-09-1 │\n",
       " │           ┆           ┆           ┆           ┆   ┆           ┆           ┆          ┆ 6         │\n",
       " │           ┆           ┆           ┆           ┆   ┆           ┆           ┆          ┆ 23:40:15  │\n",
       " │ 3         ┆ 1870      ┆ 36328     ┆ 6         ┆ … ┆ 0         ┆ 1         ┆ 1        ┆ 2025-09-1 │\n",
       " │           ┆           ┆           ┆           ┆   ┆           ┆           ┆          ┆ 6         │\n",
       " │           ┆           ┆           ┆           ┆   ┆           ┆           ┆          ┆ 23:40:15  │\n",
       " │ 4         ┆ 15        ┆ 38784     ┆ 3         ┆ … ┆ 0         ┆ 1         ┆ 1        ┆ 2025-09-1 │\n",
       " │           ┆           ┆           ┆           ┆   ┆           ┆           ┆          ┆ 6         │\n",
       " │           ┆           ┆           ┆           ┆   ┆           ┆           ┆          ┆ 23:40:15  │\n",
       " │ 5         ┆ 2914      ┆ 36328     ┆ 3         ┆ … ┆ 0         ┆ 1         ┆ 1        ┆ 2025-09-1 │\n",
       " │           ┆           ┆           ┆           ┆   ┆           ┆           ┆          ┆ 6         │\n",
       " │           ┆           ┆           ┆           ┆   ┆           ┆           ┆          ┆ 23:40:15  │\n",
       " │ 6         ┆ 1771      ┆ 2124      ┆ 1         ┆ … ┆ 0         ┆ 1         ┆ 1        ┆ 2025-09-1 │\n",
       " │           ┆           ┆           ┆           ┆   ┆           ┆           ┆          ┆ 6         │\n",
       " │           ┆           ┆           ┆           ┆   ┆           ┆           ┆          ┆ 23:40:15  │\n",
       " │ 7         ┆ 1944      ┆ 24391     ┆ 4         ┆ … ┆ 0         ┆ 1         ┆ 1        ┆ 2025-09-1 │\n",
       " │           ┆           ┆           ┆           ┆   ┆           ┆           ┆          ┆ 6         │\n",
       " │           ┆           ┆           ┆           ┆   ┆           ┆           ┆          ┆ 23:40:15  │\n",
       " │ 8         ┆ 818       ┆ 16736     ┆ 1         ┆ … ┆ 0         ┆ 1         ┆ 1        ┆ 2025-09-1 │\n",
       " │           ┆           ┆           ┆           ┆   ┆           ┆           ┆          ┆ 6         │\n",
       " │           ┆           ┆           ┆           ┆   ┆           ┆           ┆          ┆ 23:40:15  │\n",
       " └───────────┴───────────┴───────────┴───────────┴───┴───────────┴───────────┴──────────┴───────────┘}"
      ]
     },
     "execution_count": 81,
     "metadata": {},
     "output_type": "execute_result"
    }
   ],
   "source": [
    "# build_and_merge_all(config.TABLE_GROUPS)"
   ]
  }
 ],
 "metadata": {
  "kernelspec": {
   "display_name": "Python 3",
   "language": "python",
   "name": "python3"
  },
  "language_info": {
   "codemirror_mode": {
    "name": "ipython",
    "version": 3
   },
   "file_extension": ".py",
   "mimetype": "text/x-python",
   "name": "python",
   "nbconvert_exporter": "python",
   "pygments_lexer": "ipython3",
   "version": "3.10.12"
  }
 },
 "nbformat": 4,
 "nbformat_minor": 5
}
