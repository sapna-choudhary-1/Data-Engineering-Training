{
 "cells": [
  {
   "cell_type": "markdown",
   "id": "99a24631",
   "metadata": {},
   "source": [
    "# GOLD LAYER"
   ]
  },
  {
   "cell_type": "code",
   "execution_count": 5,
   "id": "b713b1c3",
   "metadata": {},
   "outputs": [],
   "source": [
    "import polars as pl\n",
    "from datetime import date, timedelta, datetime\n",
    "import os\n",
    "import sys\n",
    "from pathlib import Path\n",
    "from dotenv import load_dotenv\n",
    "\n",
    "sys.path.append(os.path.abspath(\"..\"))\n",
    "import udfs as udf"
   ]
  },
  {
   "cell_type": "code",
   "execution_count": 14,
   "id": "67d406c2",
   "metadata": {},
   "outputs": [
    {
     "name": "stdout",
     "output_type": "stream",
     "text": [
      "/home/sapna.choudhary/Data-Engineering-Training/Polars_DWH\n",
      "/home/sapna.choudhary/Data-Engineering-Training/Polars_DWH/staging_layer\n",
      "/home/sapna.choudhary/Data-Engineering-Training/Polars_DWH/gold_layer\n"
     ]
    }
   ],
   "source": [
    "load_dotenv(override=True) \n",
    "\n",
    "POLARS_DWH = Path(os.getenv(\"POLARS_DWH\"))\n",
    "print(POLARS_DWH)\n",
    "\n",
    "staging_dir = POLARS_DWH/'staging_layer'\n",
    "gold_dir = POLARS_DWH/'gold_layer'\n",
    "print(staging_dir, gold_dir, sep=\"\\n\")"
   ]
  },
  {
   "cell_type": "code",
   "execution_count": 15,
   "id": "24795f2c",
   "metadata": {},
   "outputs": [],
   "source": [
    "def load_dim_date(start_date: str = \"1954-08-18\", end_date: str = \"2025-07-30\") -> pl.DataFrame:\n",
    "    # generate date range\n",
    "    start = datetime.strptime(start_date, \"%Y-%m-%d\").date()\n",
    "    end = datetime.strptime(end_date, \"%Y-%m-%d\").date()\n",
    "    \n",
    "    num_days = (end - start).days + 1\n",
    "    date_list = [start + timedelta(days=i) for i in range(num_days)]\n",
    "    \n",
    "    df = pl.DataFrame({\"date\": date_list})\n",
    "\n",
    "    df = (\n",
    "        df.with_columns([\n",
    "            pl.col(\"date\").dt.year().alias(\"year\"),\n",
    "            pl.col(\"date\").dt.month().alias(\"month\"),\n",
    "            pl.col(\"date\").dt.day().alias(\"day\"),\n",
    "            pl.col(\"date\").dt.weekday().alias(\"weekday\"),   # 0=Mon, 6=Sun\n",
    "            pl.col(\"date\").dt.strftime(\"%A\").alias(\"weekday_name\"),\n",
    "            pl.when(pl.col(\"date\").dt.weekday().is_in([5, 6]))\n",
    "              .then(pl.lit(1)).otherwise(pl.lit(0))\n",
    "              .alias(\"is_weekend\"),\n",
    "            (\"Q\" + pl.col(\"date\").dt.quarter().cast(pl.Utf8)).alias(\"fiscal_quarter\")\n",
    "        ])\n",
    "    )\n",
    "\n",
    "    # enforce types for base df\n",
    "    df = df.cast({\n",
    "        \"date\": pl.Date,\n",
    "        \"year\": pl.Int32,\n",
    "        \"month\": pl.Int32,\n",
    "        \"day\": pl.Int32,\n",
    "        \"weekday\": pl.Int32,\n",
    "        \"weekday_name\": pl.Utf8,\n",
    "        \"is_weekend\": pl.Int32,\n",
    "        \"fiscal_quarter\": pl.Utf8,\n",
    "    })\n",
    "\n",
    "    # add special mapping row with same dtypes\n",
    "    df_unknown = pl.DataFrame({\n",
    "        \"date\": [date(1900,1,1)],\n",
    "        \"year\": [0],\n",
    "        \"month\": [0],\n",
    "        \"day\": [0],\n",
    "        \"weekday\": [0],\n",
    "        \"weekday_name\": [\"Unknown\"],\n",
    "        \"is_weekend\": [0],\n",
    "        \"fiscal_quarter\": [\"Q0\"]\n",
    "    }).cast(df.schema) \n",
    "\n",
    "    df_final = pl.concat([df, df_unknown], how=\"vertical\")\n",
    "\n",
    "    return df_final.sort(\"date\")"
   ]
  },
  {
   "cell_type": "code",
   "execution_count": 16,
   "id": "c29c162d",
   "metadata": {},
   "outputs": [
    {
     "data": {
      "text/html": [
       "<div><style>\n",
       ".dataframe > thead > tr,\n",
       ".dataframe > tbody > tr {\n",
       "  text-align: right;\n",
       "  white-space: pre-wrap;\n",
       "}\n",
       "</style>\n",
       "<small>shape: (25_916, 8)</small><table border=\"1\" class=\"dataframe\"><thead><tr><th>date</th><th>year</th><th>month</th><th>day</th><th>weekday</th><th>weekday_name</th><th>is_weekend</th><th>fiscal_quarter</th></tr><tr><td>date</td><td>i32</td><td>i32</td><td>i32</td><td>i32</td><td>str</td><td>i32</td><td>str</td></tr></thead><tbody><tr><td>1900-01-01</td><td>0</td><td>0</td><td>0</td><td>0</td><td>&quot;Unknown&quot;</td><td>0</td><td>&quot;Q0&quot;</td></tr><tr><td>1954-08-18</td><td>1954</td><td>8</td><td>18</td><td>3</td><td>&quot;Wednesday&quot;</td><td>0</td><td>&quot;Q3&quot;</td></tr><tr><td>1954-08-19</td><td>1954</td><td>8</td><td>19</td><td>4</td><td>&quot;Thursday&quot;</td><td>0</td><td>&quot;Q3&quot;</td></tr><tr><td>1954-08-20</td><td>1954</td><td>8</td><td>20</td><td>5</td><td>&quot;Friday&quot;</td><td>1</td><td>&quot;Q3&quot;</td></tr><tr><td>1954-08-21</td><td>1954</td><td>8</td><td>21</td><td>6</td><td>&quot;Saturday&quot;</td><td>1</td><td>&quot;Q3&quot;</td></tr><tr><td>&hellip;</td><td>&hellip;</td><td>&hellip;</td><td>&hellip;</td><td>&hellip;</td><td>&hellip;</td><td>&hellip;</td><td>&hellip;</td></tr><tr><td>2025-07-26</td><td>2025</td><td>7</td><td>26</td><td>6</td><td>&quot;Saturday&quot;</td><td>1</td><td>&quot;Q3&quot;</td></tr><tr><td>2025-07-27</td><td>2025</td><td>7</td><td>27</td><td>7</td><td>&quot;Sunday&quot;</td><td>0</td><td>&quot;Q3&quot;</td></tr><tr><td>2025-07-28</td><td>2025</td><td>7</td><td>28</td><td>1</td><td>&quot;Monday&quot;</td><td>0</td><td>&quot;Q3&quot;</td></tr><tr><td>2025-07-29</td><td>2025</td><td>7</td><td>29</td><td>2</td><td>&quot;Tuesday&quot;</td><td>0</td><td>&quot;Q3&quot;</td></tr><tr><td>2025-07-30</td><td>2025</td><td>7</td><td>30</td><td>3</td><td>&quot;Wednesday&quot;</td><td>0</td><td>&quot;Q3&quot;</td></tr></tbody></table></div>"
      ],
      "text/plain": [
       "shape: (25_916, 8)\n",
       "┌────────────┬──────┬───────┬─────┬─────────┬──────────────┬────────────┬────────────────┐\n",
       "│ date       ┆ year ┆ month ┆ day ┆ weekday ┆ weekday_name ┆ is_weekend ┆ fiscal_quarter │\n",
       "│ ---        ┆ ---  ┆ ---   ┆ --- ┆ ---     ┆ ---          ┆ ---        ┆ ---            │\n",
       "│ date       ┆ i32  ┆ i32   ┆ i32 ┆ i32     ┆ str          ┆ i32        ┆ str            │\n",
       "╞════════════╪══════╪═══════╪═════╪═════════╪══════════════╪════════════╪════════════════╡\n",
       "│ 1900-01-01 ┆ 0    ┆ 0     ┆ 0   ┆ 0       ┆ Unknown      ┆ 0          ┆ Q0             │\n",
       "│ 1954-08-18 ┆ 1954 ┆ 8     ┆ 18  ┆ 3       ┆ Wednesday    ┆ 0          ┆ Q3             │\n",
       "│ 1954-08-19 ┆ 1954 ┆ 8     ┆ 19  ┆ 4       ┆ Thursday     ┆ 0          ┆ Q3             │\n",
       "│ 1954-08-20 ┆ 1954 ┆ 8     ┆ 20  ┆ 5       ┆ Friday       ┆ 1          ┆ Q3             │\n",
       "│ 1954-08-21 ┆ 1954 ┆ 8     ┆ 21  ┆ 6       ┆ Saturday     ┆ 1          ┆ Q3             │\n",
       "│ …          ┆ …    ┆ …     ┆ …   ┆ …       ┆ …            ┆ …          ┆ …              │\n",
       "│ 2025-07-26 ┆ 2025 ┆ 7     ┆ 26  ┆ 6       ┆ Saturday     ┆ 1          ┆ Q3             │\n",
       "│ 2025-07-27 ┆ 2025 ┆ 7     ┆ 27  ┆ 7       ┆ Sunday       ┆ 0          ┆ Q3             │\n",
       "│ 2025-07-28 ┆ 2025 ┆ 7     ┆ 28  ┆ 1       ┆ Monday       ┆ 0          ┆ Q3             │\n",
       "│ 2025-07-29 ┆ 2025 ┆ 7     ┆ 29  ┆ 2       ┆ Tuesday      ┆ 0          ┆ Q3             │\n",
       "│ 2025-07-30 ┆ 2025 ┆ 7     ┆ 30  ┆ 3       ┆ Wednesday    ┆ 0          ┆ Q3             │\n",
       "└────────────┴──────┴───────┴─────┴─────────┴──────────────┴────────────┴────────────────┘"
      ]
     },
     "execution_count": 16,
     "metadata": {},
     "output_type": "execute_result"
    }
   ],
   "source": [
    "df_dim_date = load_dim_date(\"1954-08-18\", \"2025-07-30\")\n",
    "df_dim_date"
   ]
  },
  {
   "cell_type": "code",
   "execution_count": 54,
   "id": "04d640ed",
   "metadata": {},
   "outputs": [],
   "source": [
    "def merge_upsert(df_src: pl.DataFrame, df_tgt: pl.DataFrame | None, key_col: str) -> pl.DataFrame:\n",
    "    \"\"\"\n",
    "    Simulates SQL MERGE (UPSERT) in Polars:\n",
    "      - If key exists in both → keep\n",
    "      - If key exists only in source → insert\n",
    "      - If key exists only in target → delete\n",
    "    \"\"\"\n",
    "    df_src = df_src.select(key_col).drop_nulls().unique()\n",
    "\n",
    "    if df_tgt is None or df_tgt.is_empty():\n",
    "      print(\"Entered if\")\n",
    "      print(df_src)\n",
    "      return df_src\n",
    "\n",
    "    # 1. INSERT: new rows from source (in source only but not in target)\n",
    "    new_rows = df_src.filter(~pl.col(key_col).is_in(df_tgt[key_col]))\n",
    "    \n",
    "    # 2. KEEP: rows that exist in both\n",
    "    common = df_tgt.filter(pl.col(key_col).is_in(df_src[key_col]))\n",
    "\n",
    "    # 3. DELETE: target-only rows are excluded\n",
    "    # (automatically handled, since we don’t include target-only rows)\n",
    "    \n",
    "    # 4. Final merged result\n",
    "    df_final = pl.concat([common, new_rows], how=\"vertical\") \\\n",
    "                .unique() \\\n",
    "                .sort(key_col)\n",
    "    return df_final\n"
   ]
  },
  {
   "cell_type": "code",
   "execution_count": 55,
   "id": "53f4601a",
   "metadata": {},
   "outputs": [
    {
     "name": "stdout",
     "output_type": "stream",
     "text": [
      "gender\n",
      "shape: (4, 1)\n",
      "┌─────────┐\n",
      "│ gender  │\n",
      "│ ---     │\n",
      "│ str     │\n",
      "╞═════════╡\n",
      "│ Female  │\n",
      "│ Male    │\n",
      "│ Other   │\n",
      "│ Unknown │\n",
      "└─────────┘\n",
      "marital_status\n",
      "shape: (3, 1)\n",
      "┌────────────────┐\n",
      "│ marital_status │\n",
      "│ ---            │\n",
      "│ str            │\n",
      "╞════════════════╡\n",
      "│ Married        │\n",
      "│ Single         │\n",
      "│ Unknown        │\n",
      "└────────────────┘\n",
      "customer_type\n",
      "shape: (3, 1)\n",
      "┌───────────────┐\n",
      "│ customer_type │\n",
      "│ ---           │\n",
      "│ str           │\n",
      "╞═══════════════╡\n",
      "│ Non-prime     │\n",
      "│ Prime         │\n",
      "│ Unknown       │\n",
      "└───────────────┘\n",
      "account_status\n",
      "shape: (4, 1)\n",
      "┌────────────────┐\n",
      "│ account_status │\n",
      "│ ---            │\n",
      "│ str            │\n",
      "╞════════════════╡\n",
      "│ Active         │\n",
      "│ Inactive       │\n",
      "│ Suspended      │\n",
      "│ Unknown        │\n",
      "└────────────────┘\n"
     ]
    },
    {
     "name": "stderr",
     "output_type": "stream",
     "text": [
      "/tmp/ipykernel_350491/688919442.py:16: DeprecationWarning: `is_in` with a collection of the same datatype is ambiguous and deprecated.\n",
      "Please use `implode` to return to previous behavior.\n",
      "\n",
      "See https://github.com/pola-rs/polars/issues/22149 for more information.\n",
      "  new_rows = df_src.filter(~pl.col(key_col).is_in(df_tgt[key_col]))\n",
      "/tmp/ipykernel_350491/688919442.py:19: DeprecationWarning: `is_in` with a collection of the same datatype is ambiguous and deprecated.\n",
      "Please use `implode` to return to previous behavior.\n",
      "\n",
      "See https://github.com/pola-rs/polars/issues/22149 for more information.\n",
      "  common = df_tgt.filter(pl.col(key_col).is_in(df_src[key_col]))\n"
     ]
    }
   ],
   "source": [
    "tables = ['customer']\n",
    "        #   , 'order', 'product', 'shipping_type']\n",
    "table_name = 'customer'\n",
    "key_col = ['gender', 'marital_status', 'customer_type', 'account_status']\n",
    "\n",
    "staging_paths = {}\n",
    "for col in key_col:\n",
    "    print(col)\n",
    "    # staging_paths[f\"df_{table_name}\"] = staging_dir / f\"{table_name}.parquet\"\n",
    "    src_file_name = staging_dir / f\"staging_{table_name}.parquet\"\n",
    "    \n",
    "    df_src = pl.read_parquet(src_file_name)\n",
    "\n",
    "    # load gold table if exists\n",
    "    tgt_file_name = gold_dir / f\"gold_dim_{col}.parquet\"\n",
    "    \n",
    "    if os.path.exists(tgt_file_name):\n",
    "        df_tgt = pl.read_parquet(tgt_file_name)\n",
    "    else:\n",
    "        df_tgt = None\n",
    "\n",
    "    # merge\n",
    "    df_tgt = merge_upsert(df_src, df_tgt, col)\n",
    "    print(df_tgt)    \n",
    "\n",
    "    # save\n",
    "    df_tgt.write_parquet(tgt_file_name)"
   ]
  },
  {
   "cell_type": "code",
   "execution_count": 56,
   "id": "cdccd294",
   "metadata": {},
   "outputs": [
    {
     "data": {
      "text/html": [
       "<div><style>\n",
       ".dataframe > thead > tr,\n",
       ".dataframe > tbody > tr {\n",
       "  text-align: right;\n",
       "  white-space: pre-wrap;\n",
       "}\n",
       "</style>\n",
       "<small>shape: (4, 1)</small><table border=\"1\" class=\"dataframe\"><thead><tr><th>account_status</th></tr><tr><td>str</td></tr></thead><tbody><tr><td>&quot;Active&quot;</td></tr><tr><td>&quot;Inactive&quot;</td></tr><tr><td>&quot;Suspended&quot;</td></tr><tr><td>&quot;Unknown&quot;</td></tr></tbody></table></div>"
      ],
      "text/plain": [
       "shape: (4, 1)\n",
       "┌────────────────┐\n",
       "│ account_status │\n",
       "│ ---            │\n",
       "│ str            │\n",
       "╞════════════════╡\n",
       "│ Active         │\n",
       "│ Inactive       │\n",
       "│ Suspended      │\n",
       "│ Unknown        │\n",
       "└────────────────┘"
      ]
     },
     "execution_count": 56,
     "metadata": {},
     "output_type": "execute_result"
    }
   ],
   "source": [
    "dff = pl.read_parquet(gold_dir / f\"gold_dim_account_status.parquet\")\n",
    "dff"
   ]
  },
  {
   "cell_type": "code",
   "execution_count": null,
   "id": "9ceae428",
   "metadata": {},
   "outputs": [],
   "source": []
  }
 ],
 "metadata": {
  "kernelspec": {
   "display_name": "Python 3",
   "language": "python",
   "name": "python3"
  },
  "language_info": {
   "codemirror_mode": {
    "name": "ipython",
    "version": 3
   },
   "file_extension": ".py",
   "mimetype": "text/x-python",
   "name": "python",
   "nbconvert_exporter": "python",
   "pygments_lexer": "ipython3",
   "version": "3.10.12"
  }
 },
 "nbformat": 4,
 "nbformat_minor": 5
}
