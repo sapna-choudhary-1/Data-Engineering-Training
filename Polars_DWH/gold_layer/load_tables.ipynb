{
 "cells": [
  {
   "cell_type": "markdown",
   "id": "163d61bb",
   "metadata": {},
   "source": [
    "# GOLD LAYER"
   ]
  },
  {
   "cell_type": "markdown",
   "id": "69dd80a2",
   "metadata": {},
   "source": [
    "### Necessary Imports"
   ]
  },
  {
   "cell_type": "code",
   "execution_count": 8,
   "id": "b08d2671",
   "metadata": {},
   "outputs": [
    {
     "data": {
      "text/plain": [
       "True"
      ]
     },
     "execution_count": 8,
     "metadata": {},
     "output_type": "execute_result"
    }
   ],
   "source": [
    "import os\n",
    "import logging\n",
    "import importlib\n",
    "from pathlib import Path\n",
    "from datetime import date, timedelta, datetime\n",
    "from dotenv import load_dotenv\n",
    "\n",
    "import polars as pl\n",
    "\n",
    "import config\n",
    "\n",
    "\n",
    "importlib.reload(config)\n",
    "\n",
    "logging.basicConfig(level=logging.INFO)\n",
    "logger = logging.getLogger(__name__)\n",
    "\n",
    "load_dotenv(override=True) "
   ]
  },
  {
   "cell_type": "code",
   "execution_count": 9,
   "id": "66966f12",
   "metadata": {},
   "outputs": [],
   "source": [
    "%run ./etl_runner.ipynb"
   ]
  },
  {
   "cell_type": "code",
   "execution_count": 10,
   "id": "c30f9979",
   "metadata": {},
   "outputs": [],
   "source": [
    "PARQUET_FILES_DIR = Path(os.getenv(\"PARQUET_FILES_DIR\"))\n",
    "\n",
    "gold_parquet = PARQUET_FILES_DIR/'gold_layer'\n",
    "gold_parquet.mkdir(parents=True, exist_ok=True)"
   ]
  },
  {
   "cell_type": "markdown",
   "id": "1b8a2340",
   "metadata": {},
   "source": [
    "### Delete all saved parquet files and cache files of the Gold layer"
   ]
  },
  {
   "cell_type": "code",
   "execution_count": null,
   "id": "2cfbf5f0",
   "metadata": {},
   "outputs": [],
   "source": [
    "#### ------- Functionality to delete the parquet files - when needed -------\n",
    "\n",
    "# for file in gold_parquet.glob(\"*.parquet\"):\n",
    "#     logger.info(f\"Deleting: {file}\")\n",
    "#     os.remove(file)\n",
    "\n",
    "# _parquet_cache.clear()"
   ]
  },
  {
   "cell_type": "markdown",
   "id": "2342e7ab",
   "metadata": {},
   "source": [
    "### Generate the 'Date' table"
   ]
  },
  {
   "cell_type": "code",
   "execution_count": 12,
   "id": "79ff4eb0",
   "metadata": {},
   "outputs": [
    {
     "data": {
      "text/html": [
       "<div><style>\n",
       ".dataframe > thead > tr,\n",
       ".dataframe > tbody > tr {\n",
       "  text-align: right;\n",
       "  white-space: pre-wrap;\n",
       "}\n",
       "</style>\n",
       "<small>shape: (25_916, 8)</small><table border=\"1\" class=\"dataframe\"><thead><tr><th>date</th><th>year</th><th>month</th><th>day</th><th>weekday</th><th>weekday_name</th><th>is_weekend</th><th>fiscal_quarter</th></tr><tr><td>date</td><td>i32</td><td>i32</td><td>i32</td><td>i32</td><td>str</td><td>i32</td><td>str</td></tr></thead><tbody><tr><td>1954-08-18</td><td>1954</td><td>8</td><td>18</td><td>3</td><td>&quot;Wed&quot;</td><td>0</td><td>&quot;Q3&quot;</td></tr><tr><td>1954-08-19</td><td>1954</td><td>8</td><td>19</td><td>4</td><td>&quot;Thu&quot;</td><td>0</td><td>&quot;Q3&quot;</td></tr><tr><td>1954-08-20</td><td>1954</td><td>8</td><td>20</td><td>5</td><td>&quot;Fri&quot;</td><td>1</td><td>&quot;Q3&quot;</td></tr><tr><td>1954-08-21</td><td>1954</td><td>8</td><td>21</td><td>6</td><td>&quot;Sat&quot;</td><td>1</td><td>&quot;Q3&quot;</td></tr><tr><td>1954-08-22</td><td>1954</td><td>8</td><td>22</td><td>7</td><td>&quot;Sun&quot;</td><td>0</td><td>&quot;Q3&quot;</td></tr><tr><td>&hellip;</td><td>&hellip;</td><td>&hellip;</td><td>&hellip;</td><td>&hellip;</td><td>&hellip;</td><td>&hellip;</td><td>&hellip;</td></tr><tr><td>2025-07-27</td><td>2025</td><td>7</td><td>27</td><td>7</td><td>&quot;Sun&quot;</td><td>0</td><td>&quot;Q3&quot;</td></tr><tr><td>2025-07-28</td><td>2025</td><td>7</td><td>28</td><td>1</td><td>&quot;Mon&quot;</td><td>0</td><td>&quot;Q3&quot;</td></tr><tr><td>2025-07-29</td><td>2025</td><td>7</td><td>29</td><td>2</td><td>&quot;Tue&quot;</td><td>0</td><td>&quot;Q3&quot;</td></tr><tr><td>2025-07-30</td><td>2025</td><td>7</td><td>30</td><td>3</td><td>&quot;Wed&quot;</td><td>0</td><td>&quot;Q3&quot;</td></tr><tr><td>1900-01-01</td><td>0</td><td>0</td><td>0</td><td>0</td><td>&quot;Unknown&quot;</td><td>0</td><td>&quot;Q0&quot;</td></tr></tbody></table></div>"
      ],
      "text/plain": [
       "shape: (25_916, 8)\n",
       "┌────────────┬──────┬───────┬─────┬─────────┬──────────────┬────────────┬────────────────┐\n",
       "│ date       ┆ year ┆ month ┆ day ┆ weekday ┆ weekday_name ┆ is_weekend ┆ fiscal_quarter │\n",
       "│ ---        ┆ ---  ┆ ---   ┆ --- ┆ ---     ┆ ---          ┆ ---        ┆ ---            │\n",
       "│ date       ┆ i32  ┆ i32   ┆ i32 ┆ i32     ┆ str          ┆ i32        ┆ str            │\n",
       "╞════════════╪══════╪═══════╪═════╪═════════╪══════════════╪════════════╪════════════════╡\n",
       "│ 1954-08-18 ┆ 1954 ┆ 8     ┆ 18  ┆ 3       ┆ Wed          ┆ 0          ┆ Q3             │\n",
       "│ 1954-08-19 ┆ 1954 ┆ 8     ┆ 19  ┆ 4       ┆ Thu          ┆ 0          ┆ Q3             │\n",
       "│ 1954-08-20 ┆ 1954 ┆ 8     ┆ 20  ┆ 5       ┆ Fri          ┆ 1          ┆ Q3             │\n",
       "│ 1954-08-21 ┆ 1954 ┆ 8     ┆ 21  ┆ 6       ┆ Sat          ┆ 1          ┆ Q3             │\n",
       "│ 1954-08-22 ┆ 1954 ┆ 8     ┆ 22  ┆ 7       ┆ Sun          ┆ 0          ┆ Q3             │\n",
       "│ …          ┆ …    ┆ …     ┆ …   ┆ …       ┆ …            ┆ …          ┆ …              │\n",
       "│ 2025-07-27 ┆ 2025 ┆ 7     ┆ 27  ┆ 7       ┆ Sun          ┆ 0          ┆ Q3             │\n",
       "│ 2025-07-28 ┆ 2025 ┆ 7     ┆ 28  ┆ 1       ┆ Mon          ┆ 0          ┆ Q3             │\n",
       "│ 2025-07-29 ┆ 2025 ┆ 7     ┆ 29  ┆ 2       ┆ Tue          ┆ 0          ┆ Q3             │\n",
       "│ 2025-07-30 ┆ 2025 ┆ 7     ┆ 30  ┆ 3       ┆ Wed          ┆ 0          ┆ Q3             │\n",
       "│ 1900-01-01 ┆ 0    ┆ 0     ┆ 0   ┆ 0       ┆ Unknown      ┆ 0          ┆ Q0             │\n",
       "└────────────┴──────┴───────┴─────┴─────────┴──────────────┴────────────┴────────────────┘"
      ]
     },
     "execution_count": 12,
     "metadata": {},
     "output_type": "execute_result"
    }
   ],
   "source": [
    "def load_dim_date(start_date: str = \"1954-08-18\", end_date: str = \"2025-07-30\") -> pl.DataFrame:\n",
    "    # generate date range\n",
    "    start = datetime.strptime(start_date, \"%Y-%m-%d\").date()\n",
    "    end = datetime.strptime(end_date, \"%Y-%m-%d\").date()\n",
    "    \n",
    "    num_days = (end - start).days + 1\n",
    "    date_list = [start + timedelta(days=i) for i in range(num_days)]\n",
    "    \n",
    "    df = pl.DataFrame({\"date\": date_list})\n",
    "    \n",
    "    df = (\n",
    "        df.with_columns([\n",
    "            pl.col(\"date\").dt.year().alias(\"year\"),\n",
    "            pl.col(\"date\").dt.month().alias(\"month\"),\n",
    "            pl.col(\"date\").dt.day().alias(\"day\"),\n",
    "            pl.col(\"date\").dt.weekday().alias(\"weekday\"),   # 0=Mon, 6=Sun\n",
    "            pl.col(\"date\").dt.strftime(\"%a\").alias(\"weekday_name\"),\n",
    "            pl.when(pl.col(\"date\").dt.weekday().is_in([5, 6]))\n",
    "              .then(pl.lit(1)).otherwise(pl.lit(0))\n",
    "              .alias(\"is_weekend\"),\n",
    "            (\"Q\" + pl.col(\"date\").dt.quarter().cast(pl.Utf8)).alias(\"fiscal_quarter\")\n",
    "        ])\n",
    "    )\n",
    "    \n",
    "    # ensure data types\n",
    "    df = df.cast({\n",
    "        \"date\": pl.Date,\n",
    "        \"year\": pl.Int32,\n",
    "        \"month\": pl.Int32,\n",
    "        \"day\": pl.Int32,\n",
    "        \"weekday\": pl.Int32,\n",
    "        \"weekday_name\": pl.Utf8,\n",
    "        \"is_weekend\": pl.Int32,\n",
    "        \"fiscal_quarter\": pl.Utf8,\n",
    "    })\n",
    "    \n",
    "    # add row for 'unknown' date\n",
    "    df_unknown = pl.DataFrame({\n",
    "        \"date\": [date(1900,1,1)],\n",
    "        \"year\": [0],\n",
    "        \"month\": [0],\n",
    "        \"day\": [0],\n",
    "        \"weekday\": [0],\n",
    "        \"weekday_name\": [\"Unknown\"],\n",
    "        \"is_weekend\": [0],\n",
    "        \"fiscal_quarter\": [\"Q0\"]\n",
    "    }).cast(df.schema) \n",
    "    \n",
    "    \n",
    "    df_final = pl.concat([df, df_unknown], how=\"vertical\")\n",
    "    \n",
    "    df_final.write_parquet(gold_parquet / \"gold_dim_date.parquet\")\n",
    "    return df_final\n",
    "\n",
    "load_dim_date(start_date=\"1954-08-18\", end_date=\"2025-07-30\")"
   ]
  },
  {
   "cell_type": "markdown",
   "id": "82fa3b38",
   "metadata": {},
   "source": [
    "### Generate other tables"
   ]
  },
  {
   "cell_type": "code",
   "execution_count": 14,
   "id": "c2b9d658",
   "metadata": {},
   "outputs": [
    {
     "name": "stderr",
     "output_type": "stream",
     "text": [
      "INFO:__main__:WORKING FOR INITIAL TABLE: delivery_estimate\n",
      "INFO:helper_utils:# --- INSIDE MAIN ---\n",
      "INFO:__main__:attr_cols : None\n",
      "INFO:__main__:extra_cols : None\n",
      "INFO:__main__:df_src.columns : ['shipping_type_id', 'shipping_type', 'delivery_estimate', 'load_timestamp']\n",
      "INFO:__main__:df_final.columns : ['delivery_estimate_skey', 'delivery_estimate', 'is_active', 'batch_id', 'load_timestamp']\n",
      "INFO:__main__:Saved delivery_estimate into DB schema gold\n",
      "INFO:__main__:WORKING FOR INITIAL TABLE: shipping_type\n",
      "INFO:helper_utils:# --- INSIDE MAIN ---\n",
      "INFO:__main__:attr_cols : ['delivery_estimate']\n",
      "INFO:__main__:extra_cols : None\n",
      "INFO:__main__:df_src.columns : ['shipping_type_id', 'shipping_type', 'delivery_estimate', 'load_timestamp']\n",
      "INFO:__main__:Looking for parent dim: /home/sapna.choudhary/Data-Engineering-Training/Polars_DWH/parquet_files/gold_layer/gold_dim_delivery_estimate.parquet\n",
      "INFO:__main__:df_final.columns : ['shipping_type_skey', 'shipping_type', 'delivery_estimate_skey', 'is_active', 'batch_id', 'load_timestamp']\n",
      "INFO:__main__:Saved shipping_type into DB schema gold\n"
     ]
    },
    {
     "data": {
      "text/plain": [
       "{'delivery_estimate': shape: (5, 5)\n",
       " ┌────────────────────────┬───────────────────┬───────────┬──────────┬─────────────────────┐\n",
       " │ delivery_estimate_skey ┆ delivery_estimate ┆ is_active ┆ batch_id ┆ load_timestamp      │\n",
       " │ ---                    ┆ ---               ┆ ---       ┆ ---      ┆ ---                 │\n",
       " │ i64                    ┆ str               ┆ i32       ┆ i32      ┆ datetime[μs]        │\n",
       " ╞════════════════════════╪═══════════════════╪═══════════╪══════════╪═════════════════════╡\n",
       " │ 1                      ┆ 1-3 Days          ┆ 1         ┆ 1        ┆ 2025-09-19 16:30:43 │\n",
       " │ 2                      ┆ 3-5 Days          ┆ 1         ┆ 1        ┆ 2025-09-19 16:30:43 │\n",
       " │ 3                      ┆ 1 Day             ┆ 1         ┆ 1        ┆ 2025-09-19 16:30:43 │\n",
       " │ 4                      ┆ 3-7 Days          ┆ 1         ┆ 1        ┆ 2025-09-19 16:30:43 │\n",
       " │ 5                      ┆ Unknown           ┆ 1         ┆ 1        ┆ 2025-09-19 16:30:43 │\n",
       " └────────────────────────┴───────────────────┴───────────┴──────────┴─────────────────────┘,\n",
       " 'shipping_type': shape: (4, 6)\n",
       " ┌──────────────────┬──────────────────┬──────────────────┬───────────┬──────────┬──────────────────┐\n",
       " │ shipping_type_sk ┆ shipping_type    ┆ delivery_estimat ┆ is_active ┆ batch_id ┆ load_timestamp   │\n",
       " │ ey               ┆ ---              ┆ e_skey           ┆ ---       ┆ ---      ┆ ---              │\n",
       " │ ---              ┆ str              ┆ ---              ┆ i32       ┆ i32      ┆ datetime[μs]     │\n",
       " │ i64              ┆                  ┆ i64              ┆           ┆          ┆                  │\n",
       " ╞══════════════════╪══════════════════╪══════════════════╪═══════════╪══════════╪══════════════════╡\n",
       " │ 4                ┆ Normal           ┆ 4                ┆ 1         ┆ 1        ┆ 2025-09-19       │\n",
       " │                  ┆                  ┆                  ┆           ┆          ┆ 16:30:43         │\n",
       " │ 3                ┆ One-Day Delivery ┆ 3                ┆ 1         ┆ 1        ┆ 2025-09-19       │\n",
       " │                  ┆                  ┆                  ┆           ┆          ┆ 16:30:43         │\n",
       " │ 1                ┆ Fast Delivery    ┆ 1                ┆ 1         ┆ 1        ┆ 2025-09-19       │\n",
       " │                  ┆                  ┆                  ┆           ┆          ┆ 16:30:43         │\n",
       " │ 2                ┆ Express          ┆ 2                ┆ 1         ┆ 1        ┆ 2025-09-19       │\n",
       " │                  ┆                  ┆                  ┆           ┆          ┆ 16:30:43         │\n",
       " └──────────────────┴──────────────────┴──────────────────┴───────────┴──────────┴──────────────────┘}"
      ]
     },
     "execution_count": 14,
     "metadata": {},
     "output_type": "execute_result"
    }
   ],
   "source": [
    "build_and_merge_all(config.TABLE_GROUPS)"
   ]
  }
 ],
 "metadata": {
  "kernelspec": {
   "display_name": "Python 3",
   "language": "python",
   "name": "python3"
  },
  "language_info": {
   "codemirror_mode": {
    "name": "ipython",
    "version": 3
   },
   "file_extension": ".py",
   "mimetype": "text/x-python",
   "name": "python",
   "nbconvert_exporter": "python",
   "pygments_lexer": "ipython3",
   "version": "3.10.12"
  }
 },
 "nbformat": 4,
 "nbformat_minor": 5
}
