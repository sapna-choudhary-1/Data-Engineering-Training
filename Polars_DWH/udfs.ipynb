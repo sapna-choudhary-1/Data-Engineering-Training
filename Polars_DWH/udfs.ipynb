{
 "cells": [
  {
   "cell_type": "markdown",
   "id": "0cb863fa",
   "metadata": {},
   "source": [
    "# User-Defined Functions"
   ]
  },
  {
   "cell_type": "code",
   "execution_count": 1,
   "id": "e4bc7cb4",
   "metadata": {},
   "outputs": [],
   "source": [
    "import polars as pl\n",
    "from datetime import datetime\n",
    "import re"
   ]
  },
  {
   "cell_type": "code",
   "execution_count": 2,
   "id": "ea4f4e47",
   "metadata": {},
   "outputs": [],
   "source": [
    "def fnToTitleCase(expr: pl.Expr) -> pl.Expr:\n",
    "    return expr.str.strip_chars().str.split(\" \").arr.eval(\n",
    "        pl.element().str.to_lowercase().str.slice(0,1).str.to_uppercase() + pl.element().str.slice(1)\n",
    "    ).arr.join(\" \")"
   ]
  },
  {
   "cell_type": "code",
   "execution_count": null,
   "id": "e7df6749",
   "metadata": {},
   "outputs": [],
   "source": [
    "def fnRemoveSpecialChars(expr: pl.Expr) -> pl.Expr:\n",
    "    # keep only alphanumeric, space, dash, underscore\n",
    "    return expr.str.replace_all(r\"[^0-9A-Za-z _-]\", \"\")\n"
   ]
  },
  {
   "cell_type": "code",
   "execution_count": null,
   "id": "40f2e169",
   "metadata": {},
   "outputs": [],
   "source": [
    "def fnClean(expr: pl.Expr) -> pl.Expr:\n",
    "    return fnToTitleCase(fnRemoveSpecialChars(expr.str.strip_chars()))\n"
   ]
  },
  {
   "cell_type": "code",
   "execution_count": null,
   "id": "e453b828",
   "metadata": {},
   "outputs": [],
   "source": [
    "def fnTranslation(expr: pl.Expr) -> pl.Expr:\n",
    "    return fnClean(expr).str.replace_all(\"[3]\", \"e\") \\\n",
    "                        .str.replace_all(\"[4]\", \"a\") \\\n",
    "                        .str.replace_all(\"[1]\", \"i\") \\\n",
    "                        .str.replace_all(\"[0]\", \"o\") \\\n",
    "                        .str.replace_all(\"[5]\", \"s\")\n"
   ]
  },
  {
   "cell_type": "code",
   "execution_count": null,
   "id": "7449bbd7",
   "metadata": {},
   "outputs": [],
   "source": [
    "def fnDateToInt(expr: pl.Expr) -> pl.Expr:\n",
    "    return expr.str.strptime(pl.Date, \"%Y-%m-%d\", strict=False) \\\n",
    "               .dt.strftime(\"%d%m%Y\") \\\n",
    "               .cast(pl.Int64)\n"
   ]
  },
  {
   "cell_type": "code",
   "execution_count": null,
   "id": "4fb72996",
   "metadata": {},
   "outputs": [],
   "source": [
    "def fnCleanValidateEmail(expr: pl.Expr) -> pl.Expr:\n",
    "    cleaned = expr.str.replace_all(r\"[^0-9A-Za-z_.@]\", \"\").str.to_lowercase()\n",
    "\n",
    "    # validation steps → Polars lacks complex IF logic, so use regex\n",
    "    return cleaned.filter(\n",
    "        cleaned.str.contains(r\"^[A-Za-z0-9._]+@[A-Za-z0-9.-]+\\.[A-Za-z]{2,}$\")\n",
    "    )\n"
   ]
  },
  {
   "cell_type": "code",
   "execution_count": null,
   "id": "4d355aa6",
   "metadata": {},
   "outputs": [],
   "source": [
    "df = df.with_columns([\n",
    "    fnClean(pl.col(\"customer_name\")).alias(\"customer_name\"),\n",
    "    fnRemoveSpecialChars(pl.col(\"phone\")).alias(\"phone\"),\n",
    "    fnTranslation(pl.col(\"state\")).alias(\"state\"),\n",
    "    fnDateToInt(pl.col(\"signup_date_str\")).alias(\"signup_date_int\"),\n",
    "    fnCleanValidateEmail(pl.col(\"email\")).alias(\"email\")\n",
    "])\n"
   ]
  }
 ],
 "metadata": {
  "kernelspec": {
   "display_name": "Python 3",
   "language": "python",
   "name": "python3"
  },
  "language_info": {
   "codemirror_mode": {
    "name": "ipython",
    "version": 3
   },
   "file_extension": ".py",
   "mimetype": "text/x-python",
   "name": "python",
   "nbconvert_exporter": "python",
   "pygments_lexer": "ipython3",
   "version": "3.10.12"
  }
 },
 "nbformat": 4,
 "nbformat_minor": 5
}
