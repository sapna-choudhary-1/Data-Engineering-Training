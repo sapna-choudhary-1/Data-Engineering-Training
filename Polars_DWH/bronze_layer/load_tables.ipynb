{
 "cells": [
  {
   "cell_type": "markdown",
   "id": "99a24631",
   "metadata": {},
   "source": [
    "# BRONZE LAYER"
   ]
  },
  {
   "cell_type": "markdown",
   "id": "bf5c7721",
   "metadata": {},
   "source": [
    "### Necessary Imports"
   ]
  },
  {
   "cell_type": "code",
   "execution_count": 1,
   "id": "b713b1c3",
   "metadata": {},
   "outputs": [
    {
     "data": {
      "text/plain": [
       "<module 'config' from '/home/sapna.choudhary/Data-Engineering-Training/Polars_DWH/bronze_layer/config.py'>"
      ]
     },
     "execution_count": 1,
     "metadata": {},
     "output_type": "execute_result"
    }
   ],
   "source": [
    "import os\n",
    "import importlib\n",
    "from pathlib import Path\n",
    "from datetime import datetime\n",
    "from dotenv import load_dotenv\n",
    "\n",
    "import urllib\n",
    "import polars as pl\n",
    "from sqlalchemy import create_engine\n",
    "\n",
    "import config\n",
    "\n",
    "load_dotenv(override=True) \n",
    "importlib.reload(config)"
   ]
  },
  {
   "cell_type": "code",
   "execution_count": 2,
   "id": "b0f1a57a",
   "metadata": {},
   "outputs": [],
   "source": [
    "PARQUET_FILES_DIR = Path(os.getenv(\"PARQUET_FILES_DIR\"))\n",
    "\n",
    "bronze_parquet = PARQUET_FILES_DIR/'bronze_layer'\n",
    "bronze_parquet.mkdir(parents=True, exist_ok=True)\n",
    "\n",
    "raw_parquet = PARQUET_FILES_DIR/'raw_layer'\n",
    "raw_parquet.mkdir(parents=True, exist_ok=True)"
   ]
  },
  {
   "cell_type": "markdown",
   "id": "87f3ec3e",
   "metadata": {},
   "source": [
    "### Setup the db-connection"
   ]
  },
  {
   "cell_type": "code",
   "execution_count": 3,
   "id": "1332478a",
   "metadata": {},
   "outputs": [],
   "source": [
    "params = urllib.parse.quote_plus(\n",
    "    \"DRIVER={ODBC Driver 17 for SQL Server};\"\n",
    "    \"SERVER=associatetraining.database.windows.net,1433;\"\n",
    "    \"DATABASE=associatetraining;\"\n",
    "    \"UID=training;\"\n",
    "    \"PWD=dFyUT1#$rKIh26;\"\n",
    ")\n",
    "\n",
    "engine = create_engine(f\"mssql+pyodbc:///?odbc_connect={params}\")"
   ]
  },
  {
   "cell_type": "markdown",
   "id": "436c1b54",
   "metadata": {},
   "source": [
    "### Delete all \"non-hist\" parquet files of the Bronze layer"
   ]
  },
  {
   "cell_type": "code",
   "execution_count": 4,
   "id": "36673ab6",
   "metadata": {},
   "outputs": [
    {
     "name": "stdout",
     "output_type": "stream",
     "text": [
      "Deleting: /home/sapna.choudhary/Data-Engineering-Training/Polars_DWH/parquet_files/bronze_layer/bronze_product.parquet\n",
      "Deleting: /home/sapna.choudhary/Data-Engineering-Training/Polars_DWH/parquet_files/bronze_layer/bronze_shipping_type.parquet\n",
      "Deleting: /home/sapna.choudhary/Data-Engineering-Training/Polars_DWH/parquet_files/bronze_layer/bronze_orders.parquet\n",
      "Deleting: /home/sapna.choudhary/Data-Engineering-Training/Polars_DWH/parquet_files/bronze_layer/bronze_customer.parquet\n"
     ]
    }
   ],
   "source": [
    "for file in bronze_parquet.glob(\"*.parquet\"):\n",
    "    if not file.name.endswith(\"_hist.parquet\"):\n",
    "        print(f\"Deleting: {file}\")\n",
    "        os.remove(file)"
   ]
  },
  {
   "cell_type": "markdown",
   "id": "16aaa3e3",
   "metadata": {},
   "source": [
    "### Load all tables & Save as parquet files"
   ]
  },
  {
   "cell_type": "code",
   "execution_count": 5,
   "id": "58c3c8c8",
   "metadata": {},
   "outputs": [],
   "source": [
    "def load_bronze_tables(bronze_cfg: dict, src_dir: Path, dest_dir: Path, engine, schema_name: str) -> dict[str, pl.DataFrame]:\n",
    "    dfs = {}\n",
    "    for tbl, props in bronze_cfg.items():\n",
    "        src_file = src_dir / props[\"src_file\"]\n",
    "        dest_file = dest_dir / props[\"dest_file\"]\n",
    "\n",
    "        df_raw = pl.read_parquet(src_file)\n",
    "\n",
    "        df_bronze = (\n",
    "            df_raw.select([pl.all().cast(pl.Utf8)])\n",
    "            .with_columns([\n",
    "                pl.lit(datetime.now()).alias(\"load_timestamp\")\n",
    "            ])\n",
    "        )\n",
    "\n",
    "        dfs[tbl] = df_bronze\n",
    "\n",
    "        # Save to parquet (local bronze layer)\n",
    "        df_bronze.write_parquet(dest_file)\n",
    "        print(f\"Created {tbl}: {df_bronze.shape} at {dest_file}\")\n",
    "\n",
    "        # Save to SQL Server (bronze schema in DB)\n",
    "        table_name = f\"{schema_name}.{tbl}\"\n",
    "        df_bronze.write_database(\n",
    "            table_name=table_name,\n",
    "            connection=engine,\n",
    "            if_table_exists=\"replace\",\n",
    "        )\n",
    "        print(f\"Saved {tbl} into DB schema {schema_name}\")\n",
    "\n",
    "    return dfs\n"
   ]
  },
  {
   "cell_type": "code",
   "execution_count": 6,
   "id": "e78f3674",
   "metadata": {},
   "outputs": [
    {
     "name": "stdout",
     "output_type": "stream",
     "text": [
      "Created customer: (500, 16) at /home/sapna.choudhary/Data-Engineering-Training/Polars_DWH/parquet_files/bronze_layer/bronze_customer.parquet\n",
      "Saved customer into DB schema bronze\n",
      "Created shipping_type: (5, 4) at /home/sapna.choudhary/Data-Engineering-Training/Polars_DWH/parquet_files/bronze_layer/bronze_shipping_type.parquet\n",
      "Saved shipping_type into DB schema bronze\n",
      "Created product: (50000, 12) at /home/sapna.choudhary/Data-Engineering-Training/Polars_DWH/parquet_files/bronze_layer/bronze_product.parquet\n",
      "Saved product into DB schema bronze\n",
      "Created orders: (3002, 20) at /home/sapna.choudhary/Data-Engineering-Training/Polars_DWH/parquet_files/bronze_layer/bronze_orders.parquet\n",
      "Saved orders into DB schema bronze\n"
     ]
    }
   ],
   "source": [
    "dfs = load_bronze_tables(config.BRONZE_CONFIG, raw_parquet, bronze_parquet, engine=engine, schema_name='bronze')"
   ]
  },
  {
   "cell_type": "markdown",
   "id": "cc3309d1",
   "metadata": {},
   "source": [
    "### Verify Results"
   ]
  },
  {
   "cell_type": "code",
   "execution_count": null,
   "id": "b1174d4f",
   "metadata": {},
   "outputs": [
    {
     "data": {
      "text/html": [
       "<div><style>\n",
       ".dataframe > thead > tr,\n",
       ".dataframe > tbody > tr {\n",
       "  text-align: right;\n",
       "  white-space: pre-wrap;\n",
       "}\n",
       "</style>\n",
       "<small>shape: (3_002, 20)</small><table border=\"1\" class=\"dataframe\"><thead><tr><th>orders_id</th><th>customer_id</th><th>product_id</th><th>payment_src</th><th>shipping_type</th><th>lead_type</th><th>order_status</th><th>order_date</th><th>shipping_date</th><th>expected_delivery_date</th><th>delivery_date</th><th>return_date</th><th>refund_date</th><th>quantity</th><th>unit_price</th><th>is_gift</th><th>gift_message</th><th>has_coupon</th><th>coupon_code</th><th>load_timestamp</th></tr><tr><td>str</td><td>str</td><td>str</td><td>str</td><td>str</td><td>str</td><td>str</td><td>str</td><td>str</td><td>str</td><td>str</td><td>str</td><td>str</td><td>str</td><td>str</td><td>str</td><td>str</td><td>str</td><td>str</td><td>datetime[μs]</td></tr></thead><tbody><tr><td>&quot;ord_000000001&quot;</td><td>&quot;1306&quot;</td><td>&quot;Prd_00000005&quot;</td><td>&quot;upi&quot;</td><td>&quot;One-Day Delivery&quot;</td><td>&quot;retail&quot;</td><td>&quot;&quot;</td><td>&quot;2024-06-22&quot;</td><td>&quot;2024-06-23&quot;</td><td>&quot;2024-07-01&quot;</td><td>&quot;2024-07-05&quot;</td><td>&quot;&quot;</td><td>&quot;&quot;</td><td>&quot;6&quot;</td><td>&quot;2989.39990234375&quot;</td><td>&quot;0&quot;</td><td>&quot;&quot;</td><td>&quot;0&quot;</td><td>&quot;&quot;</td><td>2025-09-16 23:07:01.447</td></tr><tr><td>&quot;ord_000000001&quot;</td><td>&quot;1306&quot;</td><td>&quot;Prd_00000002&quot;</td><td>&quot;upi&quot;</td><td>&quot;One-Day Delivery&quot;</td><td>&quot;retail&quot;</td><td>&quot;Delivered&quot;</td><td>&quot;2024-06-22&quot;</td><td>&quot;2024-06-23&quot;</td><td>&quot;2024-07-01&quot;</td><td>&quot;2024-07-05&quot;</td><td>&quot;&quot;</td><td>&quot;&quot;</td><td>&quot;6&quot;</td><td>&quot;2989.39990234375&quot;</td><td>&quot;0&quot;</td><td>&quot;&quot;</td><td>&quot;0&quot;</td><td>&quot;&quot;</td><td>2025-09-16 23:07:01.447</td></tr><tr><td>&quot;ord_000000002&quot;</td><td>&quot;1168&quot;</td><td>&quot;Prd_00000003&quot;</td><td>&quot;Credit card&quot;</td><td>&quot;Express&quot;</td><td>&quot;website&quot;</td><td>&quot;Shipped&quot;</td><td>&quot;2024-03-12&quot;</td><td>&quot;2024-03-12&quot;</td><td>&quot;&quot;</td><td>&quot;2024-03-17&quot;</td><td>&quot;&quot;</td><td>&quot;&quot;</td><td>&quot;4&quot;</td><td>&quot;34031.6015625&quot;</td><td>&quot;0&quot;</td><td>&quot;&quot;</td><td>&quot;1&quot;</td><td>&quot;CUPN2674&quot;</td><td>2025-09-16 23:07:01.447</td></tr><tr><td>&quot;ord_000000003&quot;</td><td>&quot;1490&quot;</td><td>&quot;Prd_00000004&quot;</td><td>&quot;Net banking&quot;</td><td>&quot;&quot;</td><td>&quot;retail&quot;</td><td>&quot;Processing&quot;</td><td>&quot;2024-05-17&quot;</td><td>&quot;&quot;</td><td>&quot;2024-05-18&quot;</td><td>&quot;2024-05-29&quot;</td><td>&quot;&quot;</td><td>&quot;&quot;</td><td>&quot;2&quot;</td><td>&quot;55208.54296875&quot;</td><td>&quot;1&quot;</td><td>&quot;Best Wishes!&quot;</td><td>&quot;0&quot;</td><td>&quot;&quot;</td><td>2025-09-16 23:07:01.447</td></tr><tr><td>&quot;ord_000000004&quot;</td><td>&quot;1441&quot;</td><td>&quot;Prd_00000005&quot;</td><td>&quot;Cash!&quot;</td><td>&quot;Express&quot;</td><td>&quot;retail&quot;</td><td>&quot;Processing&quot;</td><td>&quot;2024-03-12&quot;</td><td>&quot;2024-03-19&quot;</td><td>&quot;2024-03-22&quot;</td><td>&quot;2024-03-23&quot;</td><td>&quot;&quot;</td><td>&quot;&quot;</td><td>&quot;10&quot;</td><td>&quot;37024.3984375&quot;</td><td>&quot;1&quot;</td><td>&quot;Happy Birthday!&quot;</td><td>&quot;0&quot;</td><td>&quot;&quot;</td><td>2025-09-16 23:07:01.447</td></tr><tr><td>&hellip;</td><td>&hellip;</td><td>&hellip;</td><td>&hellip;</td><td>&hellip;</td><td>&hellip;</td><td>&hellip;</td><td>&hellip;</td><td>&hellip;</td><td>&hellip;</td><td>&hellip;</td><td>&hellip;</td><td>&hellip;</td><td>&hellip;</td><td>&hellip;</td><td>&hellip;</td><td>&hellip;</td><td>&hellip;</td><td>&hellip;</td><td>&hellip;</td></tr><tr><td>&quot;ord_000002996&quot;</td><td>&quot;1470&quot;</td><td>&quot;prd_3523&quot;</td><td>&quot; Debit Card &quot;</td><td>&quot;One-Day Delivery&quot;</td><td>&quot;website&quot;</td><td>&quot;Returned&quot;</td><td>&quot;2024-05-25&quot;</td><td>&quot;2024-05-25&quot;</td><td>&quot;2024-06-01&quot;</td><td>&quot;2024-06-08&quot;</td><td>&quot;&quot;</td><td>&quot;&quot;</td><td>&quot;9&quot;</td><td>&quot;32450.0&quot;</td><td>&quot;1&quot;</td><td>&quot;Enjoy!&quot;</td><td>&quot;0&quot;</td><td>&quot;&quot;</td><td>2025-09-16 23:07:01.447</td></tr><tr><td>&quot;ord_000002997&quot;</td><td>&quot;1078&quot;</td><td>&quot;prd_9944&quot;</td><td>&quot;upi&quot;</td><td>&quot;Express&quot;</td><td>&quot;website&quot;</td><td>&quot;Processing&quot;</td><td>&quot;2024-04-29&quot;</td><td>&quot;2024-04-29&quot;</td><td>&quot;2024-05-06&quot;</td><td>&quot;2024-05-11&quot;</td><td>&quot;&quot;</td><td>&quot;&quot;</td><td>&quot;9&quot;</td><td>&quot;98695.0546875&quot;</td><td>&quot;0&quot;</td><td>&quot;&quot;</td><td>&quot;1&quot;</td><td>&quot;CUPN5515&quot;</td><td>2025-09-16 23:07:01.447</td></tr><tr><td>&quot;ord_000002998&quot;</td><td>&quot;1335&quot;</td><td>&quot;prd_3620&quot;</td><td>&quot;Cash!&quot;</td><td>&quot;FAST Delivery&quot;</td><td>&quot;mobile app&quot;</td><td>&quot;Returned&quot;</td><td>&quot;2024-05-22&quot;</td><td>&quot;2024-05-25&quot;</td><td>&quot;2024-05-28&quot;</td><td>&quot;2024-06-01&quot;</td><td>&quot;&quot;</td><td>&quot;&quot;</td><td>&quot;9&quot;</td><td>&quot;58800.87109375&quot;</td><td>&quot;0&quot;</td><td>&quot;&quot;</td><td>&quot;1&quot;</td><td>&quot;CUPN8586&quot;</td><td>2025-09-16 23:07:01.447</td></tr><tr><td>&quot;ord_000002999&quot;</td><td>&quot;1075&quot;</td><td>&quot;prd_0450&quot;</td><td>&quot; Debit Card &quot;</td><td>&quot;Normal&quot;</td><td>&quot;website&quot;</td><td>&quot;Shipped&quot;</td><td>&quot;2024-06-17&quot;</td><td>&quot;2024-06-18&quot;</td><td>&quot;2024-06-22&quot;</td><td>&quot;2024-06-29&quot;</td><td>&quot;&quot;</td><td>&quot;&quot;</td><td>&quot;2&quot;</td><td>&quot;59807.12890625&quot;</td><td>&quot;0&quot;</td><td>&quot;&quot;</td><td>&quot;0&quot;</td><td>&quot;&quot;</td><td>2025-09-16 23:07:01.447</td></tr><tr><td>&quot;&quot;</td><td>&quot;1007&quot;</td><td>&quot;prd_6974&quot;</td><td>&quot;CREDIT CARD&quot;</td><td>&quot;Express&quot;</td><td>&quot;mobile app&quot;</td><td>&quot;Cancelled&quot;</td><td>&quot;2024-03-31&quot;</td><td>&quot;2024-04-01&quot;</td><td>&quot;2024-04-10&quot;</td><td>&quot;&quot;</td><td>&quot;&quot;</td><td>&quot;&quot;</td><td>&quot;3&quot;</td><td>&quot;2722.260009765625&quot;</td><td>&quot;1&quot;</td><td>&quot;Enjoy!&quot;</td><td>&quot;1&quot;</td><td>&quot;CUPN2796&quot;</td><td>2025-09-16 23:07:01.447</td></tr></tbody></table></div>"
      ],
      "text/plain": [
       "shape: (3_002, 20)\n",
       "┌───────────┬───────────┬───────────┬───────────┬───┬───────────┬───────────┬───────────┬──────────┐\n",
       "│ orders_id ┆ customer_ ┆ product_i ┆ payment_s ┆ … ┆ gift_mess ┆ has_coupo ┆ coupon_co ┆ load_tim │\n",
       "│ ---       ┆ id        ┆ d         ┆ rc        ┆   ┆ age       ┆ n         ┆ de        ┆ estamp   │\n",
       "│ str       ┆ ---       ┆ ---       ┆ ---       ┆   ┆ ---       ┆ ---       ┆ ---       ┆ ---      │\n",
       "│           ┆ str       ┆ str       ┆ str       ┆   ┆ str       ┆ str       ┆ str       ┆ datetime │\n",
       "│           ┆           ┆           ┆           ┆   ┆           ┆           ┆           ┆ [μs]     │\n",
       "╞═══════════╪═══════════╪═══════════╪═══════════╪═══╪═══════════╪═══════════╪═══════════╪══════════╡\n",
       "│ ord_00000 ┆ 1306      ┆ Prd_00000 ┆ upi       ┆ … ┆           ┆ 0         ┆           ┆ 2025-09- │\n",
       "│ 0001      ┆           ┆ 005       ┆           ┆   ┆           ┆           ┆           ┆ 16 23:07 │\n",
       "│           ┆           ┆           ┆           ┆   ┆           ┆           ┆           ┆ :01.447  │\n",
       "│ ord_00000 ┆ 1306      ┆ Prd_00000 ┆ upi       ┆ … ┆           ┆ 0         ┆           ┆ 2025-09- │\n",
       "│ 0001      ┆           ┆ 002       ┆           ┆   ┆           ┆           ┆           ┆ 16 23:07 │\n",
       "│           ┆           ┆           ┆           ┆   ┆           ┆           ┆           ┆ :01.447  │\n",
       "│ ord_00000 ┆ 1168      ┆ Prd_00000 ┆ Credit    ┆ … ┆           ┆ 1         ┆ CUPN2674  ┆ 2025-09- │\n",
       "│ 0002      ┆           ┆ 003       ┆ card      ┆   ┆           ┆           ┆           ┆ 16 23:07 │\n",
       "│           ┆           ┆           ┆           ┆   ┆           ┆           ┆           ┆ :01.447  │\n",
       "│ ord_00000 ┆ 1490      ┆ Prd_00000 ┆ Net       ┆ … ┆ Best      ┆ 0         ┆           ┆ 2025-09- │\n",
       "│ 0003      ┆           ┆ 004       ┆ banking   ┆   ┆ Wishes!   ┆           ┆           ┆ 16 23:07 │\n",
       "│           ┆           ┆           ┆           ┆   ┆           ┆           ┆           ┆ :01.447  │\n",
       "│ ord_00000 ┆ 1441      ┆ Prd_00000 ┆ Cash!     ┆ … ┆ Happy     ┆ 0         ┆           ┆ 2025-09- │\n",
       "│ 0004      ┆           ┆ 005       ┆           ┆   ┆ Birthday! ┆           ┆           ┆ 16 23:07 │\n",
       "│           ┆           ┆           ┆           ┆   ┆           ┆           ┆           ┆ :01.447  │\n",
       "│ …         ┆ …         ┆ …         ┆ …         ┆ … ┆ …         ┆ …         ┆ …         ┆ …        │\n",
       "│ ord_00000 ┆ 1470      ┆ prd_3523  ┆ Debit     ┆ … ┆ Enjoy!    ┆ 0         ┆           ┆ 2025-09- │\n",
       "│ 2996      ┆           ┆           ┆ Card      ┆   ┆           ┆           ┆           ┆ 16 23:07 │\n",
       "│           ┆           ┆           ┆           ┆   ┆           ┆           ┆           ┆ :01.447  │\n",
       "│ ord_00000 ┆ 1078      ┆ prd_9944  ┆ upi       ┆ … ┆           ┆ 1         ┆ CUPN5515  ┆ 2025-09- │\n",
       "│ 2997      ┆           ┆           ┆           ┆   ┆           ┆           ┆           ┆ 16 23:07 │\n",
       "│           ┆           ┆           ┆           ┆   ┆           ┆           ┆           ┆ :01.447  │\n",
       "│ ord_00000 ┆ 1335      ┆ prd_3620  ┆ Cash!     ┆ … ┆           ┆ 1         ┆ CUPN8586  ┆ 2025-09- │\n",
       "│ 2998      ┆           ┆           ┆           ┆   ┆           ┆           ┆           ┆ 16 23:07 │\n",
       "│           ┆           ┆           ┆           ┆   ┆           ┆           ┆           ┆ :01.447  │\n",
       "│ ord_00000 ┆ 1075      ┆ prd_0450  ┆ Debit     ┆ … ┆           ┆ 0         ┆           ┆ 2025-09- │\n",
       "│ 2999      ┆           ┆           ┆ Card      ┆   ┆           ┆           ┆           ┆ 16 23:07 │\n",
       "│           ┆           ┆           ┆           ┆   ┆           ┆           ┆           ┆ :01.447  │\n",
       "│           ┆ 1007      ┆ prd_6974  ┆ CREDIT    ┆ … ┆ Enjoy!    ┆ 1         ┆ CUPN2796  ┆ 2025-09- │\n",
       "│           ┆           ┆           ┆ CARD      ┆   ┆           ┆           ┆           ┆ 16 23:07 │\n",
       "│           ┆           ┆           ┆           ┆   ┆           ┆           ┆           ┆ :01.447  │\n",
       "└───────────┴───────────┴───────────┴───────────┴───┴───────────┴───────────┴───────────┴──────────┘"
      ]
     },
     "execution_count": 8,
     "metadata": {},
     "output_type": "execute_result"
    }
   ],
   "source": [
    "schema_name='bronze'\n",
    "tbl = 'orders'\n",
    "\n",
    "table_name = f\"{schema_name}.{tbl}\"\n",
    "query = f\"SELECT * FROM {table_name}\"\n",
    "\n",
    "df_bronze = pl.read_database(query, engine)\n",
    "df_bronze"
   ]
  }
 ],
 "metadata": {
  "kernelspec": {
   "display_name": "Python 3",
   "language": "python",
   "name": "python3"
  },
  "language_info": {
   "codemirror_mode": {
    "name": "ipython",
    "version": 3
   },
   "file_extension": ".py",
   "mimetype": "text/x-python",
   "name": "python",
   "nbconvert_exporter": "python",
   "pygments_lexer": "ipython3",
   "version": "3.10.12"
  }
 },
 "nbformat": 4,
 "nbformat_minor": 5
}
