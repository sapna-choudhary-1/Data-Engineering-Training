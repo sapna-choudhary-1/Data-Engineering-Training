{
 "cells": [
  {
   "cell_type": "markdown",
   "id": "99a24631",
   "metadata": {},
   "source": [
    "# BRONZE LAYER"
   ]
  },
  {
   "cell_type": "code",
   "execution_count": 25,
   "id": "b713b1c3",
   "metadata": {},
   "outputs": [],
   "source": [
    "import polars as pl\n",
    "from datetime import datetime"
   ]
  },
  {
   "cell_type": "code",
   "execution_count": 26,
   "id": "a7667134",
   "metadata": {},
   "outputs": [
    {
     "data": {
      "text/plain": [
       "True"
      ]
     },
     "execution_count": 26,
     "metadata": {},
     "output_type": "execute_result"
    }
   ],
   "source": [
    "import os\n",
    "from pathlib import Path\n",
    "from dotenv import load_dotenv\n",
    "\n",
    "load_dotenv(override=True) \n"
   ]
  },
  {
   "cell_type": "code",
   "execution_count": 27,
   "id": "b0f1a57a",
   "metadata": {},
   "outputs": [
    {
     "data": {
      "text/plain": [
       "PosixPath('/home/sapna.choudhary/Data-Engineering-Training')"
      ]
     },
     "execution_count": 27,
     "metadata": {},
     "output_type": "execute_result"
    }
   ],
   "source": [
    "Path(os.getenv(\"HOME_DIR\"))"
   ]
  },
  {
   "cell_type": "code",
   "execution_count": 28,
   "id": "75538cdc",
   "metadata": {},
   "outputs": [
    {
     "name": "stdout",
     "output_type": "stream",
     "text": [
      "/home/sapna.choudhary/Data-Engineering-Training/DataWarehouse/DWH_raw_dataset\n",
      "/home/sapna.choudhary/Data-Engineering-Training/Polars_DWH\n"
     ]
    }
   ],
   "source": [
    "RAW_DATASET = Path(os.getenv(\"RAW_DATASET\"))\n",
    "POLARS_DWH = Path(os.getenv(\"POLARS_DWH\"))\n",
    "print(RAW_DATASET, POLARS_DWH, sep=\"\\n\")"
   ]
  },
  {
   "cell_type": "code",
   "execution_count": 29,
   "id": "ebb78b46",
   "metadata": {},
   "outputs": [],
   "source": [
    "def load_tables(raw_path: str) -> pl.DataFrame:\n",
    "    # df_raw = pl.read_parquet(raw_path)\n",
    "    df_raw = pl.read_csv(raw_path)\n",
    "\n",
    "    df_bronze = (\n",
    "        df_raw.select([\n",
    "            pl.all().cast(pl.Utf8)\n",
    "        ])\n",
    "        .with_columns([\n",
    "            pl.lit(datetime.now()).alias(\"load_timestamp\")\n",
    "        ])\n",
    "    )\n",
    "    return df_bronze\n"
   ]
  },
  {
   "cell_type": "code",
   "execution_count": 30,
   "id": "36a67ec2",
   "metadata": {},
   "outputs": [],
   "source": [
    "# load_tables('/home/sapna.choudhary/Data-Engineering-Training/Polars_DWH/raw_layer/raw_shipping_type.parquet')"
   ]
  },
  {
   "cell_type": "code",
   "execution_count": 31,
   "id": "dc8faefe",
   "metadata": {},
   "outputs": [],
   "source": [
    "df_customer = load_tables(f\"{RAW_DATASET}/dim_customer.csv\")\n",
    "df_order = load_tables(f\"{RAW_DATASET}/dim_order.csv\")\n",
    "df_product = load_tables(f\"{RAW_DATASET}/dim_product.csv\")\n",
    "df_shipping_type = load_tables(f\"{RAW_DATASET}/dim_shipping_type.csv\")"
   ]
  },
  {
   "cell_type": "code",
   "execution_count": 32,
   "id": "5ce0b483",
   "metadata": {},
   "outputs": [
    {
     "name": "stdout",
     "output_type": "stream",
     "text": [
      "(500, 16)\n",
      "(3002, 20)\n",
      "(101004, 12)\n",
      "(5, 4)\n"
     ]
    }
   ],
   "source": [
    "print(df_customer.shape)\n",
    "print(df_order.shape)\n",
    "print(df_product.shape)\n",
    "print(df_shipping_type.shape)"
   ]
  },
  {
   "cell_type": "code",
   "execution_count": 33,
   "id": "ca2066d4",
   "metadata": {},
   "outputs": [
    {
     "data": {
      "text/html": [
       "<div><style>\n",
       ".dataframe > thead > tr,\n",
       ".dataframe > tbody > tr {\n",
       "  text-align: right;\n",
       "  white-space: pre-wrap;\n",
       "}\n",
       "</style>\n",
       "<small>shape: (5, 12)</small><table border=\"1\" class=\"dataframe\"><thead><tr><th>product_id</th><th>product_name</th><th>brand_tier</th><th>brand_name</th><th>brand_country</th><th>main_category</th><th>sub_category</th><th>discount_percent</th><th>actual_price</th><th>rating</th><th>no of ratings</th><th>load_timestamp</th></tr><tr><td>str</td><td>str</td><td>str</td><td>str</td><td>str</td><td>str</td><td>str</td><td>str</td><td>str</td><td>str</td><td>str</td><td>datetime[μs]</td></tr></thead><tbody><tr><td>&quot;prd_00000001&quot;</td><td>&quot;Learn Whether (Sell notice him…</td><td>&quot;economy&quot;</td><td>&quot;HP&quot;</td><td>&quot;china&quot;</td><td>&quot; Beauty &amp; PersonAl Care&nbsp;&nbsp;&quot;</td><td>&quot;Ski*ncaRe&quot;</td><td>&quot;92.8810920192636&quot;</td><td>&quot;144645.8&quot;</td><td>&quot;4.056&quot;</td><td>&quot;7404.0&quot;</td><td>2025-08-29 15:47:51.585389</td></tr><tr><td>&quot;prd_00000002&quot;</td><td>&quot;Arm Month (Minute treatment co…</td><td>&quot;premium&quot;</td><td>&quot;OnePlus&quot;</td><td>&quot;china&quot;</td><td>&quot;ElectrOnicS&quot;</td><td>&quot; MOBIle* PhOnes &quot;</td><td>&quot;75.6214794720656&quot;</td><td>&quot;41593.9925&quot;</td><td>&quot;0.0&quot;</td><td>&quot;6885.0&quot;</td><td>2025-08-29 15:47:51.585389</td></tr><tr><td>&quot;prd_00000003&quot;</td><td>&quot;Only Pick (Mention should list…</td><td>null</td><td>&quot;Adidas&quot;</td><td>null</td><td>&quot;Ente*rtAinment&quot;</td><td>&quot;MUsi*c CDs&quot;</td><td>&quot;42.8300990730879&quot;</td><td>&quot;36078.4253&quot;</td><td>&quot;0.688&quot;</td><td>&quot;4340.0&quot;</td><td>2025-08-29 15:47:51.585389</td></tr><tr><td>&quot;prd_00000004&quot;</td><td>&quot;From Ago (Through age range.)&quot;</td><td>null</td><td>&quot;Canon&quot;</td><td>&quot;Japan&quot;</td><td>&quot;ACcEso*riEs&quot;</td><td>&quot;&nbsp;&nbsp;OxIDi*sed Jewellery&nbsp;&nbsp;&quot;</td><td>&quot;-53.9961014211561&quot;</td><td>&quot;57825.174&quot;</td><td>&quot;1.0&quot;</td><td>null</td><td>2025-08-29 15:47:51.585389</td></tr><tr><td>&quot;prd_00000005&quot;</td><td>&quot;Gas Heart (Thus hard learn.)&quot;</td><td>&quot;Standard&quot;</td><td>&quot;OnePlus&quot;</td><td>&quot;china&quot;</td><td>&quot;footweaR&quot;</td><td>&quot;Women&#x27;s Shoes&quot;</td><td>&quot;-65.4655707932892&quot;</td><td>&quot;42998.885&quot;</td><td>null</td><td>&quot;7165.0&quot;</td><td>2025-08-29 15:47:51.585389</td></tr></tbody></table></div>"
      ],
      "text/plain": [
       "shape: (5, 12)\n",
       "┌────────────┬────────────┬───────────┬───────────┬───┬───────────┬────────┬───────────┬───────────┐\n",
       "│ product_id ┆ product_na ┆ brand_tie ┆ brand_nam ┆ … ┆ actual_pr ┆ rating ┆ no of     ┆ load_time │\n",
       "│ ---        ┆ me         ┆ r         ┆ e         ┆   ┆ ice       ┆ ---    ┆ ratings   ┆ stamp     │\n",
       "│ str        ┆ ---        ┆ ---       ┆ ---       ┆   ┆ ---       ┆ str    ┆ ---       ┆ ---       │\n",
       "│            ┆ str        ┆ str       ┆ str       ┆   ┆ str       ┆        ┆ str       ┆ datetime[ │\n",
       "│            ┆            ┆           ┆           ┆   ┆           ┆        ┆           ┆ μs]       │\n",
       "╞════════════╪════════════╪═══════════╪═══════════╪═══╪═══════════╪════════╪═══════════╪═══════════╡\n",
       "│ prd_000000 ┆ Learn      ┆ economy   ┆ HP        ┆ … ┆ 144645.8  ┆ 4.056  ┆ 7404.0    ┆ 2025-08-2 │\n",
       "│ 01         ┆ Whether    ┆           ┆           ┆   ┆           ┆        ┆           ┆ 9 15:47:5 │\n",
       "│            ┆ (Sell      ┆           ┆           ┆   ┆           ┆        ┆           ┆ 1.585389  │\n",
       "│            ┆ notice     ┆           ┆           ┆   ┆           ┆        ┆           ┆           │\n",
       "│            ┆ him…       ┆           ┆           ┆   ┆           ┆        ┆           ┆           │\n",
       "│ prd_000000 ┆ Arm Month  ┆ premium   ┆ OnePlus   ┆ … ┆ 41593.992 ┆ 0.0    ┆ 6885.0    ┆ 2025-08-2 │\n",
       "│ 02         ┆ (Minute    ┆           ┆           ┆   ┆ 5         ┆        ┆           ┆ 9 15:47:5 │\n",
       "│            ┆ treatment  ┆           ┆           ┆   ┆           ┆        ┆           ┆ 1.585389  │\n",
       "│            ┆ co…        ┆           ┆           ┆   ┆           ┆        ┆           ┆           │\n",
       "│ prd_000000 ┆ Only Pick  ┆ null      ┆ Adidas    ┆ … ┆ 36078.425 ┆ 0.688  ┆ 4340.0    ┆ 2025-08-2 │\n",
       "│ 03         ┆ (Mention   ┆           ┆           ┆   ┆ 3         ┆        ┆           ┆ 9 15:47:5 │\n",
       "│            ┆ should     ┆           ┆           ┆   ┆           ┆        ┆           ┆ 1.585389  │\n",
       "│            ┆ list…      ┆           ┆           ┆   ┆           ┆        ┆           ┆           │\n",
       "│ prd_000000 ┆ From Ago   ┆ null      ┆ Canon     ┆ … ┆ 57825.174 ┆ 1.0    ┆ null      ┆ 2025-08-2 │\n",
       "│ 04         ┆ (Through   ┆           ┆           ┆   ┆           ┆        ┆           ┆ 9 15:47:5 │\n",
       "│            ┆ age        ┆           ┆           ┆   ┆           ┆        ┆           ┆ 1.585389  │\n",
       "│            ┆ range.)    ┆           ┆           ┆   ┆           ┆        ┆           ┆           │\n",
       "│ prd_000000 ┆ Gas Heart  ┆ Standard  ┆ OnePlus   ┆ … ┆ 42998.885 ┆ null   ┆ 7165.0    ┆ 2025-08-2 │\n",
       "│ 05         ┆ (Thus hard ┆           ┆           ┆   ┆           ┆        ┆           ┆ 9 15:47:5 │\n",
       "│            ┆ learn.)    ┆           ┆           ┆   ┆           ┆        ┆           ┆ 1.585389  │\n",
       "└────────────┴────────────┴───────────┴───────────┴───┴───────────┴────────┴───────────┴───────────┘"
      ]
     },
     "execution_count": 33,
     "metadata": {},
     "output_type": "execute_result"
    }
   ],
   "source": [
    "df_product.head()"
   ]
  },
  {
   "cell_type": "code",
   "execution_count": 34,
   "id": "5b521b1b",
   "metadata": {},
   "outputs": [
    {
     "data": {
      "text/plain": [
       "101004"
      ]
     },
     "execution_count": 34,
     "metadata": {},
     "output_type": "execute_result"
    }
   ],
   "source": [
    "df_product.height"
   ]
  },
  {
   "cell_type": "code",
   "execution_count": 35,
   "id": "49525bc9",
   "metadata": {},
   "outputs": [],
   "source": [
    "df_customer.write_parquet(\"bronze_customer.parquet\")\n",
    "df_order.write_parquet(\"bronze_order.parquet\")\n",
    "df_product.write_parquet(\"bronze_product.parquet\")\n",
    "df_shipping_type.write_parquet(\"bronze_shipping_type.parquet\")"
   ]
  },
  {
   "cell_type": "code",
   "execution_count": 36,
   "id": "6801795d",
   "metadata": {},
   "outputs": [
    {
     "data": {
      "text/html": [
       "<div><style>\n",
       ".dataframe > thead > tr,\n",
       ".dataframe > tbody > tr {\n",
       "  text-align: right;\n",
       "  white-space: pre-wrap;\n",
       "}\n",
       "</style>\n",
       "<small>shape: (5, 4)</small><table border=\"1\" class=\"dataframe\"><thead><tr><th>shipping_type_id</th><th>shipping_type</th><th>delivery_estimate</th><th>load_timestamp</th></tr><tr><td>str</td><td>str</td><td>str</td><td>datetime[μs]</td></tr></thead><tbody><tr><td>&quot;ship_0001&quot;</td><td>&quot;Express!&quot;</td><td>&quot;3-5 days&quot;</td><td>2025-08-29 15:47:51.592414</td></tr><tr><td>&quot;ship_0002!&quot;</td><td>&quot; Normal &quot;</td><td>&quot;3-7 days!&quot;</td><td>2025-08-29 15:47:51.592414</td></tr><tr><td>&quot;Ship_0003&quot;</td><td>&quot; One-Day Delivery &quot;</td><td>&quot;1 DAY&quot;</td><td>2025-08-29 15:47:51.592414</td></tr><tr><td>&quot;Ship_0004&quot;</td><td>&quot; One-Day Delivery &quot;</td><td>&quot;1 DAY&quot;</td><td>2025-08-29 15:47:51.592414</td></tr><tr><td>&quot;SHIP_0004&quot;</td><td>&quot; FAST Delivery &quot;</td><td>&quot;1-3 days&quot;</td><td>2025-08-29 15:47:51.592414</td></tr></tbody></table></div>"
      ],
      "text/plain": [
       "shape: (5, 4)\n",
       "┌──────────────────┬────────────────────┬───────────────────┬────────────────────────────┐\n",
       "│ shipping_type_id ┆ shipping_type      ┆ delivery_estimate ┆ load_timestamp             │\n",
       "│ ---              ┆ ---                ┆ ---               ┆ ---                        │\n",
       "│ str              ┆ str                ┆ str               ┆ datetime[μs]               │\n",
       "╞══════════════════╪════════════════════╪═══════════════════╪════════════════════════════╡\n",
       "│ ship_0001        ┆ Express!           ┆ 3-5 days          ┆ 2025-08-29 15:47:51.592414 │\n",
       "│ ship_0002!       ┆  Normal            ┆ 3-7 days!         ┆ 2025-08-29 15:47:51.592414 │\n",
       "│ Ship_0003        ┆  One-Day Delivery  ┆ 1 DAY             ┆ 2025-08-29 15:47:51.592414 │\n",
       "│ Ship_0004        ┆  One-Day Delivery  ┆ 1 DAY             ┆ 2025-08-29 15:47:51.592414 │\n",
       "│ SHIP_0004        ┆  FAST Delivery     ┆ 1-3 days          ┆ 2025-08-29 15:47:51.592414 │\n",
       "└──────────────────┴────────────────────┴───────────────────┴────────────────────────────┘"
      ]
     },
     "execution_count": 36,
     "metadata": {},
     "output_type": "execute_result"
    }
   ],
   "source": [
    "df_shipping_type_parquet = pl.read_parquet(\"bronze_shipping_type.parquet\")\n",
    "df_shipping_type_parquet"
   ]
  }
 ],
 "metadata": {
  "kernelspec": {
   "display_name": "Python 3",
   "language": "python",
   "name": "python3"
  },
  "language_info": {
   "codemirror_mode": {
    "name": "ipython",
    "version": 3
   },
   "file_extension": ".py",
   "mimetype": "text/x-python",
   "name": "python",
   "nbconvert_exporter": "python",
   "pygments_lexer": "ipython3",
   "version": "3.10.12"
  }
 },
 "nbformat": 4,
 "nbformat_minor": 5
}
