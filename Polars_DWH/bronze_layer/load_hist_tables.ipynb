{
 "cells": [
  {
   "cell_type": "markdown",
   "id": "ba2197a7",
   "metadata": {},
   "source": [
    "# BRONZE LAYER:- HIST TABLES"
   ]
  },
  {
   "cell_type": "code",
   "execution_count": 9,
   "id": "74d6690b",
   "metadata": {},
   "outputs": [],
   "source": [
    "import polars as pl\n",
    "from datetime import datetime"
   ]
  },
  {
   "cell_type": "code",
   "execution_count": 10,
   "id": "3bcc05d3",
   "metadata": {},
   "outputs": [],
   "source": [
    "import os\n",
    "from pathlib import Path\n",
    "from dotenv import load_dotenv\n"
   ]
  },
  {
   "cell_type": "code",
   "execution_count": 11,
   "id": "93144a78",
   "metadata": {},
   "outputs": [
    {
     "name": "stdout",
     "output_type": "stream",
     "text": [
      "/home/sapna.choudhary/Data-Engineering-Training/Polars_DWH/bronze_layer\n",
      "/home/sapna.choudhary/Data-Engineering-Training/Polars_DWH/bronze_hist_layer\n"
     ]
    }
   ],
   "source": [
    "load_dotenv(override=True) \n",
    "\n",
    "bronze_dir = Path(os.getenv('POLARS_DWH'))/'bronze_layer'\n",
    "bronze_hist_dir = Path(os.getenv('POLARS_DWH'))/'bronze_hist_layer'\n",
    "bronze_hist_dir.mkdir(parents=True, exist_ok=True)\n",
    "print(bronze_dir, bronze_hist_dir, sep=\"\\n\")"
   ]
  },
  {
   "cell_type": "code",
   "execution_count": 12,
   "id": "24aff3cc",
   "metadata": {},
   "outputs": [],
   "source": [
    "def append_to_hist(bronze_dir: str, bronze_hist_dir: str, table_name: str):\n",
    "    file = bronze_dir / f\"{table_name}.parquet\"\n",
    "    hist_file = bronze_hist_dir / f\"{table_name}_hist.parquet\"\n",
    "    print(hist_file)\n",
    "    \n",
    "    df = pl.read_parquet(file)\n",
    "    # if os.path.exists(hist_file):\n",
    "    if hist_file.exists():\n",
    "        df_hist = pl.read_parquet(hist_file)\n",
    "        df_hist = pl.concat([df_hist, df], how=\"vertical\")\n",
    "        df_hist.write_parquet(hist_file)\n",
    "    else:\n",
    "        df.write_parquet(hist_file)\n"
   ]
  },
  {
   "cell_type": "code",
   "execution_count": 13,
   "id": "65c748b5",
   "metadata": {},
   "outputs": [
    {
     "name": "stdout",
     "output_type": "stream",
     "text": [
      "/home/sapna.choudhary/Data-Engineering-Training/Polars_DWH/bronze_hist_layer/bronze_customer_hist.parquet\n",
      "/home/sapna.choudhary/Data-Engineering-Training/Polars_DWH/bronze_hist_layer/bronze_order_hist.parquet\n",
      "/home/sapna.choudhary/Data-Engineering-Training/Polars_DWH/bronze_hist_layer/bronze_product_hist.parquet\n"
     ]
    },
    {
     "name": "stdout",
     "output_type": "stream",
     "text": [
      "/home/sapna.choudhary/Data-Engineering-Training/Polars_DWH/bronze_hist_layer/bronze_shipping_type_hist.parquet\n"
     ]
    }
   ],
   "source": [
    "# Save bronze data into history\n",
    "tables = ['bronze_customer', 'bronze_order', 'bronze_product', 'bronze_shipping_type']\n",
    "for table_name in tables:\n",
    "    # print(table_name)\n",
    "    append_to_hist(bronze_dir, bronze_hist_dir, table_name)\n"
   ]
  },
  {
   "cell_type": "code",
   "execution_count": 14,
   "id": "68c51825",
   "metadata": {},
   "outputs": [
    {
     "data": {
      "text/plain": [
       "(6004, 20)"
      ]
     },
     "execution_count": 14,
     "metadata": {},
     "output_type": "execute_result"
    }
   ],
   "source": [
    "pl.read_parquet('/home/sapna.choudhary/Data-Engineering-Training/Polars_DWH/bronze_hist_layer/bronze_order_hist.parquet').shape"
   ]
  },
  {
   "cell_type": "code",
   "execution_count": 15,
   "id": "7d5cd52e",
   "metadata": {},
   "outputs": [],
   "source": [
    "# delete each parquet file\n",
    "def cleanup_bronze(bronze_dir: str):\n",
    "    print(bronze_dir)\n",
    "    for f in bronze_dir.glob(\"*.parquet\"):\n",
    "        os.remove(f)  "
   ]
  },
  {
   "cell_type": "code",
   "execution_count": null,
   "id": "46915aa0",
   "metadata": {},
   "outputs": [
    {
     "name": "stdout",
     "output_type": "stream",
     "text": [
      "/home/sapna.choudhary/Data-Engineering-Training/Polars_DWH/bronze_layer\n",
      "/home/sapna.choudhary/Data-Engineering-Training/Polars_DWH/bronze_hist_layer\n"
     ]
    }
   ],
   "source": [
    "# Clean up current bronze parquet layer\n",
    "cleanup_bronze(bronze_dir)\n",
    "\n",
    "# cleanup_bronze(bronze_hist_dir)"
   ]
  }
 ],
 "metadata": {
  "kernelspec": {
   "display_name": "Python 3",
   "language": "python",
   "name": "python3"
  },
  "language_info": {
   "codemirror_mode": {
    "name": "ipython",
    "version": 3
   },
   "file_extension": ".py",
   "mimetype": "text/x-python",
   "name": "python",
   "nbconvert_exporter": "python",
   "pygments_lexer": "ipython3",
   "version": "3.10.12"
  }
 },
 "nbformat": 4,
 "nbformat_minor": 5
}
