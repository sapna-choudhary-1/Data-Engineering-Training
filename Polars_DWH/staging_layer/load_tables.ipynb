{
 "cells": [
  {
   "cell_type": "markdown",
   "id": "99a24631",
   "metadata": {},
   "source": [
    "# STAGING LAYER"
   ]
  },
  {
   "cell_type": "markdown",
   "id": "ce7d53b4",
   "metadata": {},
   "source": [
    "### Necessary Imports"
   ]
  },
  {
   "cell_type": "code",
   "execution_count": 16,
   "id": "b713b1c3",
   "metadata": {},
   "outputs": [
    {
     "data": {
      "text/plain": [
       "<module 'config' from '/home/sapna.choudhary/Data-Engineering-Training/Polars_DWH/staging_layer/config.py'>"
      ]
     },
     "execution_count": 16,
     "metadata": {},
     "output_type": "execute_result"
    }
   ],
   "source": [
    "import os\n",
    "import importlib\n",
    "from pathlib import Path\n",
    "from dotenv import load_dotenv\n",
    "\n",
    "import urllib\n",
    "import polars as pl\n",
    "from sqlalchemy import create_engine\n",
    "\n",
    "import config\n",
    "\n",
    "load_dotenv(override=True) \n",
    "importlib.reload(config)"
   ]
  },
  {
   "cell_type": "code",
   "execution_count": 17,
   "id": "6f63c473",
   "metadata": {},
   "outputs": [],
   "source": [
    "%run ./transformations.ipynb"
   ]
  },
  {
   "cell_type": "code",
   "execution_count": 18,
   "id": "a7667134",
   "metadata": {},
   "outputs": [],
   "source": [
    "PARQUET_FILES_DIR = Path(os.getenv(\"PARQUET_FILES_DIR\"))\n",
    "\n",
    "bronze_parquet = PARQUET_FILES_DIR/'bronze_layer'\n",
    "bronze_parquet.mkdir(parents=True, exist_ok=True)\n",
    "\n",
    "staging_parquet = PARQUET_FILES_DIR/'staging_layer'\n",
    "staging_parquet.mkdir(parents=True, exist_ok=True)"
   ]
  },
  {
   "cell_type": "markdown",
   "id": "df8080bd",
   "metadata": {},
   "source": [
    "### Setup the db-connection"
   ]
  },
  {
   "cell_type": "code",
   "execution_count": 19,
   "id": "f3728a8d",
   "metadata": {},
   "outputs": [],
   "source": [
    "params = urllib.parse.quote_plus(\n",
    "    \"DRIVER={ODBC Driver 17 for SQL Server};\"\n",
    "    \"SERVER=associatetraining.database.windows.net,1433;\"\n",
    "    \"DATABASE=associatetraining;\"\n",
    "    \"UID=training;\"\n",
    "    \"PWD=dFyUT1#$rKIh26;\"\n",
    ")\n",
    "\n",
    "engine = create_engine(f\"mssql+pyodbc:///?odbc_connect={params}\")"
   ]
  },
  {
   "cell_type": "markdown",
   "id": "b8dd7f96",
   "metadata": {},
   "source": [
    "### Delete all \"non-hist\" parquet files of the Staging layer"
   ]
  },
  {
   "cell_type": "code",
   "execution_count": 20,
   "id": "d1dd2ebc",
   "metadata": {},
   "outputs": [
    {
     "name": "stdout",
     "output_type": "stream",
     "text": [
      "Deleting: /home/sapna.choudhary/Data-Engineering-Training/Polars_DWH/parquet_files/staging_layer/staging_orders.parquet\n",
      "Deleting: /home/sapna.choudhary/Data-Engineering-Training/Polars_DWH/parquet_files/staging_layer/staging_product.parquet\n",
      "Deleting: /home/sapna.choudhary/Data-Engineering-Training/Polars_DWH/parquet_files/staging_layer/staging_shipping_type.parquet\n",
      "Deleting: /home/sapna.choudhary/Data-Engineering-Training/Polars_DWH/parquet_files/staging_layer/staging_customer.parquet\n"
     ]
    }
   ],
   "source": [
    "for file in staging_parquet.glob(\"*.parquet\"):\n",
    "    if not file.name.endswith(\"_hist.parquet\"):\n",
    "        print(f\"Deleting: {file}\")\n",
    "        os.remove(file)"
   ]
  },
  {
   "cell_type": "markdown",
   "id": "fbf1356c",
   "metadata": {},
   "source": [
    "### Load all tables & Save as parquet files"
   ]
  },
  {
   "cell_type": "code",
   "execution_count": 21,
   "id": "9e0df34e",
   "metadata": {},
   "outputs": [],
   "source": [
    "def load_staging_tables(staging_cfg: dict, src_dir: Path, dest_dir: Path, engine, schema_name: str) -> dict[str, pl.DataFrame]:\n",
    "    dfs = {}\n",
    "    for tbl, props in staging_cfg.items():\n",
    "        src_file = src_dir / props[\"src_file\"]\n",
    "        dest_file = dest_dir / props[\"dest_file\"]\n",
    "\n",
    "        # get transform function\n",
    "        transform_fn_name = props[\"transform_fn\"]\n",
    "        # transform_fn = getattr(transformations, transform_fn_name, None)\n",
    "        transform_fn = globals().get(transform_fn_name, None)  \n",
    "        if transform_fn is None:\n",
    "            print(f\"Transform function {transform_fn_name} not found, using default passthrough\")\n",
    "            df_staging = pl.read_parquet(src_file)\n",
    "        else:\n",
    "            df_staging = transform_fn(src_file)\n",
    "\n",
    "        dfs[tbl] = df_staging\n",
    "\n",
    "        # Save to parquet (local staging layer)\n",
    "        df_staging.write_parquet(dest_file)\n",
    "        print(f\"Created {tbl}: {df_staging.shape} at {dest_file}\")\n",
    "\n",
    "        # Save to SQL Server (staging schema in DB)\n",
    "        table_name = f\"{schema_name}.{tbl}\"\n",
    "        df_staging.write_database(\n",
    "            table_name=table_name,\n",
    "            connection=engine,\n",
    "            if_table_exists=\"replace\",\n",
    "        )\n",
    "        print(f\"Saved {tbl} into DB schema {schema_name}\")\n",
    "\n",
    "    return dfs\n"
   ]
  },
  {
   "cell_type": "code",
   "execution_count": 22,
   "id": "8fc7e648",
   "metadata": {},
   "outputs": [
    {
     "name": "stdout",
     "output_type": "stream",
     "text": [
      "Created customer: (499, 16) at /home/sapna.choudhary/Data-Engineering-Training/Polars_DWH/parquet_files/staging_layer/staging_customer.parquet\n"
     ]
    },
    {
     "name": "stdout",
     "output_type": "stream",
     "text": [
      "Saved customer into DB schema staging\n",
      "Created shipping_type: (4, 4) at /home/sapna.choudhary/Data-Engineering-Training/Polars_DWH/parquet_files/staging_layer/staging_shipping_type.parquet\n",
      "Saved shipping_type into DB schema staging\n",
      "Created product: (49997, 12) at /home/sapna.choudhary/Data-Engineering-Training/Polars_DWH/parquet_files/staging_layer/staging_product.parquet\n",
      "Saved product into DB schema staging\n",
      "Created orders: (3000, 20) at /home/sapna.choudhary/Data-Engineering-Training/Polars_DWH/parquet_files/staging_layer/staging_orders.parquet\n",
      "Saved orders into DB schema staging\n"
     ]
    }
   ],
   "source": [
    "dfs = load_staging_tables(config.STAGING_CONFIG, bronze_parquet, staging_parquet, engine=engine, schema_name='staging')"
   ]
  },
  {
   "cell_type": "code",
   "execution_count": 23,
   "id": "c8e7843b",
   "metadata": {},
   "outputs": [
    {
     "data": {
      "text/html": [
       "<div><style>\n",
       ".dataframe > thead > tr,\n",
       ".dataframe > tbody > tr {\n",
       "  text-align: right;\n",
       "  white-space: pre-wrap;\n",
       "}\n",
       "</style>\n",
       "<small>shape: (3_000, 20)</small><table border=\"1\" class=\"dataframe\"><thead><tr><th>orders_id</th><th>customer_id</th><th>product_id</th><th>payment_source</th><th>shipping_type</th><th>lead_type</th><th>order_status</th><th>order_date</th><th>shipping_date</th><th>expected_delivery_date</th><th>delivery_date</th><th>return_date</th><th>refund_date</th><th>quantity</th><th>unit_price</th><th>is_gift</th><th>gift_message</th><th>has_coupon</th><th>coupon_code</th><th>load_timestamp</th></tr><tr><td>str</td><td>i64</td><td>str</td><td>str</td><td>str</td><td>str</td><td>str</td><td>datetime[μs]</td><td>datetime[μs]</td><td>datetime[μs]</td><td>datetime[μs]</td><td>datetime[μs]</td><td>datetime[μs]</td><td>i64</td><td>f64</td><td>i64</td><td>str</td><td>i64</td><td>str</td><td>datetime[μs]</td></tr></thead><tbody><tr><td>&quot;Ord_000002467&quot;</td><td>1466</td><td>&quot;Prd_4755&quot;</td><td>&quot;Net Banking&quot;</td><td>&quot;One-Day Delivery&quot;</td><td>&quot;Retail&quot;</td><td>&quot;Processing&quot;</td><td>2024-02-15 00:00:00</td><td>2024-02-22 00:00:00</td><td>2024-02-23 00:00:00</td><td>2024-02-15 00:00:00</td><td>2024-03-02 00:00:00</td><td>null</td><td>2</td><td>39381.300781</td><td>0</td><td>&quot;&quot;</td><td>0</td><td>&quot;&quot;</td><td>2025-09-16 23:18:26.130</td></tr><tr><td>&quot;Ord_000002798&quot;</td><td>1276</td><td>&quot;Prd_2055&quot;</td><td>&quot;Cash&quot;</td><td>&quot;One-Day Delivery&quot;</td><td>&quot;Mobile App&quot;</td><td>&quot;Cancelled&quot;</td><td>2024-03-26 00:00:00</td><td>2024-03-29 00:00:00</td><td>null</td><td>2024-03-31 00:00:00</td><td>null</td><td>null</td><td>5</td><td>97318.0</td><td>1</td><td>&quot; &quot;</td><td>0</td><td>&quot;&quot;</td><td>2025-09-16 23:18:26.130</td></tr><tr><td>&quot;Ord_000000766&quot;</td><td>1354</td><td>&quot;Prd_7139&quot;</td><td>&quot;Net Banking&quot;</td><td>&quot;Normal&quot;</td><td>&quot;Mobile App&quot;</td><td>&quot;Returned&quot;</td><td>2024-01-08 00:00:00</td><td>1900-01-01 00:00:00</td><td>2024-01-08 00:00:00</td><td>2024-01-18 00:00:00</td><td>null</td><td>null</td><td>3</td><td>88883.0</td><td>0</td><td>&quot;&quot;</td><td>1</td><td>&quot;CUPN1761&quot;</td><td>2025-09-16 23:18:26.130</td></tr><tr><td>&quot;Ord_000001246&quot;</td><td>1325</td><td>&quot;Prd_8262&quot;</td><td>&quot;Credit Card&quot;</td><td>&quot;Fast Delivery&quot;</td><td>&quot;Retail&quot;</td><td>&quot;Processing&quot;</td><td>2024-04-16 00:00:00</td><td>2024-04-18 00:00:00</td><td>2024-04-17 00:00:00</td><td>2024-04-27 00:00:00</td><td>null</td><td>null</td><td>2</td><td>40932.921875</td><td>0</td><td>&quot;&quot;</td><td>0</td><td>&quot;&quot;</td><td>2025-09-16 23:18:26.130</td></tr><tr><td>&quot;Ord_000000195&quot;</td><td>1028</td><td>&quot;Prd_7588&quot;</td><td>&quot;Net Banking&quot;</td><td>&quot;Normal&quot;</td><td>&quot;Retail&quot;</td><td>&quot;Processing&quot;</td><td>2024-05-27 00:00:00</td><td>2024-05-30 00:00:00</td><td>2024-05-29 00:00:00</td><td>2024-06-10 00:00:00</td><td>null</td><td>null</td><td>1</td><td>79921.0</td><td>1</td><td>&quot;Happy Birthday!&quot;</td><td>1</td><td>&quot;CUPN5278&quot;</td><td>2025-09-16 23:18:26.130</td></tr><tr><td>&hellip;</td><td>&hellip;</td><td>&hellip;</td><td>&hellip;</td><td>&hellip;</td><td>&hellip;</td><td>&hellip;</td><td>&hellip;</td><td>&hellip;</td><td>&hellip;</td><td>&hellip;</td><td>&hellip;</td><td>&hellip;</td><td>&hellip;</td><td>&hellip;</td><td>&hellip;</td><td>&hellip;</td><td>&hellip;</td><td>&hellip;</td><td>&hellip;</td></tr><tr><td>&quot;Ord_000001434&quot;</td><td>1074</td><td>&quot;Prd_9872&quot;</td><td>&quot;Cash&quot;</td><td>&quot;Fast Delivery&quot;</td><td>&quot;Retail&quot;</td><td>&quot;Cancelled&quot;</td><td>2024-06-12 00:00:00</td><td>1900-01-01 00:00:00</td><td>2024-06-16 00:00:00</td><td>2024-06-20 00:00:00</td><td>null</td><td>null</td><td>3</td><td>42640.910156</td><td>1</td><td>&quot; &quot;</td><td>1</td><td>&quot;CUPN5807&quot;</td><td>2025-09-16 23:18:26.130</td></tr><tr><td>&quot;Ord_000001681&quot;</td><td>1051</td><td>&quot;Prd_6586&quot;</td><td>&quot;Debit Card&quot;</td><td>&quot;Fast Delivery&quot;</td><td>&quot;Website&quot;</td><td>&quot;Delivered&quot;</td><td>2024-02-24 00:00:00</td><td>2024-02-27 00:00:00</td><td>2024-02-29 00:00:00</td><td>2024-02-27 00:00:00</td><td>null</td><td>null</td><td>5</td><td>61213.0</td><td>1</td><td>&quot;Best Wishes!&quot;</td><td>0</td><td>&quot;&quot;</td><td>2025-09-16 23:18:26.130</td></tr><tr><td>&quot;Ord_000001167&quot;</td><td>1358</td><td>&quot;Prd_1650&quot;</td><td>&quot;Paypal&quot;</td><td>&quot;One-Day Delivery&quot;</td><td>&quot;Mobile App&quot;</td><td>&quot;Returned&quot;</td><td>2024-02-18 00:00:00</td><td>2024-02-22 00:00:00</td><td>2024-02-23 00:00:00</td><td>2024-03-01 00:00:00</td><td>null</td><td>null</td><td>1</td><td>22137.0</td><td>0</td><td>&quot;&quot;</td><td>1</td><td>&quot;CUPN1787&quot;</td><td>2025-09-16 23:18:26.130</td></tr><tr><td>&quot;Ord_000002764&quot;</td><td>1002</td><td>&quot;Prd_1515&quot;</td><td>&quot;Cash&quot;</td><td>&quot;Normal&quot;</td><td>&quot;Retail&quot;</td><td>&quot;Delivered&quot;</td><td>2024-06-27 00:00:00</td><td>2024-06-29 00:00:00</td><td>2024-07-06 00:00:00</td><td>2024-07-10 00:00:00</td><td>null</td><td>null</td><td>5</td><td>27194.669922</td><td>0</td><td>&quot;&quot;</td><td>1</td><td>&quot;CUPN2056&quot;</td><td>2025-09-16 23:18:26.130</td></tr><tr><td>&quot;Ord_000000993&quot;</td><td>1444</td><td>&quot;Prd_5884&quot;</td><td>&quot;Cash&quot;</td><td>&quot;Normal&quot;</td><td>&quot;Mobile App&quot;</td><td>&quot;Delivered&quot;</td><td>2024-04-13 00:00:00</td><td>2024-04-20 00:00:00</td><td>2024-04-16 00:00:00</td><td>2024-04-25 00:00:00</td><td>null</td><td>null</td><td>10</td><td>86012.0</td><td>1</td><td>&quot;Happy Birthday!&quot;</td><td>1</td><td>&quot;CUPN9857&quot;</td><td>2025-09-16 23:18:26.130</td></tr></tbody></table></div>"
      ],
      "text/plain": [
       "shape: (3_000, 20)\n",
       "┌───────────┬───────────┬───────────┬───────────┬───┬───────────┬───────────┬───────────┬──────────┐\n",
       "│ orders_id ┆ customer_ ┆ product_i ┆ payment_s ┆ … ┆ gift_mess ┆ has_coupo ┆ coupon_co ┆ load_tim │\n",
       "│ ---       ┆ id        ┆ d         ┆ ource     ┆   ┆ age       ┆ n         ┆ de        ┆ estamp   │\n",
       "│ str       ┆ ---       ┆ ---       ┆ ---       ┆   ┆ ---       ┆ ---       ┆ ---       ┆ ---      │\n",
       "│           ┆ i64       ┆ str       ┆ str       ┆   ┆ str       ┆ i64       ┆ str       ┆ datetime │\n",
       "│           ┆           ┆           ┆           ┆   ┆           ┆           ┆           ┆ [μs]     │\n",
       "╞═══════════╪═══════════╪═══════════╪═══════════╪═══╪═══════════╪═══════════╪═══════════╪══════════╡\n",
       "│ Ord_00000 ┆ 1466      ┆ Prd_4755  ┆ Net       ┆ … ┆           ┆ 0         ┆           ┆ 2025-09- │\n",
       "│ 2467      ┆           ┆           ┆ Banking   ┆   ┆           ┆           ┆           ┆ 16 23:18 │\n",
       "│           ┆           ┆           ┆           ┆   ┆           ┆           ┆           ┆ :26.130  │\n",
       "│ Ord_00000 ┆ 1276      ┆ Prd_2055  ┆ Cash      ┆ … ┆           ┆ 0         ┆           ┆ 2025-09- │\n",
       "│ 2798      ┆           ┆           ┆           ┆   ┆           ┆           ┆           ┆ 16 23:18 │\n",
       "│           ┆           ┆           ┆           ┆   ┆           ┆           ┆           ┆ :26.130  │\n",
       "│ Ord_00000 ┆ 1354      ┆ Prd_7139  ┆ Net       ┆ … ┆           ┆ 1         ┆ CUPN1761  ┆ 2025-09- │\n",
       "│ 0766      ┆           ┆           ┆ Banking   ┆   ┆           ┆           ┆           ┆ 16 23:18 │\n",
       "│           ┆           ┆           ┆           ┆   ┆           ┆           ┆           ┆ :26.130  │\n",
       "│ Ord_00000 ┆ 1325      ┆ Prd_8262  ┆ Credit    ┆ … ┆           ┆ 0         ┆           ┆ 2025-09- │\n",
       "│ 1246      ┆           ┆           ┆ Card      ┆   ┆           ┆           ┆           ┆ 16 23:18 │\n",
       "│           ┆           ┆           ┆           ┆   ┆           ┆           ┆           ┆ :26.130  │\n",
       "│ Ord_00000 ┆ 1028      ┆ Prd_7588  ┆ Net       ┆ … ┆ Happy     ┆ 1         ┆ CUPN5278  ┆ 2025-09- │\n",
       "│ 0195      ┆           ┆           ┆ Banking   ┆   ┆ Birthday! ┆           ┆           ┆ 16 23:18 │\n",
       "│           ┆           ┆           ┆           ┆   ┆           ┆           ┆           ┆ :26.130  │\n",
       "│ …         ┆ …         ┆ …         ┆ …         ┆ … ┆ …         ┆ …         ┆ …         ┆ …        │\n",
       "│ Ord_00000 ┆ 1074      ┆ Prd_9872  ┆ Cash      ┆ … ┆           ┆ 1         ┆ CUPN5807  ┆ 2025-09- │\n",
       "│ 1434      ┆           ┆           ┆           ┆   ┆           ┆           ┆           ┆ 16 23:18 │\n",
       "│           ┆           ┆           ┆           ┆   ┆           ┆           ┆           ┆ :26.130  │\n",
       "│ Ord_00000 ┆ 1051      ┆ Prd_6586  ┆ Debit     ┆ … ┆ Best      ┆ 0         ┆           ┆ 2025-09- │\n",
       "│ 1681      ┆           ┆           ┆ Card      ┆   ┆ Wishes!   ┆           ┆           ┆ 16 23:18 │\n",
       "│           ┆           ┆           ┆           ┆   ┆           ┆           ┆           ┆ :26.130  │\n",
       "│ Ord_00000 ┆ 1358      ┆ Prd_1650  ┆ Paypal    ┆ … ┆           ┆ 1         ┆ CUPN1787  ┆ 2025-09- │\n",
       "│ 1167      ┆           ┆           ┆           ┆   ┆           ┆           ┆           ┆ 16 23:18 │\n",
       "│           ┆           ┆           ┆           ┆   ┆           ┆           ┆           ┆ :26.130  │\n",
       "│ Ord_00000 ┆ 1002      ┆ Prd_1515  ┆ Cash      ┆ … ┆           ┆ 1         ┆ CUPN2056  ┆ 2025-09- │\n",
       "│ 2764      ┆           ┆           ┆           ┆   ┆           ┆           ┆           ┆ 16 23:18 │\n",
       "│           ┆           ┆           ┆           ┆   ┆           ┆           ┆           ┆ :26.130  │\n",
       "│ Ord_00000 ┆ 1444      ┆ Prd_5884  ┆ Cash      ┆ … ┆ Happy     ┆ 1         ┆ CUPN9857  ┆ 2025-09- │\n",
       "│ 0993      ┆           ┆           ┆           ┆   ┆ Birthday! ┆           ┆           ┆ 16 23:18 │\n",
       "│           ┆           ┆           ┆           ┆   ┆           ┆           ┆           ┆ :26.130  │\n",
       "└───────────┴───────────┴───────────┴───────────┴───┴───────────┴───────────┴───────────┴──────────┘"
      ]
     },
     "execution_count": 23,
     "metadata": {},
     "output_type": "execute_result"
    }
   ],
   "source": [
    "schema_name='staging'\n",
    "tbl = 'orders'\n",
    "\n",
    "table_name = f\"{schema_name}.{tbl}\"\n",
    "\n",
    "query = f\"SELECT * FROM {table_name}\"\n",
    "\n",
    "df_staging = pl.read_database(query, engine)\n",
    "df_staging"
   ]
  }
 ],
 "metadata": {
  "kernelspec": {
   "display_name": "Python 3",
   "language": "python",
   "name": "python3"
  },
  "language_info": {
   "codemirror_mode": {
    "name": "ipython",
    "version": 3
   },
   "file_extension": ".py",
   "mimetype": "text/x-python",
   "name": "python",
   "nbconvert_exporter": "python",
   "pygments_lexer": "ipython3",
   "version": "3.10.12"
  }
 },
 "nbformat": 4,
 "nbformat_minor": 5
}
