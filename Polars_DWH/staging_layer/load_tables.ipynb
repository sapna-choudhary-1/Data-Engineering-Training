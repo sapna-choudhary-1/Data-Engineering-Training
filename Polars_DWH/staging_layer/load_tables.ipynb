{
 "cells": [
  {
   "cell_type": "markdown",
   "id": "99a24631",
   "metadata": {},
   "source": [
    "# STAGING LAYER"
   ]
  },
  {
   "cell_type": "markdown",
   "id": "ce7d53b4",
   "metadata": {},
   "source": [
    "### Necessary Imports"
   ]
  },
  {
   "cell_type": "code",
   "execution_count": 7,
   "id": "b713b1c3",
   "metadata": {},
   "outputs": [
    {
     "data": {
      "text/plain": [
       "True"
      ]
     },
     "execution_count": 7,
     "metadata": {},
     "output_type": "execute_result"
    }
   ],
   "source": [
    "import os, sys\n",
    "import logging\n",
    "import importlib\n",
    "from pathlib import Path\n",
    "from dotenv import load_dotenv\n",
    "\n",
    "import polars as pl\n",
    "from sqlalchemy.engine import Engine\n",
    "\n",
    "import config\n",
    "\n",
    "top_level = Path().resolve().parent\n",
    "sys.path.append(str(top_level))\n",
    "from db_utils import engine\n",
    "\n",
    "\n",
    "importlib.reload(config)\n",
    "\n",
    "logging.basicConfig(level=logging.INFO)\n",
    "logger = logging.getLogger(__name__)\n",
    "\n",
    "load_dotenv(override=True)"
   ]
  },
  {
   "cell_type": "code",
   "execution_count": 8,
   "id": "6f63c473",
   "metadata": {},
   "outputs": [],
   "source": [
    "%run ./df_transformations.ipynb"
   ]
  },
  {
   "cell_type": "code",
   "execution_count": 9,
   "id": "a7667134",
   "metadata": {},
   "outputs": [],
   "source": [
    "PARQUET_FILES_DIR = Path(os.getenv(\"PARQUET_FILES_DIR\"))\n",
    "\n",
    "bronze_parquet = PARQUET_FILES_DIR/'bronze_layer'\n",
    "bronze_parquet.mkdir(parents=True, exist_ok=True)\n",
    "\n",
    "staging_parquet = PARQUET_FILES_DIR/'staging_layer'\n",
    "staging_parquet.mkdir(parents=True, exist_ok=True)"
   ]
  },
  {
   "cell_type": "markdown",
   "id": "b8dd7f96",
   "metadata": {},
   "source": [
    "### Delete all \"non-hist\" parquet files of the Staging layer"
   ]
  },
  {
   "cell_type": "code",
   "execution_count": 10,
   "id": "d1dd2ebc",
   "metadata": {},
   "outputs": [],
   "source": [
    "for file in staging_parquet.glob(\"*.parquet\"):\n",
    "    if not file.name.endswith(\"_hist.parquet\"):\n",
    "        logger.info(f\"Deleting: {file}\")\n",
    "        os.remove(file)"
   ]
  },
  {
   "cell_type": "markdown",
   "id": "fbf1356c",
   "metadata": {},
   "source": [
    "### Load all tables & Save as parquet files"
   ]
  },
  {
   "cell_type": "code",
   "execution_count": 11,
   "id": "9e0df34e",
   "metadata": {},
   "outputs": [],
   "source": [
    "def load_staging_tables(\n",
    "    staging_cfg: dict, \n",
    "    src_dir: Path, \n",
    "    dest_dir: Path, \n",
    "    engine: Engine, \n",
    "    schema_name: str\n",
    ") -> dict[str, pl.DataFrame]:\n",
    "    dfs = {}\n",
    "    for tbl, props in staging_cfg.items():\n",
    "        src_file = src_dir / props[\"src_file\"]\n",
    "        dest_file = dest_dir / props[\"dest_file\"]\n",
    "\n",
    "        # get transform function\n",
    "        transform_fn_name = props[\"transform_fn\"]\n",
    "        transform_fn = globals().get(transform_fn_name, None)  \n",
    "        if transform_fn is None:\n",
    "            logger.info(f\"Transform function {transform_fn_name} not found, using default passthrough\")\n",
    "            df_staging = pl.read_parquet(src_file)\n",
    "        else:\n",
    "            df_staging = transform_fn(src_file)\n",
    "\n",
    "        dfs[tbl] = df_staging\n",
    "\n",
    "        # Save to parquet (local staging layer)\n",
    "        df_staging.write_parquet(dest_file)\n",
    "        logger.info(f\"Created {tbl}: {df_staging.shape} at {dest_file}\")\n",
    "\n",
    "        # Save to SQL Server (staging schema in DB)\n",
    "        table_name = f\"{schema_name}.{tbl}\"\n",
    "        df_staging.write_database(\n",
    "            table_name=table_name,\n",
    "            connection=engine,\n",
    "            if_table_exists=\"replace\",\n",
    "        )\n",
    "        logger.info(f\"Saved {tbl} into DB schema {schema_name}\")\n",
    "\n",
    "    return dfs\n"
   ]
  },
  {
   "cell_type": "code",
   "execution_count": 12,
   "id": "8fc7e648",
   "metadata": {},
   "outputs": [
    {
     "name": "stderr",
     "output_type": "stream",
     "text": [
      "INFO:__main__:Created shipping_type: (4, 4) at /home/sapna.choudhary/Data-Engineering-Training/Polars_DWH/parquet_files/staging_layer/staging_shipping_type.parquet\n"
     ]
    },
    {
     "name": "stderr",
     "output_type": "stream",
     "text": [
      "INFO:__main__:Saved shipping_type into DB schema staging\n"
     ]
    }
   ],
   "source": [
    "dfs = load_staging_tables(config.STAGING_CONFIG, bronze_parquet, staging_parquet, engine=engine, schema_name='staging')"
   ]
  },
  {
   "cell_type": "markdown",
   "id": "fd3bbbd2",
   "metadata": {},
   "source": [
    "### Verify Results"
   ]
  },
  {
   "cell_type": "code",
   "execution_count": 13,
   "id": "c8e7843b",
   "metadata": {},
   "outputs": [
    {
     "data": {
      "text/html": [
       "<div><style>\n",
       ".dataframe > thead > tr,\n",
       ".dataframe > tbody > tr {\n",
       "  text-align: right;\n",
       "  white-space: pre-wrap;\n",
       "}\n",
       "</style>\n",
       "<small>shape: (499, 16)</small><table border=\"1\" class=\"dataframe\"><thead><tr><th>customer_id</th><th>signup_date</th><th>gender</th><th>customer_dob</th><th>customer_name</th><th>marital_status</th><th>email</th><th>phone</th><th>customer_type</th><th>account_status</th><th>country</th><th>state</th><th>city</th><th>postal_code</th><th>region</th><th>load_timestamp</th></tr><tr><td>i64</td><td>datetime[μs]</td><td>str</td><td>date</td><td>str</td><td>str</td><td>str</td><td>i64</td><td>str</td><td>str</td><td>str</td><td>str</td><td>str</td><td>str</td><td>str</td><td>datetime[μs]</td></tr></thead><tbody><tr><td>1342</td><td>2024-02-17 00:00:00</td><td>&quot;Female&quot;</td><td>1992-11-04</td><td>&quot;Erin&quot;</td><td>&quot;Unknown&quot;</td><td>null</td><td>672513670</td><td>&quot;Non-prime&quot;</td><td>&quot;Active&quot;</td><td>&quot;Nigeria&quot;</td><td>&quot;Lagos&quot;</td><td>&quot;Ikeja&quot;</td><td>&quot;100001&quot;</td><td>&quot;Africa&quot;</td><td>2025-09-19 16:03:07.637</td></tr><tr><td>1207</td><td>2024-09-08 00:00:00</td><td>&quot;Male&quot;</td><td>null</td><td>&quot;Melissa Kim&quot;</td><td>&quot;Single&quot;</td><td>&quot;melissa.kim@yahoo.com&quot;</td><td>657815616</td><td>&quot;Unknown&quot;</td><td>&quot;Unknown&quot;</td><td>&quot;Japan&quot;</td><td>&quot;Osaka&quot;</td><td>&quot;Kita&quot;</td><td>&quot;5300001&quot;</td><td>&quot;Asia&quot;</td><td>2025-09-19 16:03:07.637</td></tr><tr><td>1146</td><td>2024-08-31 00:00:00</td><td>&quot;Unknown&quot;</td><td>1991-09-21</td><td>&quot;Courtney Baker Singh&quot;</td><td>&quot;Married&quot;</td><td>null</td><td>793828100</td><td>&quot;Unknown&quot;</td><td>&quot;Unknown&quot;</td><td>&quot;Japan&quot;</td><td>&quot;Tokyo&quot;</td><td>&quot;Shinjuku&quot;</td><td>&quot;1600022&quot;</td><td>&quot;Asia&quot;</td><td>2025-09-19 16:03:07.637</td></tr><tr><td>1205</td><td>2025-04-19 00:00:00</td><td>&quot;Male&quot;</td><td>1961-06-11</td><td>&quot;Jermaine Vance&quot;</td><td>&quot;Single&quot;</td><td>null</td><td>537354472</td><td>&quot;Non-prime&quot;</td><td>&quot;Unknown&quot;</td><td>&quot;India&quot;</td><td>&quot;Maharashtra&quot;</td><td>&quot;Mumbai&quot;</td><td>&quot;400001&quot;</td><td>&quot;Asia&quot;</td><td>2025-09-19 16:03:07.637</td></tr><tr><td>1280</td><td>2024-01-07 00:00:00</td><td>&quot;Male&quot;</td><td>1966-06-27</td><td>&quot;Kathryn Myers&quot;</td><td>&quot;Single&quot;</td><td>&quot;kathryn.myers@gmail.com&quot;</td><td>61747720</td><td>&quot;Non-prime&quot;</td><td>&quot;Unknown&quot;</td><td>&quot;Germany&quot;</td><td>&quot;Bavaria&quot;</td><td>&quot;Munich&quot;</td><td>&quot;80331&quot;</td><td>&quot;Europe&quot;</td><td>2025-09-19 16:03:07.637</td></tr><tr><td>&hellip;</td><td>&hellip;</td><td>&hellip;</td><td>&hellip;</td><td>&hellip;</td><td>&hellip;</td><td>&hellip;</td><td>&hellip;</td><td>&hellip;</td><td>&hellip;</td><td>&hellip;</td><td>&hellip;</td><td>&hellip;</td><td>&hellip;</td><td>&hellip;</td><td>&hellip;</td></tr><tr><td>1496</td><td>2025-04-16 00:00:00</td><td>&quot;Female&quot;</td><td>1962-07-22</td><td>&quot;Amber Garca&quot;</td><td>&quot;Single&quot;</td><td>null</td><td>293658369</td><td>&quot;Prime&quot;</td><td>&quot;Inactive&quot;</td><td>&quot;Germany&quot;</td><td>&quot;Bavaria&quot;</td><td>&quot;Munich&quot;</td><td>&quot;80331&quot;</td><td>&quot;Europe&quot;</td><td>2025-09-19 16:03:07.637</td></tr><tr><td>1066</td><td>2025-04-25 00:00:00</td><td>&quot;Unknown&quot;</td><td>1959-01-09</td><td>&quot;Bianca&quot;</td><td>&quot;Single&quot;</td><td>null</td><td>688384532</td><td>&quot;Non-prime&quot;</td><td>&quot;Suspended&quot;</td><td>&quot;Nigeria&quot;</td><td>&quot;Lagos&quot;</td><td>&quot;Ikeja&quot;</td><td>&quot;100001&quot;</td><td>&quot;Africa&quot;</td><td>2025-09-19 16:03:07.637</td></tr><tr><td>1126</td><td>2023-09-03 00:00:00</td><td>&quot;Female&quot;</td><td>null</td><td>&quot;Jennifer Jackson&quot;</td><td>&quot;Married&quot;</td><td>&quot;jennifer.jackson@yahoo.com&quot;</td><td>593386179</td><td>&quot;Prime&quot;</td><td>&quot;Unknown&quot;</td><td>&quot;Nigeria&quot;</td><td>&quot;Lagos&quot;</td><td>&quot;Ikeja&quot;</td><td>&quot;100001&quot;</td><td>&quot;Africa&quot;</td><td>2025-09-19 16:03:07.637</td></tr><tr><td>1414</td><td>2024-05-15 00:00:00</td><td>&quot;Male&quot;</td><td>1963-08-06</td><td>&quot;Cindy&quot;</td><td>&quot;Married&quot;</td><td>&quot;cindy@yahoo.com&quot;</td><td>966172203</td><td>&quot;Non-prime&quot;</td><td>&quot;Suspended&quot;</td><td>&quot;Nigeria&quot;</td><td>&quot;Lagos&quot;</td><td>&quot;Ikeja&quot;</td><td>&quot;100001&quot;</td><td>&quot;Africa&quot;</td><td>2025-09-19 16:03:07.637</td></tr><tr><td>1386</td><td>2025-02-27 00:00:00</td><td>&quot;Male&quot;</td><td>1992-12-31</td><td>&quot;Suzanne Williams&quot;</td><td>&quot;Single&quot;</td><td>null</td><td>555735368</td><td>&quot;Non-prime&quot;</td><td>&quot;Inactive&quot;</td><td>&quot;Japan&quot;</td><td>&quot;Tokyo&quot;</td><td>&quot;Shinjuku&quot;</td><td>&quot;1600022&quot;</td><td>&quot;Asia&quot;</td><td>2025-09-19 16:03:07.637</td></tr></tbody></table></div>"
      ],
      "text/plain": [
       "shape: (499, 16)\n",
       "┌────────────┬────────────┬─────────┬────────────┬───┬──────────┬────────────┬────────┬────────────┐\n",
       "│ customer_i ┆ signup_dat ┆ gender  ┆ customer_d ┆ … ┆ city     ┆ postal_cod ┆ region ┆ load_times │\n",
       "│ d          ┆ e          ┆ ---     ┆ ob         ┆   ┆ ---      ┆ e          ┆ ---    ┆ tamp       │\n",
       "│ ---        ┆ ---        ┆ str     ┆ ---        ┆   ┆ str      ┆ ---        ┆ str    ┆ ---        │\n",
       "│ i64        ┆ datetime[μ ┆         ┆ date       ┆   ┆          ┆ str        ┆        ┆ datetime[μ │\n",
       "│            ┆ s]         ┆         ┆            ┆   ┆          ┆            ┆        ┆ s]         │\n",
       "╞════════════╪════════════╪═════════╪════════════╪═══╪══════════╪════════════╪════════╪════════════╡\n",
       "│ 1342       ┆ 2024-02-17 ┆ Female  ┆ 1992-11-04 ┆ … ┆ Ikeja    ┆ 100001     ┆ Africa ┆ 2025-09-19 │\n",
       "│            ┆ 00:00:00   ┆         ┆            ┆   ┆          ┆            ┆        ┆ 16:03:07.6 │\n",
       "│            ┆            ┆         ┆            ┆   ┆          ┆            ┆        ┆ 37         │\n",
       "│ 1207       ┆ 2024-09-08 ┆ Male    ┆ null       ┆ … ┆ Kita     ┆ 5300001    ┆ Asia   ┆ 2025-09-19 │\n",
       "│            ┆ 00:00:00   ┆         ┆            ┆   ┆          ┆            ┆        ┆ 16:03:07.6 │\n",
       "│            ┆            ┆         ┆            ┆   ┆          ┆            ┆        ┆ 37         │\n",
       "│ 1146       ┆ 2024-08-31 ┆ Unknown ┆ 1991-09-21 ┆ … ┆ Shinjuku ┆ 1600022    ┆ Asia   ┆ 2025-09-19 │\n",
       "│            ┆ 00:00:00   ┆         ┆            ┆   ┆          ┆            ┆        ┆ 16:03:07.6 │\n",
       "│            ┆            ┆         ┆            ┆   ┆          ┆            ┆        ┆ 37         │\n",
       "│ 1205       ┆ 2025-04-19 ┆ Male    ┆ 1961-06-11 ┆ … ┆ Mumbai   ┆ 400001     ┆ Asia   ┆ 2025-09-19 │\n",
       "│            ┆ 00:00:00   ┆         ┆            ┆   ┆          ┆            ┆        ┆ 16:03:07.6 │\n",
       "│            ┆            ┆         ┆            ┆   ┆          ┆            ┆        ┆ 37         │\n",
       "│ 1280       ┆ 2024-01-07 ┆ Male    ┆ 1966-06-27 ┆ … ┆ Munich   ┆ 80331      ┆ Europe ┆ 2025-09-19 │\n",
       "│            ┆ 00:00:00   ┆         ┆            ┆   ┆          ┆            ┆        ┆ 16:03:07.6 │\n",
       "│            ┆            ┆         ┆            ┆   ┆          ┆            ┆        ┆ 37         │\n",
       "│ …          ┆ …          ┆ …       ┆ …          ┆ … ┆ …        ┆ …          ┆ …      ┆ …          │\n",
       "│ 1496       ┆ 2025-04-16 ┆ Female  ┆ 1962-07-22 ┆ … ┆ Munich   ┆ 80331      ┆ Europe ┆ 2025-09-19 │\n",
       "│            ┆ 00:00:00   ┆         ┆            ┆   ┆          ┆            ┆        ┆ 16:03:07.6 │\n",
       "│            ┆            ┆         ┆            ┆   ┆          ┆            ┆        ┆ 37         │\n",
       "│ 1066       ┆ 2025-04-25 ┆ Unknown ┆ 1959-01-09 ┆ … ┆ Ikeja    ┆ 100001     ┆ Africa ┆ 2025-09-19 │\n",
       "│            ┆ 00:00:00   ┆         ┆            ┆   ┆          ┆            ┆        ┆ 16:03:07.6 │\n",
       "│            ┆            ┆         ┆            ┆   ┆          ┆            ┆        ┆ 37         │\n",
       "│ 1126       ┆ 2023-09-03 ┆ Female  ┆ null       ┆ … ┆ Ikeja    ┆ 100001     ┆ Africa ┆ 2025-09-19 │\n",
       "│            ┆ 00:00:00   ┆         ┆            ┆   ┆          ┆            ┆        ┆ 16:03:07.6 │\n",
       "│            ┆            ┆         ┆            ┆   ┆          ┆            ┆        ┆ 37         │\n",
       "│ 1414       ┆ 2024-05-15 ┆ Male    ┆ 1963-08-06 ┆ … ┆ Ikeja    ┆ 100001     ┆ Africa ┆ 2025-09-19 │\n",
       "│            ┆ 00:00:00   ┆         ┆            ┆   ┆          ┆            ┆        ┆ 16:03:07.6 │\n",
       "│            ┆            ┆         ┆            ┆   ┆          ┆            ┆        ┆ 37         │\n",
       "│ 1386       ┆ 2025-02-27 ┆ Male    ┆ 1992-12-31 ┆ … ┆ Shinjuku ┆ 1600022    ┆ Asia   ┆ 2025-09-19 │\n",
       "│            ┆ 00:00:00   ┆         ┆            ┆   ┆          ┆            ┆        ┆ 16:03:07.6 │\n",
       "│            ┆            ┆         ┆            ┆   ┆          ┆            ┆        ┆ 37         │\n",
       "└────────────┴────────────┴─────────┴────────────┴───┴──────────┴────────────┴────────┴────────────┘"
      ]
     },
     "execution_count": 13,
     "metadata": {},
     "output_type": "execute_result"
    }
   ],
   "source": [
    "schema_name='staging'\n",
    "tbl = 'customer'\n",
    "\n",
    "table_name = f\"{schema_name}.{tbl}\"\n",
    "\n",
    "query = f\"SELECT * FROM {table_name}\"\n",
    "\n",
    "df_staging = pl.read_database(query, engine)\n",
    "df_staging"
   ]
  }
 ],
 "metadata": {
  "kernelspec": {
   "display_name": "Python 3",
   "language": "python",
   "name": "python3"
  },
  "language_info": {
   "codemirror_mode": {
    "name": "ipython",
    "version": 3
   },
   "file_extension": ".py",
   "mimetype": "text/x-python",
   "name": "python",
   "nbconvert_exporter": "python",
   "pygments_lexer": "ipython3",
   "version": "3.10.12"
  }
 },
 "nbformat": 4,
 "nbformat_minor": 5
}
