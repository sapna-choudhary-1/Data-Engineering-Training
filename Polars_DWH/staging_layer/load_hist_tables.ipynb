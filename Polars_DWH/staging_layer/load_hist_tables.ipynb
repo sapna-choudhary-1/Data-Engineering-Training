{
 "cells": [
  {
   "cell_type": "markdown",
   "id": "ba2197a7",
   "metadata": {},
   "source": [
    "# STAGING LAYER:- HIST TABLES"
   ]
  },
  {
   "cell_type": "code",
   "execution_count": 5,
   "id": "74d6690b",
   "metadata": {},
   "outputs": [],
   "source": [
    "import polars as pl\n",
    "from datetime import datetime\n",
    "import os\n",
    "from pathlib import Path\n",
    "from dotenv import load_dotenv"
   ]
  },
  {
   "cell_type": "code",
   "execution_count": 6,
   "id": "93144a78",
   "metadata": {},
   "outputs": [
    {
     "name": "stdout",
     "output_type": "stream",
     "text": [
      "/home/sapna.choudhary/Data-Engineering-Training/Polars_DWH/staging_layer\n",
      "/home/sapna.choudhary/Data-Engineering-Training/Polars_DWH/staging_hist_layer\n"
     ]
    }
   ],
   "source": [
    "load_dotenv(override=True) \n",
    "\n",
    "staging_dir = Path(os.getenv('POLARS_DWH'))/'staging_layer'\n",
    "\n",
    "staging_hist_dir = Path(os.getenv('POLARS_DWH'))/'staging_hist_layer'\n",
    "staging_hist_dir.mkdir(parents=True, exist_ok=True)\n",
    "\n",
    "print(staging_dir, staging_hist_dir, sep=\"\\n\")"
   ]
  },
  {
   "cell_type": "code",
   "execution_count": 7,
   "id": "24aff3cc",
   "metadata": {},
   "outputs": [],
   "source": [
    "def append_to_hist(staging_dir: str, staging_hist_dir: str, table_name: str):\n",
    "    file = staging_dir / f\"{table_name}.parquet\"\n",
    "    hist_file = staging_hist_dir / f\"{table_name}_hist.parquet\"\n",
    "    print(hist_file)\n",
    "    \n",
    "    df = pl.read_parquet(file)\n",
    "    # if os.path.exists(hist_file):\n",
    "    if hist_file.exists():\n",
    "        df_hist = pl.read_parquet(hist_file)\n",
    "        df_hist = pl.concat([df_hist, df], how=\"vertical\")\n",
    "        df_hist.write_parquet(hist_file)\n",
    "    else:\n",
    "        df.write_parquet(hist_file)\n"
   ]
  },
  {
   "cell_type": "code",
   "execution_count": 8,
   "id": "65c748b5",
   "metadata": {},
   "outputs": [
    {
     "name": "stdout",
     "output_type": "stream",
     "text": [
      "/home/sapna.choudhary/Data-Engineering-Training/Polars_DWH/staging_hist_layer/staging_customer_hist.parquet\n",
      "/home/sapna.choudhary/Data-Engineering-Training/Polars_DWH/staging_hist_layer/staging_order_hist.parquet\n",
      "/home/sapna.choudhary/Data-Engineering-Training/Polars_DWH/staging_hist_layer/staging_product_hist.parquet\n",
      "/home/sapna.choudhary/Data-Engineering-Training/Polars_DWH/staging_hist_layer/staging_shipping_type_hist.parquet\n"
     ]
    }
   ],
   "source": [
    "# Save staging data into history\n",
    "tables = ['staging_customer', 'staging_order', 'staging_product', 'staging_shipping_type']\n",
    "for table_name in tables:\n",
    "    # print(table_name)\n",
    "    append_to_hist(staging_dir, staging_hist_dir, table_name)\n"
   ]
  },
  {
   "cell_type": "code",
   "execution_count": 12,
   "id": "68c51825",
   "metadata": {},
   "outputs": [
    {
     "data": {
      "text/html": [
       "<div><style>\n",
       ".dataframe > thead > tr,\n",
       ".dataframe > tbody > tr {\n",
       "  text-align: right;\n",
       "  white-space: pre-wrap;\n",
       "}\n",
       "</style>\n",
       "<small>shape: (2_999, 20)</small><table border=\"1\" class=\"dataframe\"><thead><tr><th>order_id</th><th>customer_id</th><th>product_id</th><th>payment_source</th><th>shipping_type</th><th>lead_type</th><th>order_status</th><th>order_date</th><th>shipping_date</th><th>expected_delivery_date</th><th>delivery_date</th><th>return_date</th><th>refund_date</th><th>quantity</th><th>unit_price</th><th>is_gift</th><th>gift_message</th><th>has_coupon</th><th>coupon_code</th><th>load_timestamp</th></tr><tr><td>str</td><td>i64</td><td>str</td><td>str</td><td>str</td><td>str</td><td>str</td><td>datetime[μs]</td><td>datetime[μs]</td><td>datetime[μs]</td><td>datetime[μs]</td><td>datetime[μs]</td><td>datetime[μs]</td><td>i64</td><td>f64</td><td>i32</td><td>str</td><td>i32</td><td>str</td><td>datetime[μs]</td></tr></thead><tbody><tr><td>&quot; Ord_000000342&quot;</td><td>1420</td><td>&quot;Prd_4549&quot;</td><td>&quot;Credit Card&quot;</td><td>&quot;Express&quot;</td><td>&quot;Retail&quot;</td><td>&quot;Cancelled&quot;</td><td>2024-04-18 00:00:00</td><td>2024-04-18 00:00:00</td><td>2024-04-27 00:00:00</td><td>2024-05-03 00:00:00</td><td>null</td><td>null</td><td>6</td><td>71215.88</td><td>1</td><td>&quot;Enjoy!&quot;</td><td>0</td><td>&quot;&quot;</td><td>2025-09-01 12:58:58.574094</td></tr><tr><td>&quot;Ord_000000001&quot;</td><td>1306</td><td>&quot;Prd_3765&quot;</td><td>&quot;Upi&quot;</td><td>&quot;One-Day Delivery&quot;</td><td>&quot;Retail&quot;</td><td>&quot;Unknown&quot;</td><td>2024-06-22 00:00:00</td><td>2024-06-23 00:00:00</td><td>2024-07-01 00:00:00</td><td>2024-07-05 00:00:00</td><td>null</td><td>null</td><td>6</td><td>2989.4</td><td>0</td><td>&quot;&quot;</td><td>0</td><td>&quot;&quot;</td><td>2025-09-01 12:58:58.574094</td></tr><tr><td>&quot;Ord_000000002&quot;</td><td>1168</td><td>&quot;Prd_3314&quot;</td><td>&quot;Credit Card&quot;</td><td>&quot;Express&quot;</td><td>&quot;Website&quot;</td><td>&quot;Shipped&quot;</td><td>2024-03-12 00:00:00</td><td>2024-03-12 00:00:00</td><td>null</td><td>2024-03-17 00:00:00</td><td>null</td><td>null</td><td>4</td><td>34031.6</td><td>0</td><td>&quot;&quot;</td><td>1</td><td>&quot;CUPN2674&quot;</td><td>2025-09-01 12:58:58.574094</td></tr><tr><td>&quot;Ord_000000003&quot;</td><td>1490</td><td>&quot;Prd_5928&quot;</td><td>&quot;Net Banking&quot;</td><td>&quot;Unknown&quot;</td><td>&quot;Retail&quot;</td><td>&quot;Processing&quot;</td><td>2024-05-17 00:00:00</td><td>1900-01-01 00:00:00</td><td>2024-05-18 00:00:00</td><td>2024-05-29 00:00:00</td><td>null</td><td>null</td><td>2</td><td>55208.5427</td><td>1</td><td>&quot;Best Wishes!&quot;</td><td>0</td><td>&quot;&quot;</td><td>2025-09-01 12:58:58.574094</td></tr><tr><td>&quot;Ord_000000004&quot;</td><td>1441</td><td>&quot;Prd_3115&quot;</td><td>&quot;Cash&quot;</td><td>&quot;Express&quot;</td><td>&quot;Retail&quot;</td><td>&quot;Processing&quot;</td><td>2024-03-12 00:00:00</td><td>2024-03-19 00:00:00</td><td>2024-03-22 00:00:00</td><td>2024-03-23 00:00:00</td><td>null</td><td>null</td><td>10</td><td>37024.4</td><td>1</td><td>&quot;Happy Birthday!&quot;</td><td>0</td><td>&quot;&quot;</td><td>2025-09-01 12:58:58.574094</td></tr><tr><td>&hellip;</td><td>&hellip;</td><td>&hellip;</td><td>&hellip;</td><td>&hellip;</td><td>&hellip;</td><td>&hellip;</td><td>&hellip;</td><td>&hellip;</td><td>&hellip;</td><td>&hellip;</td><td>&hellip;</td><td>&hellip;</td><td>&hellip;</td><td>&hellip;</td><td>&hellip;</td><td>&hellip;</td><td>&hellip;</td><td>&hellip;</td><td>&hellip;</td></tr><tr><td>&quot;Ord_000002995&quot;</td><td>1360</td><td>&quot;Prd_9896&quot;</td><td>&quot;Cash&quot;</td><td>&quot;Normal&quot;</td><td>&quot;Mobile App&quot;</td><td>&quot;Cancelled&quot;</td><td>2024-03-08 00:00:00</td><td>2024-03-12 00:00:00</td><td>2024-03-13 00:00:00</td><td>2024-03-16 00:00:00</td><td>null</td><td>null</td><td>6</td><td>8910.31</td><td>0</td><td>&quot;&quot;</td><td>0</td><td>&quot;&quot;</td><td>2025-09-01 12:58:58.574094</td></tr><tr><td>&quot;Ord_000002996&quot;</td><td>1470</td><td>&quot;Prd_3523&quot;</td><td>&quot;Debit Card&quot;</td><td>&quot;One-Day Delivery&quot;</td><td>&quot;Website&quot;</td><td>&quot;Returned&quot;</td><td>2024-05-25 00:00:00</td><td>2024-05-25 00:00:00</td><td>2024-06-01 00:00:00</td><td>2024-06-08 00:00:00</td><td>null</td><td>null</td><td>9</td><td>32450.0</td><td>1</td><td>&quot;Enjoy!&quot;</td><td>0</td><td>&quot;&quot;</td><td>2025-09-01 12:58:58.574094</td></tr><tr><td>&quot;Ord_000002997&quot;</td><td>1078</td><td>&quot;Prd_9944&quot;</td><td>&quot;Upi&quot;</td><td>&quot;Express&quot;</td><td>&quot;Website&quot;</td><td>&quot;Processing&quot;</td><td>2024-04-29 00:00:00</td><td>2024-04-29 00:00:00</td><td>2024-05-06 00:00:00</td><td>2024-05-11 00:00:00</td><td>null</td><td>null</td><td>9</td><td>98695.052</td><td>0</td><td>&quot;&quot;</td><td>1</td><td>&quot;CUPN5515&quot;</td><td>2025-09-01 12:58:58.574094</td></tr><tr><td>&quot;Ord_000002998&quot;</td><td>1335</td><td>&quot;Prd_3620&quot;</td><td>&quot;Cash&quot;</td><td>&quot;Fast Delivery&quot;</td><td>&quot;Mobile App&quot;</td><td>&quot;Returned&quot;</td><td>2024-05-22 00:00:00</td><td>2024-05-25 00:00:00</td><td>2024-05-28 00:00:00</td><td>2024-06-01 00:00:00</td><td>null</td><td>null</td><td>9</td><td>58800.87</td><td>0</td><td>&quot;&quot;</td><td>1</td><td>&quot;CUPN8586&quot;</td><td>2025-09-01 12:58:58.574094</td></tr><tr><td>&quot;Ord_000002999&quot;</td><td>1075</td><td>&quot;Prd_0450&quot;</td><td>&quot;Debit Card&quot;</td><td>&quot;Normal&quot;</td><td>&quot;Website&quot;</td><td>&quot;Shipped&quot;</td><td>2024-06-17 00:00:00</td><td>2024-06-18 00:00:00</td><td>2024-06-22 00:00:00</td><td>2024-06-29 00:00:00</td><td>null</td><td>null</td><td>2</td><td>59807.129</td><td>0</td><td>&quot;&quot;</td><td>0</td><td>&quot;&quot;</td><td>2025-09-01 12:58:58.574094</td></tr></tbody></table></div>"
      ],
      "text/plain": [
       "shape: (2_999, 20)\n",
       "┌───────────┬───────────┬───────────┬───────────┬───┬───────────┬───────────┬───────────┬──────────┐\n",
       "│ order_id  ┆ customer_ ┆ product_i ┆ payment_s ┆ … ┆ gift_mess ┆ has_coupo ┆ coupon_co ┆ load_tim │\n",
       "│ ---       ┆ id        ┆ d         ┆ ource     ┆   ┆ age       ┆ n         ┆ de        ┆ estamp   │\n",
       "│ str       ┆ ---       ┆ ---       ┆ ---       ┆   ┆ ---       ┆ ---       ┆ ---       ┆ ---      │\n",
       "│           ┆ i64       ┆ str       ┆ str       ┆   ┆ str       ┆ i32       ┆ str       ┆ datetime │\n",
       "│           ┆           ┆           ┆           ┆   ┆           ┆           ┆           ┆ [μs]     │\n",
       "╞═══════════╪═══════════╪═══════════╪═══════════╪═══╪═══════════╪═══════════╪═══════════╪══════════╡\n",
       "│ Ord_00000 ┆ 1420      ┆ Prd_4549  ┆ Credit    ┆ … ┆ Enjoy!    ┆ 0         ┆           ┆ 2025-09- │\n",
       "│ 0342      ┆           ┆           ┆ Card      ┆   ┆           ┆           ┆           ┆ 01 12:58 │\n",
       "│           ┆           ┆           ┆           ┆   ┆           ┆           ┆           ┆ :58.5740 │\n",
       "│           ┆           ┆           ┆           ┆   ┆           ┆           ┆           ┆ 94       │\n",
       "│ Ord_00000 ┆ 1306      ┆ Prd_3765  ┆ Upi       ┆ … ┆           ┆ 0         ┆           ┆ 2025-09- │\n",
       "│ 0001      ┆           ┆           ┆           ┆   ┆           ┆           ┆           ┆ 01 12:58 │\n",
       "│           ┆           ┆           ┆           ┆   ┆           ┆           ┆           ┆ :58.5740 │\n",
       "│           ┆           ┆           ┆           ┆   ┆           ┆           ┆           ┆ 94       │\n",
       "│ Ord_00000 ┆ 1168      ┆ Prd_3314  ┆ Credit    ┆ … ┆           ┆ 1         ┆ CUPN2674  ┆ 2025-09- │\n",
       "│ 0002      ┆           ┆           ┆ Card      ┆   ┆           ┆           ┆           ┆ 01 12:58 │\n",
       "│           ┆           ┆           ┆           ┆   ┆           ┆           ┆           ┆ :58.5740 │\n",
       "│           ┆           ┆           ┆           ┆   ┆           ┆           ┆           ┆ 94       │\n",
       "│ Ord_00000 ┆ 1490      ┆ Prd_5928  ┆ Net       ┆ … ┆ Best      ┆ 0         ┆           ┆ 2025-09- │\n",
       "│ 0003      ┆           ┆           ┆ Banking   ┆   ┆ Wishes!   ┆           ┆           ┆ 01 12:58 │\n",
       "│           ┆           ┆           ┆           ┆   ┆           ┆           ┆           ┆ :58.5740 │\n",
       "│           ┆           ┆           ┆           ┆   ┆           ┆           ┆           ┆ 94       │\n",
       "│ Ord_00000 ┆ 1441      ┆ Prd_3115  ┆ Cash      ┆ … ┆ Happy     ┆ 0         ┆           ┆ 2025-09- │\n",
       "│ 0004      ┆           ┆           ┆           ┆   ┆ Birthday! ┆           ┆           ┆ 01 12:58 │\n",
       "│           ┆           ┆           ┆           ┆   ┆           ┆           ┆           ┆ :58.5740 │\n",
       "│           ┆           ┆           ┆           ┆   ┆           ┆           ┆           ┆ 94       │\n",
       "│ …         ┆ …         ┆ …         ┆ …         ┆ … ┆ …         ┆ …         ┆ …         ┆ …        │\n",
       "│ Ord_00000 ┆ 1360      ┆ Prd_9896  ┆ Cash      ┆ … ┆           ┆ 0         ┆           ┆ 2025-09- │\n",
       "│ 2995      ┆           ┆           ┆           ┆   ┆           ┆           ┆           ┆ 01 12:58 │\n",
       "│           ┆           ┆           ┆           ┆   ┆           ┆           ┆           ┆ :58.5740 │\n",
       "│           ┆           ┆           ┆           ┆   ┆           ┆           ┆           ┆ 94       │\n",
       "│ Ord_00000 ┆ 1470      ┆ Prd_3523  ┆ Debit     ┆ … ┆ Enjoy!    ┆ 0         ┆           ┆ 2025-09- │\n",
       "│ 2996      ┆           ┆           ┆ Card      ┆   ┆           ┆           ┆           ┆ 01 12:58 │\n",
       "│           ┆           ┆           ┆           ┆   ┆           ┆           ┆           ┆ :58.5740 │\n",
       "│           ┆           ┆           ┆           ┆   ┆           ┆           ┆           ┆ 94       │\n",
       "│ Ord_00000 ┆ 1078      ┆ Prd_9944  ┆ Upi       ┆ … ┆           ┆ 1         ┆ CUPN5515  ┆ 2025-09- │\n",
       "│ 2997      ┆           ┆           ┆           ┆   ┆           ┆           ┆           ┆ 01 12:58 │\n",
       "│           ┆           ┆           ┆           ┆   ┆           ┆           ┆           ┆ :58.5740 │\n",
       "│           ┆           ┆           ┆           ┆   ┆           ┆           ┆           ┆ 94       │\n",
       "│ Ord_00000 ┆ 1335      ┆ Prd_3620  ┆ Cash      ┆ … ┆           ┆ 1         ┆ CUPN8586  ┆ 2025-09- │\n",
       "│ 2998      ┆           ┆           ┆           ┆   ┆           ┆           ┆           ┆ 01 12:58 │\n",
       "│           ┆           ┆           ┆           ┆   ┆           ┆           ┆           ┆ :58.5740 │\n",
       "│           ┆           ┆           ┆           ┆   ┆           ┆           ┆           ┆ 94       │\n",
       "│ Ord_00000 ┆ 1075      ┆ Prd_0450  ┆ Debit     ┆ … ┆           ┆ 0         ┆           ┆ 2025-09- │\n",
       "│ 2999      ┆           ┆           ┆ Card      ┆   ┆           ┆           ┆           ┆ 01 12:58 │\n",
       "│           ┆           ┆           ┆           ┆   ┆           ┆           ┆           ┆ :58.5740 │\n",
       "│           ┆           ┆           ┆           ┆   ┆           ┆           ┆           ┆ 94       │\n",
       "└───────────┴───────────┴───────────┴───────────┴───┴───────────┴───────────┴───────────┴──────────┘"
      ]
     },
     "execution_count": 12,
     "metadata": {},
     "output_type": "execute_result"
    }
   ],
   "source": [
    "pl.read_parquet('/home/sapna.choudhary/Data-Engineering-Training/Polars_DWH/staging_hist_layer/staging_order_hist.parquet')"
   ]
  },
  {
   "cell_type": "code",
   "execution_count": 10,
   "id": "7d5cd52e",
   "metadata": {},
   "outputs": [],
   "source": [
    "# delete each parquet file\n",
    "def cleanup_staging(staging_dir: str):\n",
    "    print(staging_dir)\n",
    "    for f in staging_dir.glob(\"*.parquet\"):\n",
    "        os.remove(f)  "
   ]
  },
  {
   "cell_type": "code",
   "execution_count": 11,
   "id": "46915aa0",
   "metadata": {},
   "outputs": [
    {
     "name": "stdout",
     "output_type": "stream",
     "text": [
      "/home/sapna.choudhary/Data-Engineering-Training/Polars_DWH/staging_layer\n"
     ]
    }
   ],
   "source": [
    "# Clean up current staging parquet layer\n",
    "cleanup_staging(staging_dir)\n",
    "\n",
    "# cleanup_staging(staging_hist_dir)"
   ]
  }
 ],
 "metadata": {
  "kernelspec": {
   "display_name": "Python 3",
   "language": "python",
   "name": "python3"
  },
  "language_info": {
   "codemirror_mode": {
    "name": "ipython",
    "version": 3
   },
   "file_extension": ".py",
   "mimetype": "text/x-python",
   "name": "python",
   "nbconvert_exporter": "python",
   "pygments_lexer": "ipython3",
   "version": "3.10.12"
  }
 },
 "nbformat": 4,
 "nbformat_minor": 5
}
