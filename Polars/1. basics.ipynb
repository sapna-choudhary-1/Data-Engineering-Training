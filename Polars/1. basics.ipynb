{
 "cells": [
  {
   "cell_type": "code",
   "execution_count": 3,
   "id": "56f078b2",
   "metadata": {},
   "outputs": [],
   "source": [
    "import pandas as pd\n",
    "import polars as pl"
   ]
  },
  {
   "cell_type": "code",
   "execution_count": 4,
   "id": "6dd4f064",
   "metadata": {},
   "outputs": [
    {
     "data": {
      "text/html": [
       "<div>\n",
       "<style scoped>\n",
       "    .dataframe tbody tr th:only-of-type {\n",
       "        vertical-align: middle;\n",
       "    }\n",
       "\n",
       "    .dataframe tbody tr th {\n",
       "        vertical-align: top;\n",
       "    }\n",
       "\n",
       "    .dataframe thead th {\n",
       "        text-align: right;\n",
       "    }\n",
       "</style>\n",
       "<table border=\"1\" class=\"dataframe\">\n",
       "  <thead>\n",
       "    <tr style=\"text-align: right;\">\n",
       "      <th></th>\n",
       "      <th>id</th>\n",
       "      <th>name</th>\n",
       "      <th>age</th>\n",
       "      <th>salary</th>\n",
       "      <th>dept</th>\n",
       "    </tr>\n",
       "  </thead>\n",
       "  <tbody>\n",
       "    <tr>\n",
       "      <th>0</th>\n",
       "      <td>1</td>\n",
       "      <td>Alice</td>\n",
       "      <td>25</td>\n",
       "      <td>50000</td>\n",
       "      <td>HR</td>\n",
       "    </tr>\n",
       "    <tr>\n",
       "      <th>1</th>\n",
       "      <td>2</td>\n",
       "      <td>Bob</td>\n",
       "      <td>30</td>\n",
       "      <td>60000</td>\n",
       "      <td>IT</td>\n",
       "    </tr>\n",
       "    <tr>\n",
       "      <th>2</th>\n",
       "      <td>3</td>\n",
       "      <td>Charlie</td>\n",
       "      <td>35</td>\n",
       "      <td>55000</td>\n",
       "      <td>IT</td>\n",
       "    </tr>\n",
       "    <tr>\n",
       "      <th>3</th>\n",
       "      <td>4</td>\n",
       "      <td>David</td>\n",
       "      <td>40</td>\n",
       "      <td>70000</td>\n",
       "      <td>Finance</td>\n",
       "    </tr>\n",
       "    <tr>\n",
       "      <th>4</th>\n",
       "      <td>5</td>\n",
       "      <td>Eve</td>\n",
       "      <td>28</td>\n",
       "      <td>65000</td>\n",
       "      <td>HR</td>\n",
       "    </tr>\n",
       "  </tbody>\n",
       "</table>\n",
       "</div>"
      ],
      "text/plain": [
       "   id     name  age  salary     dept\n",
       "0   1    Alice   25   50000       HR\n",
       "1   2      Bob   30   60000       IT\n",
       "2   3  Charlie   35   55000       IT\n",
       "3   4    David   40   70000  Finance\n",
       "4   5      Eve   28   65000       HR"
      ]
     },
     "execution_count": 4,
     "metadata": {},
     "output_type": "execute_result"
    }
   ],
   "source": [
    "data = {\n",
    "    \"id\": [1, 2, 3, 4, 5],\n",
    "    \"name\": [\"Alice\", \"Bob\", \"Charlie\", \"David\", \"Eve\"],\n",
    "    \"age\": [25, 30, 35, 40, 28],\n",
    "    \"salary\": [50000, 60000, 55000, 70000, 65000],\n",
    "    \"dept\": [\"HR\", \"IT\", \"IT\", \"Finance\", \"HR\"]\n",
    "}\n",
    "\n",
    "dpd = pd.DataFrame(data)\n",
    "dpd"
   ]
  },
  {
   "cell_type": "code",
   "execution_count": 5,
   "id": "2c0f494b",
   "metadata": {},
   "outputs": [
    {
     "data": {
      "text/html": [
       "<div><style>\n",
       ".dataframe > thead > tr,\n",
       ".dataframe > tbody > tr {\n",
       "  text-align: right;\n",
       "  white-space: pre-wrap;\n",
       "}\n",
       "</style>\n",
       "<small>shape: (5, 5)</small><table border=\"1\" class=\"dataframe\"><thead><tr><th>id</th><th>name</th><th>age</th><th>salary</th><th>dept</th></tr><tr><td>i64</td><td>str</td><td>i64</td><td>i64</td><td>str</td></tr></thead><tbody><tr><td>1</td><td>&quot;Alice&quot;</td><td>25</td><td>50000</td><td>&quot;HR&quot;</td></tr><tr><td>2</td><td>&quot;Bob&quot;</td><td>30</td><td>60000</td><td>&quot;IT&quot;</td></tr><tr><td>3</td><td>&quot;Charlie&quot;</td><td>35</td><td>55000</td><td>&quot;IT&quot;</td></tr><tr><td>4</td><td>&quot;David&quot;</td><td>40</td><td>70000</td><td>&quot;Finance&quot;</td></tr><tr><td>5</td><td>&quot;Eve&quot;</td><td>28</td><td>65000</td><td>&quot;HR&quot;</td></tr></tbody></table></div>"
      ],
      "text/plain": [
       "shape: (5, 5)\n",
       "┌─────┬─────────┬─────┬────────┬─────────┐\n",
       "│ id  ┆ name    ┆ age ┆ salary ┆ dept    │\n",
       "│ --- ┆ ---     ┆ --- ┆ ---    ┆ ---     │\n",
       "│ i64 ┆ str     ┆ i64 ┆ i64    ┆ str     │\n",
       "╞═════╪═════════╪═════╪════════╪═════════╡\n",
       "│ 1   ┆ Alice   ┆ 25  ┆ 50000  ┆ HR      │\n",
       "│ 2   ┆ Bob     ┆ 30  ┆ 60000  ┆ IT      │\n",
       "│ 3   ┆ Charlie ┆ 35  ┆ 55000  ┆ IT      │\n",
       "│ 4   ┆ David   ┆ 40  ┆ 70000  ┆ Finance │\n",
       "│ 5   ┆ Eve     ┆ 28  ┆ 65000  ┆ HR      │\n",
       "└─────┴─────────┴─────┴────────┴─────────┘"
      ]
     },
     "execution_count": 5,
     "metadata": {},
     "output_type": "execute_result"
    }
   ],
   "source": [
    "dpl = pl.DataFrame(data)\n",
    "dpl"
   ]
  },
  {
   "cell_type": "code",
   "execution_count": 6,
   "id": "29a07d8b",
   "metadata": {},
   "outputs": [
    {
     "data": {
      "text/plain": [
       "0      Alice\n",
       "1        Bob\n",
       "2    Charlie\n",
       "3      David\n",
       "4        Eve\n",
       "Name: name, dtype: object"
      ]
     },
     "execution_count": 6,
     "metadata": {},
     "output_type": "execute_result"
    }
   ],
   "source": [
    "dpd['name']"
   ]
  },
  {
   "cell_type": "code",
   "execution_count": 7,
   "id": "12f3433a",
   "metadata": {},
   "outputs": [
    {
     "data": {
      "text/html": [
       "<div><style>\n",
       ".dataframe > thead > tr,\n",
       ".dataframe > tbody > tr {\n",
       "  text-align: right;\n",
       "  white-space: pre-wrap;\n",
       "}\n",
       "</style>\n",
       "<small>shape: (5,)</small><table border=\"1\" class=\"dataframe\"><thead><tr><th>name</th></tr><tr><td>str</td></tr></thead><tbody><tr><td>&quot;Alice&quot;</td></tr><tr><td>&quot;Bob&quot;</td></tr><tr><td>&quot;Charlie&quot;</td></tr><tr><td>&quot;David&quot;</td></tr><tr><td>&quot;Eve&quot;</td></tr></tbody></table></div>"
      ],
      "text/plain": [
       "shape: (5,)\n",
       "Series: 'name' [str]\n",
       "[\n",
       "\t\"Alice\"\n",
       "\t\"Bob\"\n",
       "\t\"Charlie\"\n",
       "\t\"David\"\n",
       "\t\"Eve\"\n",
       "]"
      ]
     },
     "execution_count": 7,
     "metadata": {},
     "output_type": "execute_result"
    }
   ],
   "source": [
    "dpl['name']"
   ]
  },
  {
   "cell_type": "code",
   "execution_count": 8,
   "id": "4dd83b11",
   "metadata": {},
   "outputs": [
    {
     "data": {
      "text/html": [
       "<div><style>\n",
       ".dataframe > thead > tr,\n",
       ".dataframe > tbody > tr {\n",
       "  text-align: right;\n",
       "  white-space: pre-wrap;\n",
       "}\n",
       "</style>\n",
       "<small>shape: (5, 1)</small><table border=\"1\" class=\"dataframe\"><thead><tr><th>name</th></tr><tr><td>str</td></tr></thead><tbody><tr><td>&quot;Alice&quot;</td></tr><tr><td>&quot;Bob&quot;</td></tr><tr><td>&quot;Charlie&quot;</td></tr><tr><td>&quot;David&quot;</td></tr><tr><td>&quot;Eve&quot;</td></tr></tbody></table></div>"
      ],
      "text/plain": [
       "shape: (5, 1)\n",
       "┌─────────┐\n",
       "│ name    │\n",
       "│ ---     │\n",
       "│ str     │\n",
       "╞═════════╡\n",
       "│ Alice   │\n",
       "│ Bob     │\n",
       "│ Charlie │\n",
       "│ David   │\n",
       "│ Eve     │\n",
       "└─────────┘"
      ]
     },
     "execution_count": 8,
     "metadata": {},
     "output_type": "execute_result"
    }
   ],
   "source": [
    "dpl.select('name')"
   ]
  },
  {
   "cell_type": "code",
   "execution_count": 9,
   "id": "c1ebd569",
   "metadata": {},
   "outputs": [
    {
     "data": {
      "text/html": [
       "col(\"name\")"
      ],
      "text/plain": [
       "<Expr ['col(\"name\")'] at 0x77D80A4403A0>"
      ]
     },
     "execution_count": 9,
     "metadata": {},
     "output_type": "execute_result"
    }
   ],
   "source": [
    "pl.col(\"name\")"
   ]
  },
  {
   "cell_type": "code",
   "execution_count": 10,
   "id": "af20d6ac",
   "metadata": {},
   "outputs": [
    {
     "data": {
      "text/html": [
       "<div><style>\n",
       ".dataframe > thead > tr,\n",
       ".dataframe > tbody > tr {\n",
       "  text-align: right;\n",
       "  white-space: pre-wrap;\n",
       "}\n",
       "</style>\n",
       "<small>shape: (5, 2)</small><table border=\"1\" class=\"dataframe\"><thead><tr><th>name</th><th>salary</th></tr><tr><td>str</td><td>i64</td></tr></thead><tbody><tr><td>&quot;Alice&quot;</td><td>50000</td></tr><tr><td>&quot;Bob&quot;</td><td>60000</td></tr><tr><td>&quot;Charlie&quot;</td><td>55000</td></tr><tr><td>&quot;David&quot;</td><td>70000</td></tr><tr><td>&quot;Eve&quot;</td><td>65000</td></tr></tbody></table></div>"
      ],
      "text/plain": [
       "shape: (5, 2)\n",
       "┌─────────┬────────┐\n",
       "│ name    ┆ salary │\n",
       "│ ---     ┆ ---    │\n",
       "│ str     ┆ i64    │\n",
       "╞═════════╪════════╡\n",
       "│ Alice   ┆ 50000  │\n",
       "│ Bob     ┆ 60000  │\n",
       "│ Charlie ┆ 55000  │\n",
       "│ David   ┆ 70000  │\n",
       "│ Eve     ┆ 65000  │\n",
       "└─────────┴────────┘"
      ]
     },
     "execution_count": 10,
     "metadata": {},
     "output_type": "execute_result"
    }
   ],
   "source": [
    "dpl.select([pl.col(\"name\"), pl.col(\"salary\")])"
   ]
  },
  {
   "cell_type": "code",
   "execution_count": 11,
   "id": "3e4ef30f",
   "metadata": {},
   "outputs": [
    {
     "data": {
      "text/html": [
       "<div><style>\n",
       ".dataframe > thead > tr,\n",
       ".dataframe > tbody > tr {\n",
       "  text-align: right;\n",
       "  white-space: pre-wrap;\n",
       "}\n",
       "</style>\n",
       "<small>shape: (5, 2)</small><table border=\"1\" class=\"dataframe\"><thead><tr><th>name</th><th>salary</th></tr><tr><td>str</td><td>i64</td></tr></thead><tbody><tr><td>&quot;Alice&quot;</td><td>50000</td></tr><tr><td>&quot;Bob&quot;</td><td>60000</td></tr><tr><td>&quot;Charlie&quot;</td><td>55000</td></tr><tr><td>&quot;David&quot;</td><td>70000</td></tr><tr><td>&quot;Eve&quot;</td><td>65000</td></tr></tbody></table></div>"
      ],
      "text/plain": [
       "shape: (5, 2)\n",
       "┌─────────┬────────┐\n",
       "│ name    ┆ salary │\n",
       "│ ---     ┆ ---    │\n",
       "│ str     ┆ i64    │\n",
       "╞═════════╪════════╡\n",
       "│ Alice   ┆ 50000  │\n",
       "│ Bob     ┆ 60000  │\n",
       "│ Charlie ┆ 55000  │\n",
       "│ David   ┆ 70000  │\n",
       "│ Eve     ┆ 65000  │\n",
       "└─────────┴────────┘"
      ]
     },
     "execution_count": 11,
     "metadata": {},
     "output_type": "execute_result"
    }
   ],
   "source": [
    "dpl.select(['name', 'salary'])"
   ]
  },
  {
   "cell_type": "markdown",
   "id": "d3ff6c03",
   "metadata": {},
   "source": [
    "##### select"
   ]
  },
  {
   "cell_type": "code",
   "execution_count": 14,
   "id": "406177b4",
   "metadata": {},
   "outputs": [],
   "source": [
    "# ❌❌ ERROR:- AttributeError: 'str' object has no attribute 'mean' ❌❌\n",
    "\n",
    "# dpl.select(['salary'.mean().alias('avg_salary'),\n",
    "#             'age'.max().alias('oldest_age')])"
   ]
  },
  {
   "cell_type": "code",
   "execution_count": 13,
   "id": "50f669aa",
   "metadata": {},
   "outputs": [
    {
     "data": {
      "text/html": [
       "<div><style>\n",
       ".dataframe > thead > tr,\n",
       ".dataframe > tbody > tr {\n",
       "  text-align: right;\n",
       "  white-space: pre-wrap;\n",
       "}\n",
       "</style>\n",
       "<small>shape: (1, 2)</small><table border=\"1\" class=\"dataframe\"><thead><tr><th>avg_salary</th><th>oldest_age</th></tr><tr><td>f64</td><td>i64</td></tr></thead><tbody><tr><td>60000.0</td><td>40</td></tr></tbody></table></div>"
      ],
      "text/plain": [
       "shape: (1, 2)\n",
       "┌────────────┬────────────┐\n",
       "│ avg_salary ┆ oldest_age │\n",
       "│ ---        ┆ ---        │\n",
       "│ f64        ┆ i64        │\n",
       "╞════════════╪════════════╡\n",
       "│ 60000.0    ┆ 40         │\n",
       "└────────────┴────────────┘"
      ]
     },
     "execution_count": 13,
     "metadata": {},
     "output_type": "execute_result"
    }
   ],
   "source": [
    "dpl.select([pl.col(\"salary\").mean().alias('avg_salary'),\n",
    "            pl.col(\"age\").max().alias('oldest_age')])"
   ]
  }
 ],
 "metadata": {
  "kernelspec": {
   "display_name": "Python 3",
   "language": "python",
   "name": "python3"
  },
  "language_info": {
   "codemirror_mode": {
    "name": "ipython",
    "version": 3
   },
   "file_extension": ".py",
   "mimetype": "text/x-python",
   "name": "python",
   "nbconvert_exporter": "python",
   "pygments_lexer": "ipython3",
   "version": "3.10.12"
  }
 },
 "nbformat": 4,
 "nbformat_minor": 5
}
